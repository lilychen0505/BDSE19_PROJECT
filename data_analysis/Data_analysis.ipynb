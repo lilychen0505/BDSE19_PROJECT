{
 "cells": [
  {
   "cell_type": "code",
   "execution_count": 24,
   "id": "8c5f6353-079d-43cd-8201-bbbc22283990",
   "metadata": {},
   "outputs": [],
   "source": [
    "import numpy as np\n",
    "import pandas as pd\n",
    "\n",
    "from sklearn.preprocessing import StandardScaler\n",
    "from sklearn.model_selection import train_test_split\n",
    "\n",
    "from sklearn.linear_model import LinearRegression\n",
    "import lightgbm as lgb\n",
    "from sklearn.metrics import mean_squared_error\n",
    "pd.set_option('max_columns', 20)\n",
    "pd.set_option('max_columns', None)\n",
    "\n",
    "# pd.set_option('max_rows', 500)"
   ]
  },
  {
   "cell_type": "code",
   "execution_count": 48,
   "id": "dfaac022-a5c5-4f74-bcb3-5b2139b812b9",
   "metadata": {},
   "outputs": [],
   "source": [
    "data = pd.read_csv('../csv/dataClean_forPrice_20210719.csv', index_col=0, encoding='utf-8')"
   ]
  },
  {
   "cell_type": "code",
   "execution_count": 56,
   "id": "b0dde52f-7b46-46f8-b8e9-1299d8e74be0",
   "metadata": {},
   "outputs": [
    {
     "name": "stdout",
     "output_type": "stream",
     "text": [
      "<class 'pandas.core.frame.DataFrame'>\n",
      "Int64Index: 54150 entries, 0 to 54149\n",
      "Data columns (total 4 columns):\n",
      " #   Column       Non-Null Count  Dtype\n",
      "---  ------       --------------  -----\n",
      " 0   car_brand    54150 non-null  int64\n",
      " 1   car_year     54150 non-null  int64\n",
      " 2   car_mileage  54150 non-null  int64\n",
      " 3   car_price    54150 non-null  int64\n",
      "dtypes: int64(4)\n",
      "memory usage: 2.1 MB\n"
     ]
    }
   ],
   "source": [
    "data.info()"
   ]
  },
  {
   "cell_type": "code",
   "execution_count": 55,
   "id": "dbc2fe45-03ad-46ec-8721-fa59935e6afc",
   "metadata": {},
   "outputs": [],
   "source": [
    "data.drop(columns=['source', 'car_model'], inplace=True)"
   ]
  },
  {
   "cell_type": "code",
   "execution_count": 35,
   "id": "b44f8fe1-b8e7-4331-94fd-241a95ee22f3",
   "metadata": {
    "collapsed": true,
    "jupyter": {
     "outputs_hidden": true
    },
    "tags": []
   },
   "outputs": [
    {
     "name": "stdout",
     "output_type": "stream",
     "text": [
      "['ALTIS' 'DELICA' 'CARRY' 'MARCH' 'SENTRA' 'KUGA' 'FOCUS 五門' 'ZINGER'\n",
      " 'CR-V' 'LIVINA' 'TIIDA 5門' 'CAMRY' 'WISH' 'VIOS' 'MAZDA 5' 'FORTIS'\n",
      " 'VERYCA' 'MAZDA 3' 'AURIS' 'COLT PLUS' 'KICKS' 'HR-V' 'SIENTA' 'FIT'\n",
      " 'SANTA FE' 'CITY' 'TEANA' 'YARIS' 'S5 TURBO' 'SX4' 'RAV4' 'INNOVA'\n",
      " 'FOCUS' 'OUTLANDER' 'MAZDA3 5門' 'TUCSON' 'IX35' 'TIIDA' 'PREVIA'\n",
      " 'X-TRAIL' 'CX-3' 'CIVIC' 'FIESTA' 'LANCER IO' 'U6 TURBO' 'ACCORD' 'C-HR'\n",
      " 'ELANTRA' 'ODYSSEY' 'FORESTER' 'SERENA Q-RV' 'SWIFT' 'SIENNA' 'CX-5'\n",
      " 'CX-9' 'MAZDA 2' 'FOCUS ST' 'KONA' 'STAREX' 'LEVORG' 'IS200t' 'U5' 'JUKE'\n",
      " 'FOCUS 四門' 'I30' 'PORTER' 'ESCAPE' 'M7 TURBO' 'SAVRIN' 'CAMRY HYBRID'\n",
      " 'LANCER FORTIS' 'VITARA' 'CANTER' '7 SUV' 'ALPHARD' '7 MPV' 'ESCORT'\n",
      " 'RX200t' 'OUTBACK' 'MAZDA6' 'TIIDA 4門' 'MATRIX' 'MAZDA 6' 'MONDEO'\n",
      " '5 SEDAN' 'ECONOVAN' 'PRIUS C' 'GRUNDER' 'NX200t' 'JIMNY' 'MUSTANG'\n",
      " 'U7 TURBO' 'S3' 'NX200' 'RX300' 'IGNIS' 'I-MAX' 'XV' 'ECLIPSE' 'UX200'\n",
      " 'PRIUS' 'RANGER' 'LANCER' 'TACOMA' 'WRX' 'SUPRA' '300' 'I30 CW' 'TOURNEO'\n",
      " 'I10' 'ES250' 'LEGACY' 'GRAND LANCER' 'MORNING' 'IMPREZA' 'TRIBUTE'\n",
      " '318I' 'X5' 'SCIROCCO' 'RANGE ROVER EVOQUE' 'IS250' 'TIGUAN' '428I'\n",
      " 'CLA-CLASS' 'ES240' 'ML-CLASS' '218i' '328I GT' 'GOLF' 'KODIAQ' 'E250'\n",
      " 'C300' 'T6 CARAVELLE' '120I' 'CLA250' 'COPPER' '116I' 'XC60' 'GLC 300'\n",
      " '320' 'C250' 'S350' '316' 'X6' '520I' 'GRAND VITARA' 'T4 CARAVELLE VR6'\n",
      " 'A5 COUPE' 'A250' 'OCTAVIA' 'GLE43' 'Z4' 'A1' 'ROGUE' 'GLA180'\n",
      " 'ZACE SURF' 'E200' 'C43 AMG' 'FORFOUR' '3008' 'RX400h' '320I' 'A180'\n",
      " 'TOURAN' 'HIACE' 'S5' 'PASSAT' 'T5' 'MACAN' '528I' 'E350' 'E-CLASS'\n",
      " 'COUNTRYMAN S' 'A3' 'E400' 'X1' '520D' 'CLA200' 'KAON' 'C4' 'CT200h'\n",
      " 'PREMIO' 'A6' 'X2' '207 CC' '428I GRAN COUPE' 'CITIGO' 'A3 SPORTBACK'\n",
      " 'POLO' '730' 'C180' 'A4' 'VITO' '118i' 'CAYENNE' '5 SERIES TOURING'\n",
      " 'CLS-CLASS' 'V60' 'COOPER S' 'Q30' '420I GRAN COUPE' 'C-CLASS ESTATE'\n",
      " 'B180' 'X3' 'CLS350' '2 SERIES' 'GLC-CLASS' '523I' 'T-CROSS' 'C200K'\n",
      " 'V40' 'GLA250' '2008' '420I COUPE' 'E240' 'S40' 'ML350' 'PRIUS ALPHA'\n",
      " '7 SERIES SEDAN' 'YETI' 'E-CLASS COUPE' 'FABIA' 'COUNTRYMAN' '220i'\n",
      " '6 SERIES COUPE' 'GOLF GTI' 'B200' 'SERENA' 'S320' 'X250D' '3 SERIES'\n",
      " 'E220' '335CI' 'VERNA' '323I' '328I' 'A4 AVANT' 'GOLF VARIANT' 'XJ-6'\n",
      " 'A6 AVANT' 'Q50' 'TIERRA' 'Q5' 'ES300h' '320 GT' 'PR-Z' 'QX70' 'RX450h'\n",
      " 'GLA200D' 'IS300h' 'V-CLASS' '520' 'X4 M40I' 'E300' 'ECOSPORT' 'COPPER S'\n",
      " 'CADDY' 'GLA200' 'A3 SEDAN' 'COOPER' '208' '508' 'GS250' 'BOXSTER' 'TT'\n",
      " '206' 'COOPER CLUB MAN' 'COOPER COUNTRY MAN' '318' 'V50' 'RX270'\n",
      " 'PHAETON' 'MPV' 'SMART FORTWO' 'SLK200' 'XC90' 'FORTWO'\n",
      " '1 SERIES HATCHBACK' '335I' 'ZACE' 'C200' 'A7' 'A5' '1 SERIES' '520D GT'\n",
      " 'A45 AMG' '330' 'STAVIC' 'Q7' '218D' 'SENTRA M1' 'PREMACY'\n",
      " 'COROLLA CROSS HYBRID' '740LI' 'FABIA COMBI' 'E280' 'CAYMAN' 'CIVIC SI'\n",
      " 'S450' 'G-CLASS AMG' 'C-CLASS' 'C240' 'A5 SPORTBACK' 'Q3'\n",
      " '3 SERIES TOURING' '135' 'M3 COUPE' 'PICANTO' 'FREELANDER 2'\n",
      " 'SUPERB COMBI' 'S60' 'RX350' '3 SERIES SEDAN' 'AMAROK' 'OCTAVIA COMBI'\n",
      " 'C220' 'COUNTRYMAN JCW' 'LS460L' 'NX300h' 'RX330' '530I' 'R-CLASS'\n",
      " 'LEADCA' 'CRAFTER' 'X4 XDRIVE35I' 'ES200' 'CARENS' 'CABRIO S' 'GLC43'\n",
      " 'FX35' 'C-CLASS COUPE' '535' 'M3 SEDAN' 'VENTO' 'DISCOVERY' 'SHARAN' 'S4'\n",
      " '107' 'M6 COUPE' 'CLUBMAN' 'NX300' '325' 'GLK350' 'PIK UP' 'RAPID' 'G37'\n",
      " 'ES350' '318D SEDAN' 'CLA45 AMG' 'SCORPIO' 'X-TYPE' 'S80' 'ELF'\n",
      " 'T5 CARAVELLE' '5 SERIES' 'GS300' '435I GRAN COUPE' 'GALLARDO' 'TOUAREG'\n",
      " '640I GRAN COUPE' 'Q2 35 TFSI' 'EVOQUE' 'A200' 'VARICA' '120D' 'C55 AMG'\n",
      " 'LX470' 'FUWIN' 'G-CLASS' 'MAXI' 'FREECA' 'GETZ' '370Z' 'GS300h' 'F-PACE'\n",
      " '458 SPIDER' 'GIULIA' 'A35 AMG' 'LANCER SPORTBACK' 'T4' '540I' 'XE'\n",
      " 'CAMARO' 'C63 AMG' '86' 'E200K' '3 SERIES COUPE' 'GOLF PLUS' 'MX-5'\n",
      " 'SOLIO' '525I' '308' '740' '530' 'C280' 'BEETLE' 'CHALLENGER' 'SIRION'\n",
      " 'CABSTAR' 'X系列' 'C230' '5 SERIES SEDAN' 'X4 XDRIVE28I' '430I GRAN COUPE'\n",
      " 'G35' '6 SERIES SEDAN' 'GRANTURISMO MC STRADALE' 'ACTIVA' 'SAVVY'\n",
      " 'ZAFIRA' 'GLOBAL LANCER' 'E230' '207' 'JETTA' 'VIRAGE IO' 'CUBE'\n",
      " 'E-CLASS ESTATE' 'GEN 2' 'LUPO' 'RAM' 'CIVIC TYPE R' 'CLS400'\n",
      " 'GRANTURISMO' 'SPACE GEAR' 'AUMARK' 'RAPID SPACEBAK' 'COROLLA' 'CX-7'\n",
      " 'M’WAY' 'SENTRA 180' '9月3日' 'BLUEBIRD SYLPHY' 'IS200' 'HILUX' 'VERITA'\n",
      " 'VELOSTER' 'JUMBUCK' 'GLC220D' 'E53 AMG' 'MINI JCW' 'GRAND STAREX' '735'\n",
      " 'GLB250' 'MUSSO SPORT' 'Levante' '535I GT' 'M4 COUPE' 'AVENTADOR' '500'\n",
      " 'C400' 'MINI' 'A220' 'PACEMAN' 'PANDA' 'X4 XDRIVE30I' 'RX-8' '430I COUPE'\n",
      " 'VERYCA MAGIC' '550i' '318IZA' 'SL-CLASS' 'KAROQ' 'S400' 'BRZ' 'CHEROKEE'\n",
      " 'PANAMERA' 'C350' 'URX' 'CARNES' 'CIVIC FERIO' '1007' '5008' 'M5 SEDAN'\n",
      " 'GLC250' 'GT-R' 'KUV100' 'CONTINENTAL' 'GLE400' 'TRAJET' 'AMG GT' 'ATOS'\n",
      " 'TERCEL' 'STELVIO' '4C' 'XK' 'IS 300' 'S400H' 'R8' '190E' '323 PROTEGE'\n",
      " 'ES330' 'GALANT' '300E' 'E320' 'POINTER' 'RS6' 'YARIS ' 'VIOS '\n",
      " 'GRAND STAREX ' 'E-CLASS COUPE C207 ' 'OUTLANDER ' 'ALTIS ' 'MARCH '\n",
      " 'COLT PLUS ' 'BIG TIIDA 5D ' 'IS ' 'S5 TURBO ECO HYPER' 'CR-V '\n",
      " 'FORESTER ' 'ECOSPORT ' 'CAMRY ' 'TIIDA 5D ' 'WISH ' 'RAV4 ' 'iTIIDA '\n",
      " 'MINI HATCH 5D ' 'U6 GT' 'U7 TURBO ' 'SUPER ELANTRA ' 'GLA-CLASS X156 '\n",
      " 'KUGA ' 'SUPER DELICA' 'E-CLASS W213 ' 'X-TRAIL ' 'FIT ' 'SUPER SENTRA '\n",
      " 'NX ' 'LANCER IO ' 'LANCER FORTIS ' 'FOCUS 5D ' 'X1 F48 '\n",
      " 'LUXGEN7 MPV 2.2T' 'NEW CANTER' 'M7 TURBO ECO HYPER ' 'MAZDA 3 '\n",
      " 'C-CLASS SEDAN W205 ' 'MAZDA 5 ' 'ES ' '2 SERIES ACTIVE TOURER '\n",
      " 'SIENNA ' 'DELICA貨車' 'TEANA ' 'E-CLASS W212 ' 'GOLF VII'\n",
      " '3 SERIES SEDAN F30 ' 'ELANTRA EX ' 'A-CLASS W177' 'CIVIC ' 'PREVIA '\n",
      " 'ESCAPE ' '1 SERIES F20' 'M7 TURBO ' 'C-CLASS W205 COUPE ' 'COUNTRYMAN '\n",
      " 'FOCUS 5D' 'GLE-CLASS COUPE ' 'FIESTA ' 'SANTA FE '\n",
      " '2 SERIES GRAN COUPE 2020-' 'YARIS CROSSOVER' 'GLC-CLASS COUPE '\n",
      " 'FOCUS 4D' 'MAZDA 3 4D ' 'LEVANTE' 'B-CLASS W246 ' 'C-CLASS SEDAN W204 '\n",
      " 'S90' 'FORFOUR ' 'LUXGEN7 SUV 2.2T' 'FOCUS ' 'MAZDA 3 5D '\n",
      " 'GRAND LIVINA ' 'ODYSSEY ' 'U6 TURBO ECO HYPER ' 'X5 F15 ' 'CANTER '\n",
      " 'ELANTRA ' 'VERYCA 廂車' 'TIGUAN ' 'MONDEO ' 'COOPER COUNTRYMAN'\n",
      " '3 SERIES SEDAN F30' 'RX ' 'CX-5 ' 'SAVRIN ' '5 SERIES SEDAN F10' 'CITY '\n",
      " '5 SERIES SEDAN G30 ' 'TUCSON ' 'SONATA ' 'MAZDA 3 5D' 'OCTAVIA COMBI '\n",
      " 'I30 HATCHBACK' 'SWIFT ' 'MAZDA2' 'GOLF SPORTSVAN' 'U6 TURBO '\n",
      " 'V-CLASS W447 ' '7 SERIES SEDAN F01 ' 'OUTBACK ' 'POLO ' 'I10 '\n",
      " 'VELOSTER ' 'ECONOVAN貨車 ' 'VERYCA 貨車' 'GETZ 5D' 'VITARA ' 'CX-30' 'SOUL '\n",
      " 'NEW DELICA 廂車' 'C-CLASS ESTATE ' 'A-CLASS W176' 'ACCORD ' 'DELICA 廂車'\n",
      " 'BALENO' 'VERYCA貨車 ' '370Z ' 'NEW TACOMA' 'ELF ' 'UX' 'COLT PLUS IO '\n",
      " 'Q2' 'MUSTANG ' 'LEGACY ' 'MAZDA 6 ' 'X2 F39 ' 'GRAND LIVINA' 'VERYCA廂車 '\n",
      " 'CAYENNE ' 'TIIDA 4D ' 'MAZDA 6 5D Wagon' 'SHARAN '\n",
      " '5 SERIES TOURING F11' 'MATRIX ' 'X3 F25' 'CLS-CLASS W218 ' 'TRIBUTE '\n",
      " 'SX4 5D' '1SERIES ' 'U7 TURBO ECO HYPER' 'SUPER CARRY' 'FORTWO '\n",
      " 'SUPER SENTRA' 'TIIDA 4D' 'JUKE ' 'XV ' 'NEW DELICA 貨車' 'COROLLA CROSS'\n",
      " 'TRAVELLER' 'X4 F26 ' 'LIVINA ' 'MINI HATCH 3D ' 'GLC-CLASS '\n",
      " 'VERYCA A190 貨車 ' 'SERENA ' 'CANTER02' 'GLE-CLASS' 'SLK-CLASS R172 '\n",
      " 'NEW DELICA 貨車 2019-' '7 SERIES SEDAN G11' 'Q5 ' 'ROGUE ' 'JX' 'ALTIMA '\n",
      " 'LEADCA ' 'DELICA貨車 ' 'FIESTA 5D HATCHBACK' 'Q3 '\n",
      " '6 SERIES GRAN COUPE F06' 'SUPER FUWIN' 'TOURAN ' 'IMPREZA ' 'X3 G01'\n",
      " 'S-CLASS W222 ' 'CADDY ' 'A4 B9 ' '4 SERIES GRAN COUPE '\n",
      " 'CLA-CLASS SHOOTING BRAKE ' 'X6 F16 ' 'SIRION ' 'OUTLANDER IO '\n",
      " 'GLB-CLASS' '6 SERIES GRAN TURISMO G32' 'A1 SPORTBACK ' 'ALTO'\n",
      " 'VERYCA A180廂車 ' 'MAZDA 3 4D' 'NX' 'LAVITA' 'MORNING '\n",
      " 'V40 CROSS COUNTRY ' '3 SERIES SEDAN G20' '2 SERIES GRAN TOURER ' 'QX60 '\n",
      " 'COROLLA SPORT' 'LS ' 'A6 C7 ' 'A3 SPORTBACK ' 'GRUNDER ' 'TERIOS '\n",
      " 'Q50 ' 'FIESTA 4D SEDAN' 'CHALLENGER(DODGE)' 'GHIBLI' 'CAYMAN '\n",
      " 'E-CLASS ESTATE S213 ' 'DELICA廂車 ' '4 SERIES CONVERTIBLE '\n",
      " '3 SERIES GRAN TURISMO F34' 'QX70 ' 'ROVER EVOQUE' 'SPORTAGE ' 'URX2019-'\n",
      " 'GOLF VARIANT 2015-' 'A4 AVANT B8' '5 SERIES GRAN TURISMO F07' 'A4 B8'\n",
      " '4 SERIES COUPE F32 ' 'OCTAVIA ' 'G.VITARA' 'MPV ' 'MONDEO TDCI '\n",
      " 'A8 D4 ' 'T5 KOMBI' 'GOLF V' 'EQUUS' 'R-CLASS W251' 'X1 E84 '\n",
      " 'M-CLASS W166 ' 'GL-CLASS X164 ' 'X6 E71 ' 'XF' 'T5 CARAVELLE LWB'\n",
      " 'GOLF VI' 'COOPER S ' 'CAMRY HYBRID ' 'FLYING SPUR' 'S-TYPE ' 'X5 E70 '\n",
      " 'E-CLASS W210 ' '3 SERIES TOURING F31' 'PASSAT ' 'C-CLASS COUPE W204'\n",
      " 'X3 E83' 'GLE-CLASS ' 'T-ROC' '2 SERIES F22 ' 'SAVRIN INSPIRE'\n",
      " 'ZACE SURF 貨車 ' '9-3 5D ' '3 SERIES SEDAN E46' 'A4 AVANT B8 '\n",
      " 'C-CLASS W204 ' '5 SERIES SEDAN E60' 'GOLF VI PLUS' 'FREECA廂車' 'FREECA貨車'\n",
      " 'TIERRA ACTIVA MAGIC ' 'MONDEO WAGON' 'V40 ' 'Q70 ' 'FABIA '\n",
      " 'COOPER S COUNTRYMAN' 'ECONOVAN貨車' '3 SERIES SEDAN E90 ' '308HDI'\n",
      " 'CT200H ' 'X5 E53' 'M-CLASS W164 ' 'ZACE SURF 廂車 ' 'A4 B8 '\n",
      " 'S-CLASS W221 ' 'M SEDAN' 'EX SUV' 'M-CLASS W166' 'G SEDAN' 'FOCUS TDCI '\n",
      " 'A6 C6 ' 'MAV IXON' 'TIERRA LS ' 'TOURNEO CUSTOM' 'TT COUPE 8J ' 'GS '\n",
      " 'T4 CARAVELLE' 'Q3 SPORTBACK' 'SL-CLASS R230 ' 'GETZ 3D ' 'VENZA'\n",
      " 'PASSAT VARIANT ' 'E-CLASS W211 ' 'GOLF V PLUS' 'LEGACY 5D '\n",
      " 'C-CLASS SEDAN W203 ' 'SLK-CLASS R171 ' '3 SERIES COUPE E92 ' 'XC90 '\n",
      " 'GS 2016-' 'GOLF VI VARIANT' 'VARICA貨車 ' '1 SERIES HATCHBACK E87'\n",
      " '7 SERIES SEDAN E66' '6 SERIES COUPE E63' 'XC70' 'R-CLASS W251 '\n",
      " '7 SERIES ACTIVEHYBRID F04' '7 SERIES SEDAN F02 ' 'HIACE SOLEMIO'\n",
      " 'E-CLASS W207 ' 'FX SUV ' 'ROOMSTER' 'A7 SPORTBACK' 'VARICA 貨車'\n",
      " 'ROVER FREELANDER ' 'ZINGER ' 'SX4 4D' 'LAND CRUISER PRADO'\n",
      " 'GLK-CLASS X204 ' 'FREECA貨車 ' 'A5 COUPE ' 'B-CLASS W245 '\n",
      " 'A5 SPORTBACK 8TA ' 'CLS-CLASS W219' 'GEN2' '3 SERIES TOURING E91 ' 'MP4'\n",
      " '7 SERIES SEDAN E65' 'M-CLASS W164' 'M3 COUPE E92' 'PANAMERA '\n",
      " 'QUATTROPORTE ' '3 SERIES CONVERTIBLE E93 ' '300C' 'S-CLASS W220 '\n",
      " 'M6 COUPE F13' '5 SERIES TOURING E61' 'RODEO' 'C-CLASS W203 '\n",
      " 'ECONOVAN廂車' 'GOA CAMRY' 'VERYCA廂車' '5 SERIES TOURING G31'\n",
      " 'A-CLASS SEDAN V177' 'A7 SPORTBACK ' '508 SW' 'CAYENNE COUPE' 'FT86 '\n",
      " 'Tourneo Connect' 'X4 G02 ' 'Q3 2020~' 'E-CLASS ESTATE S212 ' 'CARENS '\n",
      " 'M3 F80' 'MINI CLUBMAN' 'METRIS' 'NEW BLUEBIRD SYLPHY' 'VENUE'\n",
      " '8 SERIES G16' 'A8 ' 'MURANO' 'MX-5 ' 'VERYCA A210 貨車' 'M WAY' 'S5GT'\n",
      " 'PANAMERA 2017-' 'ROVER DISCOVERY SPORT ' 'SLC-CLASS R172 ' '911 CARRERA'\n",
      " 'Q7 ' '7 SERIES SEDAN E38' 'A8 D3 ' 'CABSTAR ' 'METROSTAR' 'NEW LANCER'\n",
      " 'GLA-CLASS X157' 'X7 G07 ' 'X-CLASS ' 'VARICA廂車 ' 'E-CLASS '\n",
      " 'SPACE GEAR ' 'PRONTO貨車' 'A6 AVANT C7 ' 'C-CLASS W202' 'LANCER '\n",
      " 'ALL NEW COROLLA' 'TT COUPE 8N ' 'SUPERB COMBI ' 'EVERY'\n",
      " 'Z4 ROADSTER E89' 'CORONA' 'GLOBAL LANCER ' 'ROVER FREELANDER 2'\n",
      " 'ROVER EVOQUE ' 'DELICA廂車' 'E2000貨車' 'ISAMU GENKI' '3 SERIES E36' 'C30'\n",
      " 'FOCUS TDCI' 'M5 SEDAN F10' 'ESCUDO' 'PASSAT CC ' 'EURO CARENS '\n",
      " 'IMPREZA 5D ' 'A4 B6 ' 'A1 SPORTBACK' 'T4 KOMBI' 'MODEL X' 'PAJERO '\n",
      " 'C-CLASS COUPE W203 ' 'A3 5D ' '5 SERIES SEDAN E39' 'TIERRA ACTIVA '\n",
      " 'G. VITARA JP' 'SLK-CLASS R170' 'CEFIRO ' 'PRONTO廂車' 'DYNA' '350Z' 'RS5'\n",
      " 'GRAN TURISMO' 'IMPREZA WRX ' 'ALLROAD' 'QX4 SUV' 'COOPER S CLUBMAN'\n",
      " 'MATERIA COO' 'WRANGLER' '207CC ' 'EXSIOR' 'SL-CLASS R129' 'I3' 'A4 B7 '\n",
      " 'XJ-S' 'REXTON' 'A4 AVANT B7 ' '9月5日' 'FUSO' '308THP' 'E-CLASS W123 '\n",
      " 'E2000廂車' 'S-CLASS ' 'G-CLASS W463 ' 'A5 COUPE 8T3 ' 'A3 SEDAN '\n",
      " 'NEW SAVRIN' 'Civic' 'Fit' 'A-Class' 'E-Class Estate' 'GLC' 'Swift'\n",
      " 'Focus' 'Corolla Altis' 'C-Class Sedan' 'Juke' 'CLA' 'RX'\n",
      " '4-Series Gran Coupé' 'Prius' 'X4' 'Panamera' 'M4' 'FX37' 'Yaris'\n",
      " '5-Series Sedan' '6-Series GT' 'Macan' 'T5 Kombi' 'C-Class Coupe'\n",
      " '4-Series Coupe' '3-Series GT' '911 Carrera S' 'Golf' '3' 'Golf GTI'\n",
      " 'Ghibli SQ4' 'E-Class Sedan' 'S-Class Sedan' '7-Series' 'Tiguan' 'Vios'\n",
      " 'Macan GTS' 'Legacy Wagon' 'Flying Spur' 'GLA' '5-Series GT'\n",
      " '3-Series Sedan' 'Cooper' 'C-Class Estate' 'Santa Fe' 'X7'\n",
      " 'Tourneo Custom' 'U6 Turbo ECO Hyper' 'Previa' '1-Series Hatchback'\n",
      " 'GLC Coupe' 'M5' 'Countryman S' 'Cayenne' 'CLS' 'GLE' 'Murano'\n",
      " 'CLS Shooting Brake' 'A5 Sportback' 'Tiguan Allspace' '718 Cayman'\n",
      " 'Alphard' 'B-Class' 'G-Class' '2-Series Active Tourer' 'E-Class Coupe'\n",
      " 'M-Class' 'Hiace' 'CT' 'Cabstar' 'Elf' 'Canter' 'A5 Coupe'\n",
      " '3-Series Coupe' 'Sienta' 'Porter' 'IS' 'M3' 'Impreza Hatchback'\n",
      " 'Clubman' 'Supra' '6' 'Freeca' 'Cayenne GTS' 'Golf R' 'Sienna'\n",
      " 'GLE Coupe' 'Continental GT' 'Wrangler' 'F-Type' 'S-Class Coupe'\n",
      " 'Macan S' 'Lucerne CXL' 'Livina' 'Metris' '3-Series Convertible'\n",
      " '2-Series Gran Coupe' '718 Boxster' 'Kicks' 'CL-Class' 'Camry'\n",
      " 'Panamera4 Sport Turismo' 'SLK' 'LS' 'GranTurismo Sport' 'Cayenne S'\n",
      " 'GL-Class' '6-Series Coupe' 'Quattroporte' 'Countryman' 'XJ' 'GLB'\n",
      " 'Accord' 'Veryca' 'Civic K8' 'Camry Hybrid' 'Lancer Fortis' 'Grunder'\n",
      " 'Elantra' 'S5 Turbo' 'Fiesta' 'X-Trail' 'Roomster' 'Sentra' 'Rapid'\n",
      " 'City' 'Wish' 'Superb Sedan' 'Zinger' 'Corolla' 'ES' 'Tiida' 'M7 Turbo'\n",
      " 'Ix35' 'Outlander' 'Colt Plus' '2' 'Prius C' 'Corolla Altis X' 'Auris'\n",
      " 'A1 Sportback' 'Delica貨車' 'Veryca貨車' 'X3 M' 'Lancer' 'Polo GTI' 'Escape'\n",
      " 'Cooper S' 'Kuga' 'A4 Sedan' '5-Series Touring' 'Touran' 'Veryca廂車'\n",
      " 'Delica廂車' 'Q70' 'U6 Turbo' 'Civic K12' 'Teana' 'Hilux' 'Polo' 'March'\n",
      " 'Yeti' 'QX60' 'Mini' 'Rogue' 'Citigo' 'Odyssey' '2-Series Coupe' 'Caddy'\n",
      " 'Corolla Altis Hybrid' 'Civic Type R' 'R8 Coupe' 'Golf Variant'\n",
      " 'A3 Sportback' 'I8' 'Range Rover' 'Fabia' 'Mondeo' 'U7 Turbo' 'Mustang'\n",
      " 'Grand Lancer' 'Tucson' '718 Boxster S' 'CLA Shooting Brake' 'Premacy'\n",
      " 'Corolla Sport' 'Ranger' 'S5 GT' '3-Series Touring' '5'\n",
      " 'M7 Turbo EcoHyper' 'C-Class Cabriolet' 'Discovery 5' 'Challenger'\n",
      " '2-Series Convertible' 'GLS' 'Arnage' 'Morning' 'Cabrio S' 'GranTurismo'\n",
      " 'GLK' 'One' 'Forfour' 'X4 M' 'Defender' 'A7 Sportback' 'EX35' 'Zace'\n",
      " 'Serena QRV' 'Carry' 'Econovan' '718 Cayman GT4' 'Macan Turbo' 'Gallardo'\n",
      " 'GranTurismo MC Stradale' 'Varica' 'Ignis' 'GS' '987 Cayman S'\n",
      " 'SX4 Crossover' 'Ghibli' 'Kodiaq' 'A6 Avant' 'Forester' 'Passat'\n",
      " 'Range Rover Evoque' 'I-Max' 'Savrin' 'ASX' 'Levorg' '911 GT3'\n",
      " '4-Series Convertible' 'V-Class' 'Model 3' 'A3 5D' 'Model X' 'Solio' 'M6'\n",
      " 'Sportsvan' 'Corolla Cross' '911 Carrera' 'Activa' 'Magic' 'M37' 'Beetle'\n",
      " 'T5 Caravelle' \"M'car\" 'Passat Variant' 'EcoSport' 'Cayman' 'Jimny' 'M2'\n",
      " 'Space Gear' 'Innova' 'LP560-4' 'Terios' 'Countryman JCW' 'A8'\n",
      " 'S5 Sportback' 'A4 Avant' 'QX30' 'Stelvio' 'GLE Class' 'Sharan' 'A8L'\n",
      " 'T6 Caravelle' 'A6 Allroad' 'XJ6' '6-Series Gran Coupe' '1-Series Coupe'\n",
      " 'G Sedan' 'Scirocco' 'Kona' 'Focus Active' 'Jetta' 'Vitara'\n",
      " 'Grand Livina' '6 Wagon' 'Outback' 'U7 Turbo ECO Hyper' 'R-Class'\n",
      " 'Clubman S' 'SC' '5 Sedan' 'Passat CC' 'E-Class Cabriolet' 'Golf Plus'\n",
      " 'Galant' '8-Series Coupe' 'Hatch' 'Levante S' 'ISF' 'SL' 'CR-Z'\n",
      " 'V40 Cross Country' 'Matrix' 'Grand Vitara' 'Range Rover Evoque Coupe'\n",
      " '981 Boxster' 'G25' 'Fortwo' 'Touareg' 'Continental Flying Spur' 'Verita'\n",
      " 'Superb Combi' 'Boxster S' 'Freelander' 'V60 Cross Country' 'Ghibli S'\n",
      " 'Legacy Sedan' 'Vito Tourer' 'Lupo' 'TTS' 'Granvia' '6-Series'\n",
      " 'S3 Sportback' 'A3 Sedan' 'Ferio' 'FX' 'Getz' 'Soul' 'Tierra' 'M8'\n",
      " 'Liana' 'Starex' '206CC' 'Tribute' 'Vento' 'Fabia Combi' 'PRZ' 'Altima'\n",
      " 'Paceman' 'Premio' 'SX-4 Hatchback' 'Verna' 'Escort' 'EVO' 'T6 Multivan'\n",
      " 'TTRS' \"W'car\" 'Octavia' '9-3 Sport Sedan' 'Pajero' 'Rapide' 'Mulsanne'\n",
      " 'Lavita' 'W201' 'Veloster' 'Octavia Combi' 'X-Type' 'Rapid Spaceback'\n",
      " 'S4 Avant' 'Prius α' 'Sirion' 'Range Rover Sport' 'Mondeo Wagon'\n",
      " 'Boxster' 'QX50' 'Vento HL' 'Impreza' 'Continental Supersports'\n",
      " 'Discovery' 'Kaon' '911 GT3 RS' '323' 'Sportage' 'Camaro' 'Tercel'\n",
      " 'Delica' 'S4 Sedan' 'S5 Coupe' 'Zafira' '850' 'V90' 'Boss Zinger'\n",
      " '718 Boxster GTS' 'T-Cross' '9-5 Sedan' 'Super Zinger' 'Golf R32'\n",
      " 'Pronto' 'Panamera4\\x08S Sport Turismo' 'Mini 5-Door' 'Cayenne Turbo'\n",
      " 'LX' 'Eclipse Cross' 'Pointer' 'T5 Multivan' 'Alto' 'Land Cruiser Prado'\n",
      " '981 CaymanS' 'Corvette' 'Carens CRDI' 'Pajero三門款' 'Picanto'\n",
      " '8-Series Gran Coupe' 'Huracan LP610 - 4' 'Panamera 4S' 'NLR' 'XFR'\n",
      " 'Japan Camry Hybrid' 'Panamera 4' 'Bluebird' 'Amarok' 'S-Type'\n",
      " 'Discovery 4' 'F-Pace' '981 Cayman' 'Discovery Sport' '406' 'M35' '997'\n",
      " 'CLK' 'Karoq' 'T-Roc' '2-Series Gran Tourer' 'I-Pace' 'XJS' 'RS 5'\n",
      " 'Super Carry' 'G Coupe' 'X6 M' 'Superb' '911 GTS' 'RS 6 Avant' '331'\n",
      " '458 Spider' 'H2' 'Crafter' 'Scala' 'Corona' 'Coaster' 'Bongo'\n",
      " '9-3 Convertible' 'Coupe' '911 Carrera 4S' 'Euro Star' '488 Spider'\n",
      " 'Fuso' 'JX35' 'Explorer' '940' 'Phaeton' 'Clio' 'Panda' 'HINO'\n",
      " 'RS 3 Sportback' 'Hatch JCW' 'Every' 'Pik Up' 'T6' 'V8 Vantage' 'XC40'\n",
      " 'SLS AMG' 'Gladiator' 'Abarth 595' 'Lancer Sportback' '9-3 XWD' 'Isamu'\n",
      " '996' '341' 'Cefiro' 'Panamera Sport Turismo GTS' 'ISC' 'Kamiq' 'LM'\n",
      " 'S-Class Cabriolet' 'LaCrosse' 'AT2EPN' 'Baleno' 'W123' 'ML-Class' '488'\n",
      " '718 Cayman GTS' 'Jumbuck' 'Bentayga' 'FJ Cruiser' 'Cayenne Coupe'\n",
      " 'Roadster' 'IQ' 'MGF' 'NKR' 'Ghost' '360 Spyder' 'Virage' 'Rexton' 'RX L'\n",
      " 'S2000' 'SLC' 'F-150' 'Tacoma' 'Aumark' 'Countryman S Sport' 'Celica'\n",
      " 'X5 M' 'Dyna' 'Quest' 'Trooper' 'Taycan 4S' 'S6 Avant' 'C2' 'F8 Tributo'\n",
      " 'KingCab' 'Element' 'X-Class' '458 Italia' 'XKR' 'Coo' 'Continental GTC'\n",
      " 'Atos' 'Silver' '106' '407' 'Arteon' 'F430' 'Huracan' 'Solara'\n",
      " 'Metrostar' 'V90 Cross Country' 'Scirocco R' 'Grand Cherokee'\n",
      " 'Cayenne S Coupe' '718 Spyder' 'Vantage' '540 C' \"M'way\" '307 CC'\n",
      " 'Boxster GTS' 'Panamera Sport Turismo' '911 Turbo' '911' 'CL' 'Stinger'\n",
      " 'Wraith' 'Savvy' 'STS' 'CTS' 'Beetle Cabrio' 'Cullinan' '307' 'Leadca新達'\n",
      " 'California T' '360' 'M7 EV' 'RS Q3' '911 Turbo S' 'Stavic' 'Escudo'\n",
      " 'Discovery 3' '207 3D' '7 CEO' 'AMG GT Roadster' 'Z3' 'LP570-4' 'XJL'\n",
      " 'RS 4 Avant' 'DBS' 'Capella' 'Tundra' 'Insight Hybrid' '900i S' 'QX4'\n",
      " 'Urus' '3.49噸' '207 5D' 'AD RESORT' '625C' '308 SW' 'Venza' 'Gen2'\n",
      " 'Prius PHV' 'E2000' 'Matiz' 'Range Rover Velar' 'A4 Allroad' 'Minicab'\n",
      " 'Aventador' 'Portofino' '570 S Spider' 'Tourneo' 'RX-7' 'T4 VR6' 'JCW GP'\n",
      " 'Fuwin' 'Rendezvous' 'MAV' 'Allante' 'V7 Turbo' 'Eclipse'\n",
      " 'Passat Variant R36' 'Dawn' 'Korando' '458' 'GT' 'Phantom' '650 S'\n",
      " 'E-Pace' 'DB9' '911 GT2 RS' 'Civic CV3' 'SRX' '12C' 'Model S'\n",
      " 'S1 Sportback' 'K2500' 'Rio' 'Alpina' '718 Cayman S' 'F-Type Coupe'\n",
      " 'Vanden Plas' 'F 430 Spider' '720S' 'GTC4Lusso' 'S8' 'Carnival'\n",
      " 'Sovereign' '650 S Spider' 'Levante Gransport' 'XJ8' 'Scorpio' 'LP700'\n",
      " 'K2900' 'Frontier' 'Levante Trofeo' '911 GT2' 'K6' 'CHARGER'\n",
      " 'Taycan Turbo' '675 LT' 'LC' 'Carens' 'F12 Berlinetta' '599'\n",
      " '599 GTB Fiorano' 'Astra' 'Corsa' 'Clubman JCW' 'Bora' 'LEAF' 'Giulietta'\n",
      " '159' 'Mito' 'Huracan LP580-2' 'Excelle' '300 ZX' 'Austin Mini'\n",
      " '600LT Spider' 'California' 'Actyon Sports' 'Aventador LP750-4 SV'\n",
      " 'Rifter' 'Crown' 'Econoline' 'S70' 'M1' 'Elise' 'Exige' 'CC' '600LT'\n",
      " 'Rexton II' 'UP' 'Megane Cabriolet' 'DB11' 'Camaro ZL1' '4 Runner'\n",
      " 'Stonic' 'Town Country' 'G Convertible' 'GS F' 'DHS' 'Gazelle' 'MDX'\n",
      " '208 GTi' 'Cube' '147' 'Outlander PHEV' 'Persona' 'Focus Powershift' '1M'\n",
      " '575' 'Rocsta']\n",
      "['TOYOTA' 'MITSUBISHI' 'SUZUKI' 'NISSAN' 'FORD' 'HONDA' 'MAZDA' 'HYUNDAI'\n",
      " 'LUXGEN' 'SUBARU' 'LEXUS' 'HINO' 'KIA' 'BMW' 'VOLKSWAGEN' 'LAND ROVER'\n",
      " 'BENZ' 'SKODA' 'MINI' 'VOLVO' 'AUDI' 'SMART' 'PEUGEOT' 'PORSCHE'\n",
      " 'CITROEN' 'INFINITI' 'JAGUAR' 'MCC' 'SSANGYONG' 'MAHINDRA' 'ISUZU'\n",
      " 'LAMBORGHINI' 'DFSK' 'FERRARI' 'ALFA ROMEO' 'CHEVROLET' 'DODGE'\n",
      " 'DAIHATSU' 'MASERATI' 'PROTON' 'OPEL' 'FOTON' 'TOBE' 'SAAB' 'FIAT' 'JEEP'\n",
      " 'BENTLEY' 'VW' 'LAND' 'MCLAREN' 'CHRYSLER' 'TESLA' 'BUICK' 'CMC'\n",
      " 'ASTON MARTIN' 'AUSTIN' 'HUMMER' 'RENAULT' 'MG' 'ROLLS-ROYCE' 'SCION'\n",
      " 'ACURA' 'CADILLAC' 'IVECO' 'FORMOSA' 'LOTUS' 'ASIA']\n",
      "1625\n",
      "['TOYOTA' 'MITSUBISHI' 'SUZUKI' 'NISSAN' 'FORD' 'HONDA' 'MAZDA' 'HYUNDAI'\n",
      " 'LUXGEN' 'SUBARU' 'LEXUS' 'HINO' 'KIA' 'BMW' 'VOLKSWAGEN' 'LAND ROVER'\n",
      " 'BENZ' 'SKODA' 'MINI' 'VOLVO' 'AUDI' 'SMART' 'PEUGEOT' 'PORSCHE'\n",
      " 'CITROEN' 'INFINITI' 'JAGUAR' 'MCC' 'SSANGYONG' 'MAHINDRA' 'ISUZU'\n",
      " 'LAMBORGHINI' 'DFSK' 'FERRARI' 'ALFA ROMEO' 'CHEVROLET' 'DODGE'\n",
      " 'DAIHATSU' 'MASERATI' 'PROTON' 'OPEL' 'FOTON' 'TOBE' 'SAAB' 'FIAT' 'JEEP'\n",
      " 'BENTLEY' 'VW' 'LAND' 'MCLAREN' 'CHRYSLER' 'TESLA' 'BUICK' 'CMC'\n",
      " 'ASTON MARTIN' 'AUSTIN' 'HUMMER' 'RENAULT' 'MG' 'ROLLS-ROYCE' 'SCION'\n",
      " 'ACURA' 'CADILLAC' 'IVECO' 'FORMOSA' 'LOTUS' 'ASIA']\n",
      "67\n"
     ]
    }
   ],
   "source": [
    "np.set_printoptions(threshold=len(data['car_model'].unique()))\n",
    "print(data['car_model'].unique())\n",
    "print(data['car_brand'].unique())\n",
    "print(len(data['car_model'].unique()))\n",
    "print(data['car_brand'].unique())\n",
    "print(len(data['car_brand'].unique()))"
   ]
  },
  {
   "cell_type": "code",
   "execution_count": 49,
   "id": "d6259d95-7dbb-4bd7-a415-562f399ec3f1",
   "metadata": {},
   "outputs": [],
   "source": [
    "data.loc[data['car_brand'].str.contains('BENZ') == True, 'car_brand'] = 'BENZ'"
   ]
  },
  {
   "cell_type": "code",
   "execution_count": 34,
   "id": "0eafc7a3-9e89-4873-b528-e47b1de25e27",
   "metadata": {},
   "outputs": [
    {
     "data": {
      "text/plain": [
       "1814     BENZ\n",
       "1816     BENZ\n",
       "1822     BENZ\n",
       "1823     BENZ\n",
       "1825     BENZ\n",
       "         ... \n",
       "54130    BENZ\n",
       "54140    BENZ\n",
       "54142    BENZ\n",
       "54143    BENZ\n",
       "54147    BENZ\n",
       "Name: car_brand, Length: 8921, dtype: object"
      ]
     },
     "execution_count": 34,
     "metadata": {},
     "output_type": "execute_result"
    }
   ],
   "source": [
    "data.loc[data['car_brand'].str.contains('BENZ') == True, 'car_brand']"
   ]
  },
  {
   "cell_type": "code",
   "execution_count": 50,
   "id": "39880ee7-cea5-47c6-b5cc-c84b96189de1",
   "metadata": {},
   "outputs": [],
   "source": [
    "car_brand_dict = {k:v for v,k in enumerate(data['car_brand'].unique())}"
   ]
  },
  {
   "cell_type": "code",
   "execution_count": 51,
   "id": "4b27d246-1ea7-4cc7-a17e-17607a1cc1ff",
   "metadata": {},
   "outputs": [
    {
     "name": "stdout",
     "output_type": "stream",
     "text": [
      "{'TOYOTA': 0, 'MITSUBISHI': 1, 'SUZUKI': 2, 'NISSAN': 3, 'FORD': 4, 'HONDA': 5, 'MAZDA': 6, 'HYUNDAI': 7, 'LUXGEN': 8, 'SUBARU': 9, 'LEXUS': 10, 'HINO': 11, 'KIA': 12, 'BMW': 13, 'VOLKSWAGEN': 14, 'LAND ROVER': 15, 'BENZ': 16, 'SKODA': 17, 'MINI': 18, 'VOLVO': 19, 'AUDI': 20, 'SMART': 21, 'PEUGEOT': 22, 'PORSCHE': 23, 'CITROEN': 24, 'INFINITI': 25, 'JAGUAR': 26, 'MCC': 27, 'SSANGYONG': 28, 'MAHINDRA': 29, 'ISUZU': 30, 'LAMBORGHINI': 31, 'DFSK': 32, 'FERRARI': 33, 'ALFA ROMEO': 34, 'CHEVROLET': 35, 'DODGE': 36, 'DAIHATSU': 37, 'MASERATI': 38, 'PROTON': 39, 'OPEL': 40, 'FOTON': 41, 'TOBE': 42, 'SAAB': 43, 'FIAT': 44, 'JEEP': 45, 'BENTLEY': 46, 'VW': 47, 'LAND': 48, 'MCLAREN': 49, 'CHRYSLER': 50, 'TESLA': 51, 'BUICK': 52, 'CMC': 53, 'ASTON MARTIN': 54, 'AUSTIN': 55, 'HUMMER': 56, 'RENAULT': 57, 'MG': 58, 'ROLLS-ROYCE': 59, 'SCION': 60, 'ACURA': 61, 'CADILLAC': 62, 'IVECO': 63, 'FORMOSA': 64, 'LOTUS': 65, 'ASIA': 66}\n"
     ]
    }
   ],
   "source": [
    "print(car_brand_dict)"
   ]
  },
  {
   "cell_type": "code",
   "execution_count": 52,
   "id": "f54b12aa-42b6-43cd-98dd-c50b43d73362",
   "metadata": {},
   "outputs": [],
   "source": [
    "data['car_brand'] = data['car_brand'].map(car_brand_dict)"
   ]
  },
  {
   "cell_type": "code",
   "execution_count": 82,
   "id": "5d038f21-1b50-4f9d-8a3f-b1a1a2d950f0",
   "metadata": {},
   "outputs": [
    {
     "data": {
      "text/html": [
       "<div>\n",
       "<style scoped>\n",
       "    .dataframe tbody tr th:only-of-type {\n",
       "        vertical-align: middle;\n",
       "    }\n",
       "\n",
       "    .dataframe tbody tr th {\n",
       "        vertical-align: top;\n",
       "    }\n",
       "\n",
       "    .dataframe thead th {\n",
       "        text-align: right;\n",
       "    }\n",
       "</style>\n",
       "<table border=\"1\" class=\"dataframe\">\n",
       "  <thead>\n",
       "    <tr style=\"text-align: right;\">\n",
       "      <th></th>\n",
       "      <th>car_brand</th>\n",
       "      <th>car_year</th>\n",
       "      <th>car_mileage</th>\n",
       "      <th>car_price</th>\n",
       "    </tr>\n",
       "  </thead>\n",
       "  <tbody>\n",
       "    <tr>\n",
       "      <th>0</th>\n",
       "      <td>0</td>\n",
       "      <td>2009</td>\n",
       "      <td>197710</td>\n",
       "      <td>196000</td>\n",
       "    </tr>\n",
       "    <tr>\n",
       "      <th>1</th>\n",
       "      <td>1</td>\n",
       "      <td>2016</td>\n",
       "      <td>81609</td>\n",
       "      <td>358000</td>\n",
       "    </tr>\n",
       "    <tr>\n",
       "      <th>2</th>\n",
       "      <td>2</td>\n",
       "      <td>2013</td>\n",
       "      <td>53167</td>\n",
       "      <td>286000</td>\n",
       "    </tr>\n",
       "    <tr>\n",
       "      <th>3</th>\n",
       "      <td>3</td>\n",
       "      <td>2013</td>\n",
       "      <td>92757</td>\n",
       "      <td>238000</td>\n",
       "    </tr>\n",
       "    <tr>\n",
       "      <th>4</th>\n",
       "      <td>3</td>\n",
       "      <td>2015</td>\n",
       "      <td>43307</td>\n",
       "      <td>378000</td>\n",
       "    </tr>\n",
       "    <tr>\n",
       "      <th>...</th>\n",
       "      <td>...</td>\n",
       "      <td>...</td>\n",
       "      <td>...</td>\n",
       "      <td>...</td>\n",
       "    </tr>\n",
       "    <tr>\n",
       "      <th>54145</th>\n",
       "      <td>5</td>\n",
       "      <td>2007</td>\n",
       "      <td>280000</td>\n",
       "      <td>168000</td>\n",
       "    </tr>\n",
       "    <tr>\n",
       "      <th>54146</th>\n",
       "      <td>0</td>\n",
       "      <td>2018</td>\n",
       "      <td>30000</td>\n",
       "      <td>398000</td>\n",
       "    </tr>\n",
       "    <tr>\n",
       "      <th>54147</th>\n",
       "      <td>16</td>\n",
       "      <td>2012</td>\n",
       "      <td>184000</td>\n",
       "      <td>720000</td>\n",
       "    </tr>\n",
       "    <tr>\n",
       "      <th>54148</th>\n",
       "      <td>8</td>\n",
       "      <td>2019</td>\n",
       "      <td>23000</td>\n",
       "      <td>260000</td>\n",
       "    </tr>\n",
       "    <tr>\n",
       "      <th>54149</th>\n",
       "      <td>13</td>\n",
       "      <td>2013</td>\n",
       "      <td>60000</td>\n",
       "      <td>1880000</td>\n",
       "    </tr>\n",
       "  </tbody>\n",
       "</table>\n",
       "<p>54150 rows × 4 columns</p>\n",
       "</div>"
      ],
      "text/plain": [
       "       car_brand  car_year  car_mileage  car_price\n",
       "0              0      2009       197710     196000\n",
       "1              1      2016        81609     358000\n",
       "2              2      2013        53167     286000\n",
       "3              3      2013        92757     238000\n",
       "4              3      2015        43307     378000\n",
       "...          ...       ...          ...        ...\n",
       "54145          5      2007       280000     168000\n",
       "54146          0      2018        30000     398000\n",
       "54147         16      2012       184000     720000\n",
       "54148          8      2019        23000     260000\n",
       "54149         13      2013        60000    1880000\n",
       "\n",
       "[54150 rows x 4 columns]"
      ]
     },
     "execution_count": 82,
     "metadata": {},
     "output_type": "execute_result"
    }
   ],
   "source": [
    "data"
   ]
  },
  {
   "cell_type": "code",
   "execution_count": 109,
   "id": "cb030096-c5c9-4157-aba6-a019d293cf6e",
   "metadata": {},
   "outputs": [],
   "source": [
    "X = data.drop(['car_price'], axis = 1)\n",
    "y = data.loc[:,'car_price']"
   ]
  },
  {
   "cell_type": "code",
   "execution_count": 98,
   "id": "cd19989b-8e91-46fc-a0fc-13a68f4a5eff",
   "metadata": {},
   "outputs": [],
   "source": [
    "scaler = StandardScaler()\n",
    "X = scaler.fit_transform(X)"
   ]
  },
  {
   "cell_type": "code",
   "execution_count": 99,
   "id": "2ff308cc-efcf-4ef3-b3f5-d5ee3bc7f25e",
   "metadata": {},
   "outputs": [
    {
     "data": {
      "text/plain": [
       "array([[-1.06884568, -0.99113543, -0.00242202],\n",
       "       [-0.96056719,  0.54337622, -0.01004543],\n",
       "       [-0.85228869, -0.11427163, -0.01191298],\n",
       "       ...,\n",
       "       [ 0.66361018, -0.33348758, -0.00332224],\n",
       "       [-0.20261775,  1.20102408, -0.0138938 ],\n",
       "       [ 0.3387747 , -0.11427163, -0.01146431]])"
      ]
     },
     "execution_count": 99,
     "metadata": {},
     "output_type": "execute_result"
    }
   ],
   "source": [
    "X"
   ]
  },
  {
   "cell_type": "code",
   "execution_count": 100,
   "id": "f6f63470-bf73-4d8a-bbc3-692ea96616f2",
   "metadata": {},
   "outputs": [],
   "source": [
    "X_train , X_test, y_train, y_test = train_test_split(X, y, test_size=0.1, random_state=34)"
   ]
  },
  {
   "cell_type": "markdown",
   "id": "5ed9a0e5-417a-477d-85c6-84b073ede72b",
   "metadata": {},
   "source": [
    "# Training"
   ]
  },
  {
   "cell_type": "code",
   "execution_count": 101,
   "id": "00dc3299-085c-4bb3-86a5-a0bef0eb6b18",
   "metadata": {},
   "outputs": [],
   "source": [
    "lin_model = LinearRegression()\n",
    "lin_model.fit(X_train, y_train)\n",
    "lin_y_preds = lin_model.predict(X_test)"
   ]
  },
  {
   "cell_type": "code",
   "execution_count": 102,
   "id": "60f23f78-d41e-443e-afea-5cecddc43e14",
   "metadata": {},
   "outputs": [],
   "source": [
    "lgb_model = lgb.LGBMRegressor(\n",
    "    boosting_type='gbdt',\n",
    "    num_leaves=31,\n",
    "    reg_lambda=1.0\n",
    ")\n",
    "\n",
    "lgb_model.fit(X_train, y_train)\n",
    "lgb_y_preds = lgb_model.predict(X_test)"
   ]
  },
  {
   "cell_type": "code",
   "execution_count": 103,
   "id": "5a6fc6df-198e-4382-8565-53e621cd0721",
   "metadata": {},
   "outputs": [],
   "source": [
    "lin_loss = np.sqrt(mean_squared_error(y_test, lin_y_preds))\n",
    "\n",
    "lgb_loss = np.sqrt(mean_squared_error(y_test, lgb_y_preds))"
   ]
  },
  {
   "cell_type": "code",
   "execution_count": 104,
   "id": "582867fd-71db-4826-86de-589a95ef4c9c",
   "metadata": {},
   "outputs": [
    {
     "name": "stdout",
     "output_type": "stream",
     "text": [
      "Linear Regression RMSE： 597253.8421180319\n",
      "Gradient Boosted RMSE： 547943.6294399801\n"
     ]
    }
   ],
   "source": [
    "print('Linear Regression RMSE：',lin_loss)\n",
    "print('Gradient Boosted RMSE：', lgb_loss)"
   ]
  },
  {
   "cell_type": "code",
   "execution_count": 105,
   "id": "87af9c09-84e5-4a2b-ab75-46a9181da838",
   "metadata": {},
   "outputs": [
    {
     "name": "stdout",
     "output_type": "stream",
     "text": [
      "Linear Regression R*2： 0.18791056858367572\n",
      "Gradient Boosted R*2： 0.31646978310367135\n"
     ]
    }
   ],
   "source": [
    "print('Linear Regression R*2：', lin_model.score(X_test, y_test))\n",
    "print('Gradient Boosted R*2：', lgb_model.score(X_test, y_test))"
   ]
  },
  {
   "cell_type": "code",
   "execution_count": 106,
   "id": "2c765c4b-b26f-41b6-a602-8fbe0a2657af",
   "metadata": {},
   "outputs": [
    {
     "name": "stdout",
     "output_type": "stream",
     "text": [
      "DecisionTree R*2： 0.14459833795013852\n"
     ]
    }
   ],
   "source": [
    "from sklearn.tree import DecisionTreeClassifier\n",
    "from sklearn.ensemble import BaggingClassifier\n",
    "\n",
    "tree = DecisionTreeClassifier()\n",
    "bag = BaggingClassifier(tree, n_estimators=100, max_samples=0.8,\n",
    "                        random_state=0)\n",
    "bag.fit(X_train, y_train)\n",
    "print('DecisionTree R*2：', bag.score(X_test, y_test))"
   ]
  },
  {
   "cell_type": "code",
   "execution_count": 107,
   "id": "61b215eb-7f42-472b-960c-43d8d66d7194",
   "metadata": {},
   "outputs": [
    {
     "name": "stdout",
     "output_type": "stream",
     "text": [
      "RandomForest R*2： 0.14644506001846722\n"
     ]
    }
   ],
   "source": [
    "from sklearn.ensemble import RandomForestClassifier\n",
    "\n",
    "RF = RandomForestClassifier(n_estimators=100, random_state=0)\n",
    "RF.fit(X_train, y_train)\n",
    "print('RandomForest R*2：', RF.score(X_test, y_test))"
   ]
  }
 ],
 "metadata": {
  "kernelspec": {
   "display_name": "Python 3",
   "language": "python",
   "name": "python3"
  },
  "language_info": {
   "codemirror_mode": {
    "name": "ipython",
    "version": 3
   },
   "file_extension": ".py",
   "mimetype": "text/x-python",
   "name": "python",
   "nbconvert_exporter": "python",
   "pygments_lexer": "ipython3",
   "version": "3.9.5"
  }
 },
 "nbformat": 4,
 "nbformat_minor": 5
}
