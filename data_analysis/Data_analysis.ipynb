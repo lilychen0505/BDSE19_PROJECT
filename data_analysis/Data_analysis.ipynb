{
 "cells": [
  {
   "cell_type": "code",
   "execution_count": 5,
   "id": "equipped-turkey",
   "metadata": {},
   "outputs": [],
   "source": [
    "import numpy as np\n",
    "import pandas as pd\n",
    "\n",
    "from sklearn.preprocessing import StandardScaler\n",
    "from sklearn.model_selection import train_test_split\n",
    "\n",
    "from sklearn.tree import DecisionTreeClassifier\n",
    "from sklearn.ensemble import BaggingClassifier\n",
    "from sklearn.ensemble import RandomForestClassifier\n",
    "from sklearn.ensemble import ExtraTreesRegressor\n",
    "from sklearn.ensemble import RandomForestRegressor\n",
    "\n",
    "from sklearn.linear_model import LinearRegression\n",
    "from sklearn.svm import SVR, LinearSVR\n",
    "import lightgbm as lgb\n",
    "\n",
    "import xgboost as xgb\n",
    "from sklearn.model_selection import GridSearchCV\n",
    "\n",
    "from scipy import stats\n",
    "\n",
    "from sklearn.metrics import mean_squared_error, accuracy_score\n",
    "\n",
    "\n",
    "pd.set_option('max_columns', 20)\n",
    "pd.set_option('max_columns', None)\n",
    "\n",
    "\n",
    "import matplotlib.pyplot as plt\n",
    "import matplotlib\n",
    "import seaborn as sns\n",
    "%matplotlib inline\n",
    "\n",
    "from sklearn import preprocessing\n",
    "\n",
    "\n",
    "# pd.set_option('max_rows', 500)"
   ]
  },
  {
   "cell_type": "code",
   "execution_count": 3,
   "id": "accompanied-princeton",
   "metadata": {},
   "outputs": [],
   "source": [
    "df1 = pd.read_csv('../csv/cleaned_csv/dataClean_forPrice_20210719.csv', index_col=0, encoding='utf-8')"
   ]
  },
  {
   "cell_type": "code",
   "execution_count": 4,
   "id": "broken-panic",
   "metadata": {},
   "outputs": [
    {
     "data": {
      "text/html": [
       "<div>\n",
       "<style scoped>\n",
       "    .dataframe tbody tr th:only-of-type {\n",
       "        vertical-align: middle;\n",
       "    }\n",
       "\n",
       "    .dataframe tbody tr th {\n",
       "        vertical-align: top;\n",
       "    }\n",
       "\n",
       "    .dataframe thead th {\n",
       "        text-align: right;\n",
       "    }\n",
       "</style>\n",
       "<table border=\"1\" class=\"dataframe\">\n",
       "  <thead>\n",
       "    <tr style=\"text-align: right;\">\n",
       "      <th></th>\n",
       "      <th>car_brand</th>\n",
       "      <th>car_model</th>\n",
       "      <th>car_year</th>\n",
       "      <th>car_mileage</th>\n",
       "      <th>car_price</th>\n",
       "      <th>source</th>\n",
       "    </tr>\n",
       "  </thead>\n",
       "  <tbody>\n",
       "    <tr>\n",
       "      <th>0</th>\n",
       "      <td>TOYOTA</td>\n",
       "      <td>ALTIS</td>\n",
       "      <td>2009</td>\n",
       "      <td>197710</td>\n",
       "      <td>196000</td>\n",
       "      <td>HOT</td>\n",
       "    </tr>\n",
       "    <tr>\n",
       "      <th>1</th>\n",
       "      <td>MITSUBISHI</td>\n",
       "      <td>DELICA</td>\n",
       "      <td>2016</td>\n",
       "      <td>81609</td>\n",
       "      <td>358000</td>\n",
       "      <td>HOT</td>\n",
       "    </tr>\n",
       "    <tr>\n",
       "      <th>2</th>\n",
       "      <td>SUZUKI</td>\n",
       "      <td>CARRY</td>\n",
       "      <td>2013</td>\n",
       "      <td>53167</td>\n",
       "      <td>286000</td>\n",
       "      <td>HOT</td>\n",
       "    </tr>\n",
       "    <tr>\n",
       "      <th>3</th>\n",
       "      <td>NISSAN</td>\n",
       "      <td>MARCH</td>\n",
       "      <td>2013</td>\n",
       "      <td>92757</td>\n",
       "      <td>238000</td>\n",
       "      <td>HOT</td>\n",
       "    </tr>\n",
       "    <tr>\n",
       "      <th>4</th>\n",
       "      <td>NISSAN</td>\n",
       "      <td>SENTRA</td>\n",
       "      <td>2015</td>\n",
       "      <td>43307</td>\n",
       "      <td>378000</td>\n",
       "      <td>HOT</td>\n",
       "    </tr>\n",
       "    <tr>\n",
       "      <th>...</th>\n",
       "      <td>...</td>\n",
       "      <td>...</td>\n",
       "      <td>...</td>\n",
       "      <td>...</td>\n",
       "      <td>...</td>\n",
       "      <td>...</td>\n",
       "    </tr>\n",
       "    <tr>\n",
       "      <th>54145</th>\n",
       "      <td>HONDA</td>\n",
       "      <td>Civic</td>\n",
       "      <td>2007</td>\n",
       "      <td>280000</td>\n",
       "      <td>168000</td>\n",
       "      <td>8891</td>\n",
       "    </tr>\n",
       "    <tr>\n",
       "      <th>54146</th>\n",
       "      <td>TOYOTA</td>\n",
       "      <td>Sienta</td>\n",
       "      <td>2018</td>\n",
       "      <td>30000</td>\n",
       "      <td>398000</td>\n",
       "      <td>8891</td>\n",
       "    </tr>\n",
       "    <tr>\n",
       "      <th>54147</th>\n",
       "      <td>MERCEDES-BENZ</td>\n",
       "      <td>E-Class Sedan</td>\n",
       "      <td>2012</td>\n",
       "      <td>184000</td>\n",
       "      <td>720000</td>\n",
       "      <td>8891</td>\n",
       "    </tr>\n",
       "    <tr>\n",
       "      <th>54148</th>\n",
       "      <td>LUXGEN</td>\n",
       "      <td>S3</td>\n",
       "      <td>2019</td>\n",
       "      <td>23000</td>\n",
       "      <td>260000</td>\n",
       "      <td>8891</td>\n",
       "    </tr>\n",
       "    <tr>\n",
       "      <th>54149</th>\n",
       "      <td>BMW</td>\n",
       "      <td>M3</td>\n",
       "      <td>2013</td>\n",
       "      <td>60000</td>\n",
       "      <td>1880000</td>\n",
       "      <td>8891</td>\n",
       "    </tr>\n",
       "  </tbody>\n",
       "</table>\n",
       "<p>54150 rows × 6 columns</p>\n",
       "</div>"
      ],
      "text/plain": [
       "           car_brand      car_model  car_year  car_mileage  car_price source\n",
       "0             TOYOTA          ALTIS      2009       197710     196000    HOT\n",
       "1         MITSUBISHI         DELICA      2016        81609     358000    HOT\n",
       "2             SUZUKI          CARRY      2013        53167     286000    HOT\n",
       "3             NISSAN          MARCH      2013        92757     238000    HOT\n",
       "4             NISSAN         SENTRA      2015        43307     378000    HOT\n",
       "...              ...            ...       ...          ...        ...    ...\n",
       "54145          HONDA          Civic      2007       280000     168000   8891\n",
       "54146         TOYOTA         Sienta      2018        30000     398000   8891\n",
       "54147  MERCEDES-BENZ  E-Class Sedan      2012       184000     720000   8891\n",
       "54148         LUXGEN             S3      2019        23000     260000   8891\n",
       "54149            BMW             M3      2013        60000    1880000   8891\n",
       "\n",
       "[54150 rows x 6 columns]"
      ]
     },
     "execution_count": 4,
     "metadata": {},
     "output_type": "execute_result"
    }
   ],
   "source": [
    "df1"
   ]
  },
  {
   "cell_type": "code",
   "execution_count": null,
   "id": "flying-barrel",
   "metadata": {},
   "outputs": [],
   "source": [
    "df1.info()"
   ]
  },
  {
   "cell_type": "code",
   "execution_count": null,
   "id": "korean-august",
   "metadata": {},
   "outputs": [],
   "source": [
    "df1.describe()"
   ]
  },
  {
   "cell_type": "code",
   "execution_count": null,
   "id": "sized-banks",
   "metadata": {
    "tags": []
   },
   "outputs": [],
   "source": [
    "np.set_printoptions(threshold=len(df1['car_model'].unique()))\n",
    "print(df1['car_model'].unique())\n",
    "print(df1['car_brand'].unique())\n",
    "print(len(df1['car_model'].unique()))\n",
    "print(df1['car_brand'].unique())\n",
    "print(len(df1['car_brand'].unique()))"
   ]
  },
  {
   "cell_type": "code",
   "execution_count": 5,
   "id": "continued-bacteria",
   "metadata": {},
   "outputs": [],
   "source": [
    "df1.drop(columns=['source', 'car_model'], inplace=True)"
   ]
  },
  {
   "cell_type": "code",
   "execution_count": 6,
   "id": "incorporate-charter",
   "metadata": {},
   "outputs": [],
   "source": [
    "df1.loc[df1['car_brand'].str.contains('BENZ') == True, 'car_brand'] = 'BENZ'"
   ]
  },
  {
   "cell_type": "code",
   "execution_count": null,
   "id": "stopped-phase",
   "metadata": {},
   "outputs": [],
   "source": [
    "df1.loc[df1['car_brand'].str.contains('BENZ') == True, 'car_brand']"
   ]
  },
  {
   "cell_type": "code",
   "execution_count": 7,
   "id": "novel-holly",
   "metadata": {},
   "outputs": [],
   "source": [
    "df1.loc[df1['car_brand'].str.contains('VOLKSWAGEN') == True, 'car_brand'] = 'VW'"
   ]
  },
  {
   "cell_type": "code",
   "execution_count": 8,
   "id": "chief-pencil",
   "metadata": {},
   "outputs": [],
   "source": [
    "df1.drop(df1.loc[df1['car_price'] == 0].index , axis=0, inplace=True)"
   ]
  },
  {
   "cell_type": "code",
   "execution_count": 10,
   "id": "affected-polyester",
   "metadata": {},
   "outputs": [
    {
     "data": {
      "text/html": [
       "<div>\n",
       "<style scoped>\n",
       "    .dataframe tbody tr th:only-of-type {\n",
       "        vertical-align: middle;\n",
       "    }\n",
       "\n",
       "    .dataframe tbody tr th {\n",
       "        vertical-align: top;\n",
       "    }\n",
       "\n",
       "    .dataframe thead th {\n",
       "        text-align: right;\n",
       "    }\n",
       "</style>\n",
       "<table border=\"1\" class=\"dataframe\">\n",
       "  <thead>\n",
       "    <tr style=\"text-align: right;\">\n",
       "      <th></th>\n",
       "      <th>car_brand</th>\n",
       "      <th>car_year</th>\n",
       "      <th>car_mileage</th>\n",
       "      <th>car_price</th>\n",
       "    </tr>\n",
       "  </thead>\n",
       "  <tbody>\n",
       "  </tbody>\n",
       "</table>\n",
       "</div>"
      ],
      "text/plain": [
       "Empty DataFrame\n",
       "Columns: [car_brand, car_year, car_mileage, car_price]\n",
       "Index: []"
      ]
     },
     "execution_count": 10,
     "metadata": {},
     "output_type": "execute_result"
    }
   ],
   "source": [
    "df1.loc[df1['car_price'] == 0]"
   ]
  },
  {
   "cell_type": "code",
   "execution_count": 9,
   "id": "fallen-piece",
   "metadata": {},
   "outputs": [],
   "source": [
    "df1.drop(df1.loc[df1['car_mileage'] == 0].index , axis=0, inplace=True)"
   ]
  },
  {
   "cell_type": "code",
   "execution_count": 11,
   "id": "possible-magazine",
   "metadata": {},
   "outputs": [
    {
     "data": {
      "text/html": [
       "<div>\n",
       "<style scoped>\n",
       "    .dataframe tbody tr th:only-of-type {\n",
       "        vertical-align: middle;\n",
       "    }\n",
       "\n",
       "    .dataframe tbody tr th {\n",
       "        vertical-align: top;\n",
       "    }\n",
       "\n",
       "    .dataframe thead th {\n",
       "        text-align: right;\n",
       "    }\n",
       "</style>\n",
       "<table border=\"1\" class=\"dataframe\">\n",
       "  <thead>\n",
       "    <tr style=\"text-align: right;\">\n",
       "      <th></th>\n",
       "      <th>car_brand</th>\n",
       "      <th>car_year</th>\n",
       "      <th>car_mileage</th>\n",
       "      <th>car_price</th>\n",
       "    </tr>\n",
       "  </thead>\n",
       "  <tbody>\n",
       "  </tbody>\n",
       "</table>\n",
       "</div>"
      ],
      "text/plain": [
       "Empty DataFrame\n",
       "Columns: [car_brand, car_year, car_mileage, car_price]\n",
       "Index: []"
      ]
     },
     "execution_count": 11,
     "metadata": {},
     "output_type": "execute_result"
    }
   ],
   "source": [
    "df1.loc[df1['car_mileage'] == 0]"
   ]
  },
  {
   "cell_type": "code",
   "execution_count": 12,
   "id": "nonprofit-champagne",
   "metadata": {},
   "outputs": [],
   "source": [
    "le = preprocessing.LabelEncoder()\n",
    "le.fit(df1['car_brand'])\n",
    "df1['car_brand'] = le.transform(df1['car_brand'])"
   ]
  },
  {
   "cell_type": "code",
   "execution_count": null,
   "id": "quick-inflation",
   "metadata": {},
   "outputs": [],
   "source": [
    "print(le.classes_)"
   ]
  },
  {
   "cell_type": "code",
   "execution_count": null,
   "id": "signed-monte",
   "metadata": {},
   "outputs": [],
   "source": [
    "car_brand_dict = {k:v for v,k in enumerate(df1['car_brand'].unique())}"
   ]
  },
  {
   "cell_type": "code",
   "execution_count": null,
   "id": "color-history",
   "metadata": {},
   "outputs": [],
   "source": [
    "print(car_brand_dict)"
   ]
  },
  {
   "cell_type": "code",
   "execution_count": null,
   "id": "acquired-showcase",
   "metadata": {},
   "outputs": [],
   "source": [
    "df1['car_brand'] = df1['car_brand'].map(car_brand_dict)"
   ]
  },
  {
   "cell_type": "code",
   "execution_count": 13,
   "id": "supreme-irish",
   "metadata": {},
   "outputs": [],
   "source": [
    "df1['car_year'] = (2021 - df1['car_year'])"
   ]
  },
  {
   "cell_type": "code",
   "execution_count": null,
   "id": "offensive-husband",
   "metadata": {},
   "outputs": [],
   "source": [
    "df1"
   ]
  },
  {
   "cell_type": "markdown",
   "id": "formal-software",
   "metadata": {},
   "source": [
    "# remove outlier"
   ]
  },
  {
   "cell_type": "code",
   "execution_count": 14,
   "id": "bronze-rochester",
   "metadata": {},
   "outputs": [
    {
     "data": {
      "text/plain": [
       "count    4.835500e+04\n",
       "mean     6.875934e+05\n",
       "std      8.237647e+05\n",
       "min      1.000000e+04\n",
       "25%      2.780000e+05\n",
       "50%      4.580000e+05\n",
       "75%      8.480000e+05\n",
       "max      1.000000e+08\n",
       "Name: car_price, dtype: float64"
      ]
     },
     "execution_count": 14,
     "metadata": {},
     "output_type": "execute_result"
    }
   ],
   "source": [
    "df1['car_price'].describe()"
   ]
  },
  {
   "cell_type": "code",
   "execution_count": 15,
   "id": "welcome-amsterdam",
   "metadata": {},
   "outputs": [
    {
     "data": {
      "text/plain": [
       "count    4.835500e+04\n",
       "mean     2.382396e+05\n",
       "std      1.562337e+07\n",
       "min      1.000000e+00\n",
       "25%      5.000000e+04\n",
       "50%      8.800000e+04\n",
       "75%      1.300000e+05\n",
       "max      2.147484e+09\n",
       "Name: car_mileage, dtype: float64"
      ]
     },
     "execution_count": 15,
     "metadata": {},
     "output_type": "execute_result"
    }
   ],
   "source": [
    "df1['car_mileage'].describe()"
   ]
  },
  {
   "cell_type": "code",
   "execution_count": null,
   "id": "continuous-completion",
   "metadata": {},
   "outputs": [],
   "source": [
    "# df1[(np.abs(stats.zscore(df1['car_price'])) < 1.96) == False]"
   ]
  },
  {
   "cell_type": "code",
   "execution_count": null,
   "id": "experienced-carbon",
   "metadata": {},
   "outputs": [],
   "source": [
    "df1[(stats.zscore(df1['car_price']) > 1.96) == False]"
   ]
  },
  {
   "cell_type": "code",
   "execution_count": 18,
   "id": "interim-examination",
   "metadata": {},
   "outputs": [],
   "source": [
    "df1.drop(df1.loc[df1['car_price'] > 3000000].index , axis=0, inplace=True)"
   ]
  },
  {
   "cell_type": "code",
   "execution_count": null,
   "id": "french-graph",
   "metadata": {},
   "outputs": [],
   "source": [
    "# df1.drop(df1.loc[(np.abs(stats.zscore(df1['car_price'])) < 1.96) == False].index , axis=0, inplace=True)"
   ]
  },
  {
   "cell_type": "code",
   "execution_count": 20,
   "id": "inappropriate-regular",
   "metadata": {},
   "outputs": [],
   "source": [
    "df1.drop(df1.loc[df1['car_mileage'] > 300000].index , axis=0, inplace=True)"
   ]
  },
  {
   "cell_type": "code",
   "execution_count": null,
   "id": "permanent-brown",
   "metadata": {},
   "outputs": [],
   "source": [
    "df1[(stats.zscore(df1['car_mileage']) > 1.96) == False]"
   ]
  },
  {
   "cell_type": "code",
   "execution_count": null,
   "id": "secure-vegetarian",
   "metadata": {},
   "outputs": [],
   "source": [
    "# df1[(np.abs(stats.zscore(df1['car_mileage'])) < 1.96) == False]"
   ]
  },
  {
   "cell_type": "code",
   "execution_count": null,
   "id": "educational-friendly",
   "metadata": {},
   "outputs": [],
   "source": [
    "# df1.drop(df1.loc['' == False].index , axis=0 , inplace=True)"
   ]
  },
  {
   "cell_type": "code",
   "execution_count": 21,
   "id": "irish-fantasy",
   "metadata": {},
   "outputs": [
    {
     "data": {
      "text/plain": [
       "(47499, 4)"
      ]
     },
     "execution_count": 21,
     "metadata": {},
     "output_type": "execute_result"
    }
   ],
   "source": [
    "df1.shape"
   ]
  },
  {
   "cell_type": "code",
   "execution_count": null,
   "id": "floral-suspect",
   "metadata": {},
   "outputs": [],
   "source": []
  },
  {
   "cell_type": "code",
   "execution_count": null,
   "id": "criminal-scanning",
   "metadata": {},
   "outputs": [],
   "source": [
    "# df1.drop(df1.loc[(np.abs(stats.zscore(df1['car_mileage'])) < 1.96) == False].index , axis=0 , inplace=True)"
   ]
  },
  {
   "cell_type": "code",
   "execution_count": null,
   "id": "terminal-revelation",
   "metadata": {
    "tags": []
   },
   "outputs": [],
   "source": [
    "# for i in ['car_year','car_mileage']:\n",
    "#     sns.jointplot(x=i, y='car_price',data=df1[[i,'car_price']], height=7)"
   ]
  },
  {
   "cell_type": "code",
   "execution_count": 22,
   "id": "gross-israel",
   "metadata": {},
   "outputs": [
    {
     "data": {
      "image/png": "[encoded data removed]",
      "text/plain": [
       "<Figure size 144x360 with 1 Axes>"
      ]
     },
     "metadata": {
      "needs_background": "light"
     },
     "output_type": "display_data"
    }
   ],
   "source": [
    "plt.figure(figsize=(2,5))\n",
    "plt.boxplot(df1['car_price'],showmeans=True)\n",
    "plt.title('x')\n",
    "plt.show()"
   ]
  },
  {
   "cell_type": "code",
   "execution_count": 23,
   "id": "vital-franchise",
   "metadata": {},
   "outputs": [
    {
     "data": {
      "text/plain": [
       "<AxesSubplot:xlabel='car_price'>"
      ]
     },
     "execution_count": 23,
     "metadata": {},
     "output_type": "execute_result"
    },
    {
     "data": {
      "image/png": "[encoded data removed]",
      "text/plain": [
       "<Figure size 432x288 with 1 Axes>"
      ]
     },
     "metadata": {
      "needs_background": "light"
     },
     "output_type": "display_data"
    }
   ],
   "source": [
    "sns.boxplot(x=df1['car_price'])"
   ]
  },
  {
   "cell_type": "code",
   "execution_count": 24,
   "id": "wanted-citation",
   "metadata": {},
   "outputs": [
    {
     "data": {
      "image/png": "[encoded data removed]",
      "text/plain": [
       "<Figure size 360x360 with 1 Axes>"
      ]
     },
     "metadata": {
      "needs_background": "light"
     },
     "output_type": "display_data"
    }
   ],
   "source": [
    "sns.displot(df1['car_price'])\n",
    "plt.show()"
   ]
  },
  {
   "cell_type": "code",
   "execution_count": 25,
   "id": "corresponding-japanese",
   "metadata": {},
   "outputs": [
    {
     "data": {
      "image/png": "[encoded data removed]",
      "text/plain": [
       "<Figure size 144x360 with 1 Axes>"
      ]
     },
     "metadata": {
      "needs_background": "light"
     },
     "output_type": "display_data"
    }
   ],
   "source": [
    "plt.figure(figsize=(2,5))\n",
    "plt.boxplot(df1['car_mileage'],showmeans=True)\n",
    "plt.title('x')\n",
    "plt.show()"
   ]
  },
  {
   "cell_type": "code",
   "execution_count": 26,
   "id": "graphic-manhattan",
   "metadata": {},
   "outputs": [
    {
     "data": {
      "text/plain": [
       "<AxesSubplot:xlabel='car_mileage'>"
      ]
     },
     "execution_count": 26,
     "metadata": {},
     "output_type": "execute_result"
    },
    {
     "data": {
      "image/png": "[encoded data removed]",
      "text/plain": [
       "<Figure size 432x288 with 1 Axes>"
      ]
     },
     "metadata": {
      "needs_background": "light"
     },
     "output_type": "display_data"
    }
   ],
   "source": [
    "sns.boxplot(x=df1['car_mileage'])"
   ]
  },
  {
   "cell_type": "code",
   "execution_count": 27,
   "id": "subsequent-survival",
   "metadata": {},
   "outputs": [
    {
     "data": {
      "image/png": "[encoded data removed]",
      "text/plain": [
       "<Figure size 360x360 with 1 Axes>"
      ]
     },
     "metadata": {
      "needs_background": "light"
     },
     "output_type": "display_data"
    }
   ],
   "source": [
    "sns.displot(df1['car_mileage'])\n",
    "plt.show()"
   ]
  },
  {
   "cell_type": "code",
   "execution_count": null,
   "id": "mysterious-manchester",
   "metadata": {},
   "outputs": [],
   "source": [
    "# print (\"Shape Of The Before Ouliers: \",data.shape)\n",
    "# n=1.5\n",
    "# #IQR = Q3-Q1\n",
    "# IQR = np.percentile(data['x'],75) - np.percentile(data['x'],25)\n",
    "# #outlier = Q3 + n*IQR \n",
    "# data=data[data['x'] < np.percentile(data['x'],75)+n*IQR]\n",
    "# #outlier = Q1 - n*IQR \n",
    "# data=data[data['x'] > np.percentile(data['x'],25)-n*IQR]\n",
    "# print (\"Shape Of The After Ouliers: \",data.shape)"
   ]
  },
  {
   "cell_type": "code",
   "execution_count": null,
   "id": "printable-lender",
   "metadata": {},
   "outputs": [],
   "source": []
  },
  {
   "cell_type": "code",
   "execution_count": 30,
   "id": "practical-seventh",
   "metadata": {},
   "outputs": [],
   "source": [
    "X = df1.drop(['car_price'], axis = 1)\n",
    "y = df1.loc[:,'car_price']"
   ]
  },
  {
   "cell_type": "code",
   "execution_count": null,
   "id": "stuffed-lexington",
   "metadata": {},
   "outputs": [],
   "source": [
    "# f, ax = plt.subplots(figsize=(11, 9))\n",
    "# cmap = sns.diverging_palette(220, 10, as_cmap=True)\n",
    "\n",
    "# sns.heatmap(X.corr(),cmap=cmap,square=True,annot=True)"
   ]
  },
  {
   "cell_type": "code",
   "execution_count": 31,
   "id": "square-bowling",
   "metadata": {},
   "outputs": [],
   "source": [
    "scaler = StandardScaler()\n",
    "X = scaler.fit_transform(X)"
   ]
  },
  {
   "cell_type": "code",
   "execution_count": null,
   "id": "medieval-cartoon",
   "metadata": {},
   "outputs": [],
   "source": [
    "X"
   ]
  },
  {
   "cell_type": "code",
   "execution_count": 32,
   "id": "covered-soccer",
   "metadata": {},
   "outputs": [],
   "source": [
    "X_train , X_test, y_train, y_test = train_test_split(X, y, test_size=0.1, random_state=2)"
   ]
  },
  {
   "cell_type": "markdown",
   "id": "familiar-dover",
   "metadata": {},
   "source": [
    "# Training"
   ]
  },
  {
   "cell_type": "code",
   "execution_count": null,
   "id": "numerous-folder",
   "metadata": {},
   "outputs": [],
   "source": [
    "\tModel\tr2_train\tr2_test\td_train\td_test\trmse_train\trmse_test\n",
    "8\tLGBM\t89.90\t85.77\t11.46\t13.41\t274,406.60\t325,236.32\n",
    "11\tBaggingRegressor\t96.82\t84.97\t5.42\t12.62\t154,048.31\t334,278.98\n",
    "7\tXGB\t87.70\t84.66\t12.95\t14.19\t302,861.88\t337,698.16\n",
    "6\tRandom Forest\t96.75\t84.62\t5.50\t12.75\t155,706.68\t338,065.90\n",
    "12\tExtraTreesRegressor\t99.31\t84.48\t0.96\t11.85\t71,730.49\t339,694.29\n",
    "9\tGradientBoostingRegressor\t77.28\t77.13\t18.23\t18.07\t411,657.37\t412,264.28\n",
    "5\tDecision Tree Regressor\t99.31\t76.61\t0.96\t14.39\t71,730.45\t416,962.33\n",
    "3\tMLPRegressor\t74.20\t73.92\t19.17\t19.05\t438,652.67\t440,283.91\n",
    "13\tAdaBoostRegressor\t62.49\t62.34\t25.49\t25.27\t528,888.33\t529,050.27\n",
    "0\tLinear Regression\t61.64\t58.44\t23.91\t23.89\t534,865.15\t555,802.12\n",
    "10\tRidgeRegressor\t61.64\t58.44\t23.91\t23.89\t534,865.19\t555,793.60\n",
    "14\tVotingRegressor\t59.23\t58.33\t24.99\t24.88\t551,429.32\t556,535.26\n",
    "4\tStochastic Gradient Decent\t58.67\t38.73\t23.35\t23.57\t555,173.63\t674,844.11\n",
    "2\tLinear SVR\t43.94\t35.56\t27.61\t27.69\t646,616.92\t692,091.67\n",
    "1\tSupport Vector Machines\t15.08\t14.76\t37.10\t36.88\t795,793.93\t795,961.55"
   ]
  },
  {
   "cell_type": "markdown",
   "id": "quick-carol",
   "metadata": {},
   "source": [
    "### LinearRegression & GradientBoost"
   ]
  },
  {
   "cell_type": "code",
   "execution_count": 33,
   "id": "emerging-walnut",
   "metadata": {},
   "outputs": [],
   "source": [
    "lin_model = LinearRegression()\n",
    "lin_model.fit(X_train, y_train)\n",
    "lin_y_preds = lin_model.predict(X_test)"
   ]
  },
  {
   "cell_type": "code",
   "execution_count": 34,
   "id": "civilian-boring",
   "metadata": {},
   "outputs": [],
   "source": [
    "lgb_model = lgb.LGBMRegressor(\n",
    "    boosting_type='gbdt',\n",
    "    num_leaves=31,\n",
    "    reg_lambda=1.0\n",
    ")\n",
    "\n",
    "lgb_model.fit(X_train, y_train)\n",
    "lgb_y_preds = lgb_model.predict(X_test)"
   ]
  },
  {
   "cell_type": "code",
   "execution_count": 35,
   "id": "varied-shirt",
   "metadata": {},
   "outputs": [],
   "source": [
    "lin_loss = mean_squared_error(y_test, lin_y_preds, squared=False)\n",
    "\n",
    "lgb_loss = mean_squared_error(y_test, lgb_y_preds, squared=False)"
   ]
  },
  {
   "cell_type": "code",
   "execution_count": 36,
   "id": "charitable-daisy",
   "metadata": {},
   "outputs": [
    {
     "name": "stdout",
     "output_type": "stream",
     "text": [
      "Linear Regression RMSE： 410271.80427013576\n",
      "Gradient Boosted RMSE： 246935.8156261597\n"
     ]
    }
   ],
   "source": [
    "print('Linear Regression RMSE：',lin_loss)\n",
    "print('Gradient Boosted RMSE：', lgb_loss)"
   ]
  },
  {
   "cell_type": "code",
   "execution_count": 37,
   "id": "verified-binding",
   "metadata": {},
   "outputs": [
    {
     "name": "stdout",
     "output_type": "stream",
     "text": [
      "Linear Regression R*2： 0.4409566929275397\n",
      "Gradient Boosted R*2： 0.7974788992905328\n"
     ]
    }
   ],
   "source": [
    "print('Linear Regression R*2：', lin_model.score(X_test, y_test))\n",
    "print('Gradient Boosted R*2：', lgb_model.score(X_test, y_test))"
   ]
  },
  {
   "cell_type": "markdown",
   "id": "mental-fleet",
   "metadata": {},
   "source": [
    "### SVM"
   ]
  },
  {
   "cell_type": "code",
   "execution_count": 1,
   "id": "level-banking",
   "metadata": {},
   "outputs": [
    {
     "ename": "NameError",
     "evalue": "name 'SVR' is not defined",
     "output_type": "error",
     "traceback": [
      "\u001b[1;31m---------------------------------------------------------------------------\u001b[0m",
      "\u001b[1;31mNameError\u001b[0m                                 Traceback (most recent call last)",
      "\u001b[1;32m<ipython-input-1-ee8eb16bb789>\u001b[0m in \u001b[0;36m<module>\u001b[1;34m\u001b[0m\n\u001b[1;32m----> 1\u001b[1;33m \u001b[0msvr\u001b[0m \u001b[1;33m=\u001b[0m \u001b[0mSVR\u001b[0m\u001b[1;33m(\u001b[0m\u001b[1;33m)\u001b[0m\u001b[1;33m\u001b[0m\u001b[1;33m\u001b[0m\u001b[0m\n\u001b[0m\u001b[0;32m      2\u001b[0m \u001b[0msvr\u001b[0m\u001b[1;33m.\u001b[0m\u001b[0mfit\u001b[0m\u001b[1;33m(\u001b[0m\u001b[0mX_train\u001b[0m\u001b[1;33m,\u001b[0m \u001b[0my_train\u001b[0m\u001b[1;33m)\u001b[0m\u001b[1;33m\u001b[0m\u001b[1;33m\u001b[0m\u001b[0m\n",
      "\u001b[1;31mNameError\u001b[0m: name 'SVR' is not defined"
     ]
    }
   ],
   "source": [
    "svr = SVR()\n",
    "svr.fit(X_train, y_train)\n",
    "print('DecisionTree R*2：', svr.score(X_test, y_test))"
   ]
  },
  {
   "cell_type": "markdown",
   "id": "indian-weekly",
   "metadata": {},
   "source": [
    "### ExtraTreesRegressor"
   ]
  },
  {
   "cell_type": "code",
   "execution_count": null,
   "id": "demonstrated-spare",
   "metadata": {},
   "outputs": [],
   "source": [
    "etr = ExtraTreesRegressor()\n",
    "etr.fit(train, target)\n",
    "acc_model(12,etr,train,test)"
   ]
  },
  {
   "cell_type": "markdown",
   "id": "compliant-oxide",
   "metadata": {},
   "source": [
    "### DecisionTreeClassifier"
   ]
  },
  {
   "cell_type": "code",
   "execution_count": 38,
   "id": "polar-operation",
   "metadata": {},
   "outputs": [
    {
     "name": "stdout",
     "output_type": "stream",
     "text": [
      "DecisionTree R*2： 0.11242105263157895\n"
     ]
    }
   ],
   "source": [
    "\n",
    "tree = DecisionTreeClassifier()\n",
    "bag = BaggingClassifier(tree, n_estimators=100, max_samples=0.8,\n",
    "                        random_state=0)\n",
    "bag.fit(X_train, y_train)\n",
    "print('DecisionTree R*2：', bag.score(X_test, y_test))"
   ]
  },
  {
   "cell_type": "markdown",
   "id": "technical-enzyme",
   "metadata": {},
   "source": [
    "### RandomForestClassifier"
   ]
  },
  {
   "cell_type": "code",
   "execution_count": null,
   "id": "liked-trout",
   "metadata": {},
   "outputs": [],
   "source": [
    "param_grid = { \n",
    "    'n_estimators': [100, 150, 200, 500],\n",
    "    'max_features': ['auto', 'sqrt', 'log2'],\n",
    "    'max_depth' : range(3,11),\n",
    "    'criterion' :['gini', 'entropy']\n",
    "}\n",
    "RF = RandomForestClassifier()\n",
    "gs1 = GridSearchCV(estimator=RF, param_grid=param_grid, scoring='neg_root_mean_squared_error', cv=5, verbose=3)\n",
    "gs1.fit(X_train,y_train)\n"
   ]
  },
  {
   "cell_type": "code",
   "execution_count": null,
   "id": "considered-explorer",
   "metadata": {},
   "outputs": [],
   "source": [
    "print(gs1.best_params_)\n",
    "print(gs1.best_score_)"
   ]
  },
  {
   "cell_type": "code",
   "execution_count": 39,
   "id": "tamil-flashing",
   "metadata": {},
   "outputs": [
    {
     "name": "stdout",
     "output_type": "stream",
     "text": [
      "RandomForest R*2： 0.11389473684210526\n"
     ]
    }
   ],
   "source": [
    "RF1 = RandomForestClassifier(n_estimators=100, random_state=0)\n",
    "RF1.fit(X_train, y_train)\n",
    "print('RandomForest R*2：', RF1.score(X_test, y_test))"
   ]
  },
  {
   "cell_type": "code",
   "execution_count": null,
   "id": "special-rough",
   "metadata": {},
   "outputs": [],
   "source": []
  },
  {
   "cell_type": "markdown",
   "id": "effective-company",
   "metadata": {},
   "source": [
    "### XgboostClassifier"
   ]
  },
  {
   "cell_type": "code",
   "execution_count": null,
   "id": "surgical-cooperative",
   "metadata": {
    "tags": []
   },
   "outputs": [],
   "source": [
    "param={'n_estimators':[10,20,50,100,150,200],\n",
    " 'max_depth':range(3,11),\n",
    " 'eta':[0.05,0.1,0.15,0.2,0.25,0.3]}\n",
    "xgr = xgb.XGBRegressor()\n",
    "gs = GridSearchCV(estimator=xgr,param_grid=param,scoring='neg_root_mean_squared_error',cv=5,verbose=3)\n",
    "gs.fit(X_train,y_train)"
   ]
  },
  {
   "cell_type": "code",
   "execution_count": null,
   "id": "assured-colombia",
   "metadata": {},
   "outputs": [],
   "source": [
    "print(gs.best_params_)\n",
    "print(gs.best_score_)"
   ]
  },
  {
   "cell_type": "code",
   "execution_count": 40,
   "id": "theoretical-acrylic",
   "metadata": {},
   "outputs": [
    {
     "name": "stdout",
     "output_type": "stream",
     "text": [
      "RMSE:  243835.39461782394\n",
      "R2Score:  0.8025325108686067\n"
     ]
    }
   ],
   "source": [
    "xgr=xgb.XGBRegressor(eta=0.1,max_depth=5,n_estimators=150)\n",
    "xgr.fit(X_train,y_train)\n",
    "xgbpred=xgr.predict(X_test)\n",
    "print('RMSE: ',mean_squared_error(y_test, xgbpred, squared=False))\n",
    "print('R2Score: ',xgr.score(X_test, y_test))"
   ]
  },
  {
   "cell_type": "markdown",
   "id": "august-vertical",
   "metadata": {},
   "source": [
    "# Single car_brand training"
   ]
  },
  {
   "cell_type": "code",
   "execution_count": null,
   "id": "threatened-matthew",
   "metadata": {},
   "outputs": [],
   "source": [
    "df2 = df1.loc[df1['car_brand'] == 62]"
   ]
  },
  {
   "cell_type": "code",
   "execution_count": null,
   "id": "acknowledged-apple",
   "metadata": {},
   "outputs": [],
   "source": [
    "X = df2.drop(['car_price','car_brand'], axis = 1)\n",
    "y = df2.loc[:,'car_price']"
   ]
  },
  {
   "cell_type": "code",
   "execution_count": null,
   "id": "pretty-latino",
   "metadata": {},
   "outputs": [],
   "source": [
    "scaler = StandardScaler()\n",
    "X = scaler.fit_transform(X)"
   ]
  },
  {
   "cell_type": "code",
   "execution_count": null,
   "id": "handmade-binding",
   "metadata": {},
   "outputs": [],
   "source": [
    "X_train , X_test, y_train, y_test = train_test_split(X, y, test_size=0.2, random_state=2)"
   ]
  },
  {
   "cell_type": "code",
   "execution_count": null,
   "id": "accessible-prime",
   "metadata": {},
   "outputs": [],
   "source": [
    "lin_model = LinearRegression()\n",
    "lin_model.fit(X_train, y_train)\n",
    "lin_y_preds = lin_model.predict(X_test)"
   ]
  },
  {
   "cell_type": "code",
   "execution_count": null,
   "id": "still-information",
   "metadata": {},
   "outputs": [],
   "source": [
    "lgb_model = lgb.LGBMRegressor(\n",
    "    boosting_type='gbdt',\n",
    "    num_leaves=31,\n",
    "    reg_lambda=1.0\n",
    ")\n",
    "\n",
    "lgb_model.fit(X_train, y_train)\n",
    "lgb_y_preds = lgb_model.predict(X_test)"
   ]
  },
  {
   "cell_type": "code",
   "execution_count": null,
   "id": "hazardous-sport",
   "metadata": {},
   "outputs": [],
   "source": [
    "lin_loss = mean_squared_error(y_test, lin_y_preds, squared=False)\n",
    "lgb_loss = mean_squared_error(y_test, lgb_y_preds, squared=False)"
   ]
  },
  {
   "cell_type": "code",
   "execution_count": null,
   "id": "presidential-estonia",
   "metadata": {},
   "outputs": [],
   "source": [
    "print('Linear Regression RMSE：',lin_loss)\n",
    "print('Gradient Boosted RMSE：', lgb_loss)"
   ]
  },
  {
   "cell_type": "code",
   "execution_count": null,
   "id": "green-centre",
   "metadata": {},
   "outputs": [],
   "source": [
    "print('Linear Regression R*2：', lin_model.score(X_test, y_test))\n",
    "print('Gradient Boosted R*2：', lgb_model.score(X_test, y_test))"
   ]
  },
  {
   "cell_type": "code",
   "execution_count": null,
   "id": "administrative-change",
   "metadata": {
    "tags": []
   },
   "outputs": [],
   "source": [
    "param_grid = { \n",
    "    'n_estimators': [100, 150, 200, 500],\n",
    "    'max_features': ['auto', 'sqrt', 'log2'],\n",
    "    'max_depth' : range(3,11),\n",
    "    'criterion' :['gini', 'entropy']\n",
    "}\n",
    "RF = RandomForestClassifier()\n",
    "gs1 = GridSearchCV(estimator=RF, param_grid=param_grid, scoring='neg_root_mean_squared_error', cv=5, verbose=3)\n",
    "gs1.fit(X_train,y_train)\n"
   ]
  },
  {
   "cell_type": "code",
   "execution_count": null,
   "id": "harmful-funeral",
   "metadata": {},
   "outputs": [],
   "source": [
    "print(gs1.best_params_)\n",
    "print(gs1.best_score_)"
   ]
  },
  {
   "cell_type": "code",
   "execution_count": null,
   "id": "geographic-liberty",
   "metadata": {},
   "outputs": [],
   "source": [
    "rfc = RandomForestClassifier(random_state=42, max_features='auto', n_estimators= 200, max_depth=7, criterion='gini')\n",
    "rfc.fit(X_train, y_train)\n",
    "rfcpred = rfc.predict(X_test)\n",
    "print('RMSE：', mean_squared_error(y_test, rfcpred, squared=False))\n",
    "print('R2Score', rfc.score(X_test, y_test))\n",
    "print(\"Accuracy for Random Forest on CV data: \", accuracy_score(y_test, rfcpred))"
   ]
  },
  {
   "cell_type": "code",
   "execution_count": null,
   "id": "welcome-sister",
   "metadata": {
    "tags": []
   },
   "outputs": [],
   "source": [
    "\n",
    "param={'n_estimators':[10,20,50,100,150,200],\n",
    " 'max_depth':range(3,11),\n",
    " 'eta':[0.05,0.1,0.15,0.2,0.25,0.3]}\n",
    "xgr = xgb.XGBRegressor()\n",
    "gs = GridSearchCV(estimator=xgr,param_grid=param,scoring='neg_root_mean_squared_error',cv=5,verbose=3)\n",
    "gs.fit(X_train,y_train)"
   ]
  },
  {
   "cell_type": "code",
   "execution_count": null,
   "id": "leading-market",
   "metadata": {},
   "outputs": [],
   "source": [
    "print(gs.best_params_)\n",
    "print(gs.best_score_)"
   ]
  },
  {
   "cell_type": "code",
   "execution_count": null,
   "id": "tough-medication",
   "metadata": {},
   "outputs": [],
   "source": [
    "xgr=xgb.XGBRegressor(eta=0.3,max_depth=3,n_estimators=20)\n",
    "xgr.fit(X_train,y_train)\n",
    "xgbpred=xgr.predict(X_test)\n",
    "print('RMSE: ',mean_squared_error(y_test, xgbpred, squared=False))\n",
    "print('R2Score: ',xgr.score(X_test, y_test))"
   ]
  }
 ],
 "metadata": {
  "kernelspec": {
   "display_name": "Python 3",
   "language": "python",
   "name": "python3"
  },
  "language_info": {
   "codemirror_mode": {
    "name": "ipython",
    "version": 3
   },
   "file_extension": ".py",
   "mimetype": "text/x-python",
   "name": "python",
   "nbconvert_exporter": "python",
   "pygments_lexer": "ipython3",
   "version": "3.9.2"
  }
 },
 "nbformat": 4,
 "nbformat_minor": 5
}
