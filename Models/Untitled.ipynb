{
 "cells": [
  {
   "cell_type": "code",
   "execution_count": 1,
   "id": "2609eba4-ce09-4513-bb7e-77e9e1812216",
   "metadata": {},
   "outputs": [],
   "source": [
    "import numpy as np\n",
    "import pandas as pd"
   ]
  },
  {
   "cell_type": "code",
   "execution_count": null,
   "id": "cff492c1-8dcd-4e09-865a-e7a43affc4b0",
   "metadata": {},
   "outputs": [],
   "source": []
  },
  {
   "cell_type": "code",
   "execution_count": 2,
   "id": "8f50d337-b1a5-456b-a212-633f472e9051",
   "metadata": {},
   "outputs": [],
   "source": [
    "import math\n",
    "import pickle\n",
    "import gzip\n",
    "import numpy as np\n",
    "import pandas as pd\n",
    "import sklearn\n",
    "import re"
   ]
  },
  {
   "cell_type": "code",
   "execution_count": 2,
   "id": "3fb5a9ca-f6f2-46f2-93d2-35d25ae5d852",
   "metadata": {},
   "outputs": [],
   "source": [
    "with gzip.open('myapp/model/randomforestRegressor.pgz', 'r') as f:\n",
    "    rf_r = pickle.load(f)"
   ]
  },
  {
   "cell_type": "code",
   "execution_count": 2,
   "id": "007f38dd-3cbf-4528-9cbf-a06065cc89b0",
   "metadata": {},
   "outputs": [],
   "source": [
    "def predict(input):\n",
    "    pred = rf_r.predict(input)[0]\n",
    "    return pred"
   ]
  },
  {
   "cell_type": "code",
   "execution_count": 13,
   "id": "30d60669-2e4d-416d-a816-4255b4d48e42",
   "metadata": {},
   "outputs": [],
   "source": [
    "def myscale(mydata, dfmean, dfstd):\n",
    "    return (mydata - dfmean)/dfstd"
   ]
  },
  {
   "cell_type": "code",
   "execution_count": 28,
   "id": "067aba9c-3246-45ed-ad6e-e1d4c57175fb",
   "metadata": {},
   "outputs": [],
   "source": [
    "yearMean = 2013.3474867194548\n",
    "yearStd = 0.7034532944922058\n",
    "\n",
    "mileageMean = 212973.67794677758\n",
    "mileageStd = 13297582.558099732\n",
    "\n",
    "cylinderVolumeMean = 2394.119487320838\n",
    "cylinderVolumeStd = 102726.24208818933\n",
    "\n",
    "driveModeMean = 2.264408138719054\n",
    "driveModeStd = 0.6774292311531582\n",
    "\n",
    "doorMean = 4.660957702716248\n",
    "doorStd = 0.7034532944922058\n",
    "\n",
    "seatMean = 5.014809060839932\n",
    "seatStd = 0.8135488623474101\n",
    "\n",
    "car_brand = 'Toyota'\n",
    "car_model = 'Altis'\n",
    "car_year = '2011'\n",
    "car_mileage = '48392'\n",
    "car_color = '紅色'\n",
    "car_cylinderVolume = '1800'\n",
    "car_driveMode = '二輪驅動'\n",
    "car_gear = '手自排'\n",
    "car_fuel = '汽油'\n",
    "car_door = '4'\n",
    "car_seat = '5'\n",
    "\n",
    "if car_driveMode == '二輪驅動':\n",
    "    car_driveMode = 2\n",
    "if car_driveMode == '四輪驅動':\n",
    "    car_driveMode = 4\n",
    "\n",
    "car_brand = car_brand.upper()\n",
    "car_model = car_model.upper()\n",
    "\n",
    "\n",
    "car_year = myscale(int(car_year), yearMean, yearStd)\n",
    "\n",
    "car_mileage = myscale(int(car_mileage), mileageMean, mileageStd)\n",
    "\n",
    "car_cylinderVolume = myscale(\n",
    "        int(car_cylinderVolume), cylinderVolumeMean, cylinderVolumeStd)\n",
    "\n",
    "car_driveMode = myscale(float(car_driveMode), driveModeMean, driveModeStd)\n",
    "\n",
    "car_door = myscale(float(car_door), doorMean, doorStd)\n",
    "\n",
    "car_seat = myscale(float(car_seat), seatMean, seatStd)\n",
    "\n",
    "# car_door = np.array([car_door])\n",
    "# car_seat = np.array([car_seat])\n",
    "\n",
    "car_color = re.sub(r'色$', '', car_color)\n",
    "\n",
    "# df1 = pd.read_csv('testcolumn.csv',\n",
    "#                       encoding='utf8', index_col=0)\n",
    "    \n",
    "# df2 = pd.DataFrame(columns=df1.columns)\n",
    "\n",
    "# array = np.array([1, 1, car_year, car_mileage, 1, car_cylinderVolume, car_driveMode, 1, 1, car_door, car_seat, 0])\n",
    "    \n",
    "# input = pd.DataFrame([array], columns=['car_brand_'+car_brand, 'car_model_'+car_model, 'car_year', 'car_mileage', 'car_color_' +\n",
    "#                          car_color, 'car_cylinderVolume', 'car_driveMode', 'car_gear_'+car_gear, 'car_fuel_'+car_fuel, 'car_door', 'car_seat', 'verified'])\n",
    "# input = pd.concat([df2, input], join='outer', ignore_index=True)\n",
    "\n",
    "# input = input.fillna(0)\n",
    "\n"
   ]
  },
  {
   "cell_type": "code",
   "execution_count": 2,
   "id": "d21a46d8-98f6-4e0e-b203-9e932c8d782c",
   "metadata": {},
   "outputs": [],
   "source": [
    "def result_compute(result):\n",
    "    rmse = 0.001\n",
    "    result1 = result - rmse\n",
    "    result2 = result + rmse\n",
    "    result1 = round(math.exp(result1), 2)\n",
    "    result2 = round(math.exp(result2), 2)\n",
    "    return {'set1': result1, 'set2': result2}"
   ]
  },
  {
   "cell_type": "code",
   "execution_count": 3,
   "id": "35cb22b7-957f-4338-ac5a-6ec08d30f310",
   "metadata": {},
   "outputs": [
    {
     "name": "stderr",
     "output_type": "stream",
     "text": [
      "/Library/Frameworks/Python.framework/Versions/3.9/lib/python3.9/site-packages/sklearn/base.py:310: UserWarning: Trying to unpickle estimator DecisionTreeRegressor from version 0.22.2.post1 when using version 0.24.2. This might lead to breaking code or invalid results. Use at your own risk.\n",
      "  warnings.warn(\n",
      "/Library/Frameworks/Python.framework/Versions/3.9/lib/python3.9/site-packages/sklearn/base.py:310: UserWarning: Trying to unpickle estimator RandomForestRegressor from version 0.22.2.post1 when using version 0.24.2. This might lead to breaking code or invalid results. Use at your own risk.\n",
      "  warnings.warn(\n"
     ]
    }
   ],
   "source": [
    "with gzip.open('random_forest0810.pgz', 'r') as f:\n",
    "    rf_r = pickle.load(f)"
   ]
  },
  {
   "cell_type": "code",
   "execution_count": 4,
   "id": "c4000bd6-0cde-437b-9a23-56f3d14dea08",
   "metadata": {},
   "outputs": [
    {
     "name": "stderr",
     "output_type": "stream",
     "text": [
      "/Library/Frameworks/Python.framework/Versions/3.9/lib/python3.9/site-packages/sklearn/base.py:310: UserWarning: Trying to unpickle estimator PCA from version 0.22.2.post1 when using version 0.24.2. This might lead to breaking code or invalid results. Use at your own risk.\n",
      "  warnings.warn(\n"
     ]
    }
   ],
   "source": [
    "with gzip.open('pca0810.pgz', 'r') as p:\n",
    "    pca = pickle.load(p)"
   ]
  },
  {
   "cell_type": "code",
   "execution_count": 29,
   "id": "c4a433bd-cd69-4933-97be-3ae1db0a22e5",
   "metadata": {},
   "outputs": [],
   "source": [
    "dfc = pd.read_csv('columns.csv',encoding='utf-8', index_col=0)"
   ]
  },
  {
   "cell_type": "code",
   "execution_count": 30,
   "id": "fbf38400-d231-47a5-9a31-6058c2746764",
   "metadata": {},
   "outputs": [],
   "source": [
    "df2 = pd.DataFrame(columns = dfc.columns)"
   ]
  },
  {
   "cell_type": "code",
   "execution_count": 31,
   "id": "d33938e6-5695-4423-a2b7-1287f0982435",
   "metadata": {},
   "outputs": [],
   "source": [
    "array = np.array([1, 1, car_year, car_mileage, 1, car_cylinderVolume, car_driveMode, 1, 1, car_door, car_seat, 0])"
   ]
  },
  {
   "cell_type": "code",
   "execution_count": 32,
   "id": "c1b3f46d-b56e-40bf-8b37-297aa3e7c780",
   "metadata": {},
   "outputs": [],
   "source": [
    "input = pd.DataFrame([array], columns=['car_brand_'+car_brand, 'car_model_'+car_model, 'car_year', 'car_mileage', 'car_color_' +\n",
    "                         car_color, 'car_cylinderVolume', 'car_driveMode', 'car_gear_'+car_gear, 'car_fuel_'+car_fuel, 'car_door', 'car_seat', 'verified'])"
   ]
  },
  {
   "cell_type": "code",
   "execution_count": 33,
   "id": "2500d4ce-aabe-4153-afc3-f739f471cbac",
   "metadata": {},
   "outputs": [
    {
     "data": {
      "text/html": [
       "<div>\n",
       "<style scoped>\n",
       "    .dataframe tbody tr th:only-of-type {\n",
       "        vertical-align: middle;\n",
       "    }\n",
       "\n",
       "    .dataframe tbody tr th {\n",
       "        vertical-align: top;\n",
       "    }\n",
       "\n",
       "    .dataframe thead th {\n",
       "        text-align: right;\n",
       "    }\n",
       "</style>\n",
       "<table border=\"1\" class=\"dataframe\">\n",
       "  <thead>\n",
       "    <tr style=\"text-align: right;\">\n",
       "      <th></th>\n",
       "      <th>car_year</th>\n",
       "      <th>car_mileage</th>\n",
       "      <th>car_cylinderVolume</th>\n",
       "      <th>car_driveMode</th>\n",
       "      <th>verified</th>\n",
       "      <th>car_door</th>\n",
       "      <th>car_seat</th>\n",
       "      <th>car_brand_ACURA</th>\n",
       "      <th>car_brand_ALFA ROMEO</th>\n",
       "      <th>car_brand_ALFAROMEO</th>\n",
       "      <th>...</th>\n",
       "      <th>car_color_黑鐵灰</th>\n",
       "      <th>car_fuel_柴油</th>\n",
       "      <th>car_fuel_柴電</th>\n",
       "      <th>car_fuel_汽油</th>\n",
       "      <th>car_fuel_油電</th>\n",
       "      <th>car_fuel_電動</th>\n",
       "      <th>car_gear_手排</th>\n",
       "      <th>car_gear_手自排</th>\n",
       "      <th>car_gear_自手排</th>\n",
       "      <th>car_gear_自排</th>\n",
       "    </tr>\n",
       "  </thead>\n",
       "  <tbody>\n",
       "    <tr>\n",
       "      <th>0</th>\n",
       "      <td>-3.33709</td>\n",
       "      <td>-0.012377</td>\n",
       "      <td>-0.005784</td>\n",
       "      <td>-0.390311</td>\n",
       "      <td>0.0</td>\n",
       "      <td>-0.93959</td>\n",
       "      <td>-0.018203</td>\n",
       "      <td>0</td>\n",
       "      <td>0</td>\n",
       "      <td>0</td>\n",
       "      <td>...</td>\n",
       "      <td>0</td>\n",
       "      <td>0</td>\n",
       "      <td>0</td>\n",
       "      <td>1.0</td>\n",
       "      <td>0</td>\n",
       "      <td>0</td>\n",
       "      <td>0</td>\n",
       "      <td>1.0</td>\n",
       "      <td>0</td>\n",
       "      <td>0</td>\n",
       "    </tr>\n",
       "  </tbody>\n",
       "</table>\n",
       "<p>1 rows × 5432 columns</p>\n",
       "</div>"
      ],
      "text/plain": [
       "   car_year  car_mileage  car_cylinderVolume  car_driveMode  verified  \\\n",
       "0  -3.33709    -0.012377           -0.005784      -0.390311       0.0   \n",
       "\n",
       "   car_door  car_seat  car_brand_ACURA  car_brand_ALFA ROMEO  \\\n",
       "0  -0.93959 -0.018203                0                     0   \n",
       "\n",
       "   car_brand_ALFAROMEO  ...  car_color_黑鐵灰  car_fuel_柴油  car_fuel_柴電  \\\n",
       "0                    0  ...              0            0            0   \n",
       "\n",
       "   car_fuel_汽油  car_fuel_油電  car_fuel_電動  car_gear_手排  car_gear_手自排  \\\n",
       "0          1.0            0            0            0           1.0   \n",
       "\n",
       "   car_gear_自手排  car_gear_自排  \n",
       "0             0            0  \n",
       "\n",
       "[1 rows x 5432 columns]"
      ]
     },
     "execution_count": 33,
     "metadata": {},
     "output_type": "execute_result"
    }
   ],
   "source": [
    "con = pd.concat([df2,input], join='outer', ignore_index=True)\n",
    "con = con.fillna(0)\n",
    "con"
   ]
  },
  {
   "cell_type": "code",
   "execution_count": 34,
   "id": "012d51bb-bb09-41c0-98c8-c8b3e1a4b5ba",
   "metadata": {},
   "outputs": [
    {
     "data": {
      "text/plain": [
       "Index(['car_year', 'car_mileage', 'car_cylinderVolume', 'car_driveMode',\n",
       "       'verified', 'car_door', 'car_seat', 'car_brand_ACURA',\n",
       "       'car_brand_ALFA ROMEO', 'car_brand_ALFAROMEO',\n",
       "       ...\n",
       "       'car_color_黑鐵灰', 'car_fuel_柴油', 'car_fuel_柴電', 'car_fuel_汽油',\n",
       "       'car_fuel_油電', 'car_fuel_電動', 'car_gear_手排', 'car_gear_手自排',\n",
       "       'car_gear_自手排', 'car_gear_自排'],\n",
       "      dtype='object', length=5432)"
      ]
     },
     "execution_count": 34,
     "metadata": {},
     "output_type": "execute_result"
    }
   ],
   "source": [
    "con.columns"
   ]
  },
  {
   "cell_type": "code",
   "execution_count": null,
   "id": "75da1074-223e-441e-8bca-bdfeaa26747a",
   "metadata": {},
   "outputs": [],
   "source": [
    "result = pca.fit_transform(input) # Assume X is having more than 2 dimensions    \n",
    "pickle.dump(pca, open(\"pca.pkl\",\"wb\"))"
   ]
  },
  {
   "cell_type": "code",
   "execution_count": 44,
   "id": "9c7a9e2f-2b7a-48e7-9a47-e5a48e9092f4",
   "metadata": {},
   "outputs": [],
   "source": [
    "pca_reload = pickle.load(open(\"pca.pkl\",'rb'))\n",
    "result_new = pca_reload.transform(con)"
   ]
  },
  {
   "cell_type": "code",
   "execution_count": 39,
   "id": "0d47d45b-9a5f-4ffd-95ef-29b01f288ae7",
   "metadata": {},
   "outputs": [
    {
     "data": {
      "text/plain": [
       "30"
      ]
     },
     "execution_count": 39,
     "metadata": {},
     "output_type": "execute_result"
    }
   ],
   "source": [
    "len(result_new[0])"
   ]
  },
  {
   "cell_type": "code",
   "execution_count": 46,
   "id": "e4efdaab-ad6f-484f-a16b-e243ff8b03b5",
   "metadata": {},
   "outputs": [
    {
     "data": {
      "text/html": [
       "<div>\n",
       "<style scoped>\n",
       "    .dataframe tbody tr th:only-of-type {\n",
       "        vertical-align: middle;\n",
       "    }\n",
       "\n",
       "    .dataframe tbody tr th {\n",
       "        vertical-align: top;\n",
       "    }\n",
       "\n",
       "    .dataframe thead th {\n",
       "        text-align: right;\n",
       "    }\n",
       "</style>\n",
       "<table border=\"1\" class=\"dataframe\">\n",
       "  <thead>\n",
       "    <tr style=\"text-align: right;\">\n",
       "      <th></th>\n",
       "      <th>component0</th>\n",
       "      <th>component1</th>\n",
       "      <th>component2</th>\n",
       "      <th>component3</th>\n",
       "      <th>component4</th>\n",
       "      <th>component5</th>\n",
       "      <th>component6</th>\n",
       "      <th>component7</th>\n",
       "      <th>component8</th>\n",
       "      <th>component9</th>\n",
       "      <th>...</th>\n",
       "      <th>component20</th>\n",
       "      <th>component21</th>\n",
       "      <th>component22</th>\n",
       "      <th>component23</th>\n",
       "      <th>component24</th>\n",
       "      <th>component25</th>\n",
       "      <th>component26</th>\n",
       "      <th>component27</th>\n",
       "      <th>component28</th>\n",
       "      <th>component29</th>\n",
       "    </tr>\n",
       "  </thead>\n",
       "  <tbody>\n",
       "    <tr>\n",
       "      <th>0</th>\n",
       "      <td>1.226087</td>\n",
       "      <td>2.723166</td>\n",
       "      <td>-0.04246</td>\n",
       "      <td>-0.119405</td>\n",
       "      <td>-1.448249</td>\n",
       "      <td>0.44394</td>\n",
       "      <td>0.905132</td>\n",
       "      <td>0.42313</td>\n",
       "      <td>0.168253</td>\n",
       "      <td>-0.268353</td>\n",
       "      <td>...</td>\n",
       "      <td>0.125033</td>\n",
       "      <td>0.146798</td>\n",
       "      <td>-0.107785</td>\n",
       "      <td>0.542401</td>\n",
       "      <td>0.78042</td>\n",
       "      <td>0.34598</td>\n",
       "      <td>-0.026432</td>\n",
       "      <td>-0.07051</td>\n",
       "      <td>-0.055551</td>\n",
       "      <td>-0.089915</td>\n",
       "    </tr>\n",
       "  </tbody>\n",
       "</table>\n",
       "<p>1 rows × 30 columns</p>\n",
       "</div>"
      ],
      "text/plain": [
       "   component0  component1  component2  component3  component4  component5  \\\n",
       "0    1.226087    2.723166    -0.04246   -0.119405   -1.448249     0.44394   \n",
       "\n",
       "   component6  component7  component8  component9  ...  component20  \\\n",
       "0    0.905132     0.42313    0.168253   -0.268353  ...     0.125033   \n",
       "\n",
       "   component21  component22  component23  component24  component25  \\\n",
       "0     0.146798    -0.107785     0.542401      0.78042      0.34598   \n",
       "\n",
       "   component26  component27  component28  component29  \n",
       "0    -0.026432     -0.07051    -0.055551    -0.089915  \n",
       "\n",
       "[1 rows x 30 columns]"
      ]
     },
     "execution_count": 46,
     "metadata": {},
     "output_type": "execute_result"
    }
   ],
   "source": [
    "df_scores_pca = pd.DataFrame(result_new)\n",
    "df_scores_pca.columns = [\"component\"+str(i) for i in df_scores_pca.columns]\n",
    "df_scores_pca"
   ]
  },
  {
   "cell_type": "code",
   "execution_count": 47,
   "id": "7692ab44-9a46-496e-9684-c1f1e024a1f7",
   "metadata": {},
   "outputs": [],
   "source": [
    "def predict(input):\n",
    "    pred = rf_r.predict(input)[0]\n",
    "    return pred"
   ]
  },
  {
   "cell_type": "code",
   "execution_count": 48,
   "id": "0bc3cc36-0843-46cd-9510-3ca3c6d45726",
   "metadata": {},
   "outputs": [],
   "source": [
    "result = predict(df_scores_pca)"
   ]
  },
  {
   "cell_type": "code",
   "execution_count": 49,
   "id": "a9a6ac02-cc95-476b-a98a-4f0177fc1be1",
   "metadata": {},
   "outputs": [
    {
     "data": {
      "text/plain": [
       "11.314121673933116"
      ]
     },
     "execution_count": 49,
     "metadata": {},
     "output_type": "execute_result"
    }
   ],
   "source": [
    "result"
   ]
  }
 ],
 "metadata": {
  "kernelspec": {
   "display_name": "Python 3 (ipykernel)",
   "language": "python",
   "name": "python3"
  },
  "language_info": {
   "codemirror_mode": {
    "name": "ipython",
    "version": 3
   },
   "file_extension": ".py",
   "mimetype": "text/x-python",
   "name": "python",
   "nbconvert_exporter": "python",
   "pygments_lexer": "ipython3",
   "version": "3.9.5"
  }
 },
 "nbformat": 4,
 "nbformat_minor": 5
}
