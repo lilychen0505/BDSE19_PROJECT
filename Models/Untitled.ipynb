{
 "cells": [
  {
   "cell_type": "code",
   "execution_count": 1,
   "id": "decimal-robin",
   "metadata": {},
   "outputs": [
    {
     "data": {
      "text/plain": [
       "1"
      ]
     },
     "execution_count": 1,
     "metadata": {},
     "output_type": "execute_result"
    }
   ],
   "source": [
    "import ctypes\n",
    "p = ctypes.windll.kernel32\n",
    "p.Beep(523,200)\n",
    "p.Beep(587,200)\n",
    "p.Beep(659,200)\n",
    "p.Beep(698,200)\n",
    "p.Beep(784,200)\n",
    "p.Beep(880,200)\n",
    "p.Beep(998,200)\n",
    "p.Beep(1046,200)\n"
   ]
  }
 ],
 "metadata": {
  "kernelspec": {
   "display_name": "Python 3",
   "language": "python",
   "name": "python3"
  },
  "language_info": {
   "codemirror_mode": {
    "name": "ipython",
    "version": 3
   },
   "file_extension": ".py",
   "mimetype": "text/x-python",
   "name": "python",
   "nbconvert_exporter": "python",
   "pygments_lexer": "ipython3",
   "version": "3.9.2"
  }
 },
 "nbformat": 4,
 "nbformat_minor": 5
}
