{
  "nbformat": 4,
  "nbformat_minor": 0,
  "metadata": {
    "colab": {
      "name": "yahooclean.ipynb",
      "provenance": [],
      "authorship_tag": "ABX9TyMn88VQrYUERaj4CjE4EFTM",
      "include_colab_link": true
    },
    "kernelspec": {
      "name": "python3",
      "display_name": "Python 3"
    },
    "language_info": {
      "name": "python"
    }
  },
  "cells": [
    {
      "cell_type": "markdown",
      "metadata": {
        "id": "view-in-github",
        "colab_type": "text"
      },
      "source": [
        "<a href=\"https://colab.research.google.com/github/lilychen0505/BDSE19_PROJECT/blob/JuliusChiang/yahooclean.ipynb\" target=\"_parent\"><img src=\"https://colab.research.google.com/assets/colab-badge.svg\" alt=\"Open In Colab\"/></a>"
      ]
    },
    {
      "cell_type": "code",
      "metadata": {
        "id": "sUQSDD8jp4OL"
      },
      "source": [
        "from google.colab import files\n",
        "import numpy as np\n",
        "import pandas as pd\n",
        "files.upload()"
      ],
      "execution_count": null,
      "outputs": []
    },
    {
      "cell_type": "code",
      "metadata": {
        "id": "2oKVmiE3qMTk"
      },
      "source": [
        "df_usedcar = pd.read_csv('yahoo.csv',index_col=0)"
      ],
      "execution_count": null,
      "outputs": []
    },
    {
      "cell_type": "code",
      "metadata": {
        "id": "x5vU6rR3qYSJ"
      },
      "source": [
        "df_usedcar.drop(df_usedcar.loc[df_usedcar['car_price']=='電洽','car_price'].index,inplace=True)"
      ],
      "execution_count": 48,
      "outputs": []
    },
    {
      "cell_type": "code",
      "metadata": {
        "id": "6XhVFrkfqhIb"
      },
      "source": [
        "df_usedcar.drop(df_usedcar.loc[df_usedcar['car_price']=='8,888,888,888','car_price'].index,inplace=True)"
      ],
      "execution_count": 49,
      "outputs": []
    },
    {
      "cell_type": "code",
      "metadata": {
        "id": "sg4Zk_8FrBFW"
      },
      "source": [
        "df_usedcar.drop(df_usedcar.loc[df_usedcar['car_price']=='999,999,999','car_price'].index,inplace=True)"
      ],
      "execution_count": 50,
      "outputs": []
    },
    {
      "cell_type": "code",
      "metadata": {
        "id": "eV0MdOqzrEOj"
      },
      "source": [
        "df_usedcar.drop(df_usedcar.loc[df_usedcar['car_price']=='888,888,888','car_price'].index,inplace=True)"
      ],
      "execution_count": 61,
      "outputs": []
    },
    {
      "cell_type": "code",
      "metadata": {
        "id": "ogIfLZbVrD7y"
      },
      "source": [
        "df_usedcar.drop(df_usedcar.loc[df_usedcar['car_price']=='88,888,888','car_price'].index,inplace=True)"
      ],
      "execution_count": 52,
      "outputs": []
    },
    {
      "cell_type": "code",
      "metadata": {
        "id": "p4Nqx4RArDtO"
      },
      "source": [
        "df_usedcar.drop(df_usedcar.loc[df_usedcar['car_price']=='9,999,999','car_price'].index,inplace=True)"
      ],
      "execution_count": 53,
      "outputs": []
    },
    {
      "cell_type": "code",
      "metadata": {
        "id": "oaQtgUn1rDYM"
      },
      "source": [
        "df_usedcar.drop(df_usedcar.loc[df_usedcar['car_price']=='8,888,888','car_price'].index,inplace=True)"
      ],
      "execution_count": 54,
      "outputs": []
    },
    {
      "cell_type": "code",
      "metadata": {
        "id": "z1IfN0juqnj9"
      },
      "source": [
        "df_usedcar.drop(df_usedcar.loc[df_usedcar['car_price']=='8,888,000','car_price'].index,inplace=True)"
      ],
      "execution_count": 55,
      "outputs": []
    },
    {
      "cell_type": "code",
      "metadata": {
        "id": "z1zXjMM2sL9u"
      },
      "source": [
        "df_usedcar.drop(df_usedcar.loc[df_usedcar['car_title']=='已收訂','car_title'].index,inplace=True)"
      ],
      "execution_count": 16,
      "outputs": []
    },
    {
      "cell_type": "code",
      "metadata": {
        "id": "6UvAeCsIsh5f"
      },
      "source": [
        "df_usedcar.drop(df_usedcar.loc[df_usedcar['car_title']=='收訂','car_title'].index,inplace=True)"
      ],
      "execution_count": 15,
      "outputs": []
    },
    {
      "cell_type": "code",
      "metadata": {
        "id": "E6srah1dslgf"
      },
      "source": [
        "df_usedcar.drop(df_usedcar.loc[df_usedcar['car_title']=='已成交','car_title'].index,inplace=True)"
      ],
      "execution_count": 17,
      "outputs": []
    },
    {
      "cell_type": "code",
      "metadata": {
        "id": "F2QZwKWssmmG"
      },
      "source": [
        "df_usedcar.drop(df_usedcar.loc[df_usedcar['car_title']=='已售','car_title'].index,inplace=True)"
      ],
      "execution_count": 18,
      "outputs": []
    },
    {
      "cell_type": "code",
      "metadata": {
        "id": "cJw26WSUsnBn"
      },
      "source": [
        "df_usedcar.drop(df_usedcar.loc[df_usedcar['car_title']=='售出','car_title'].index,inplace=True)"
      ],
      "execution_count": 19,
      "outputs": []
    },
    {
      "cell_type": "code",
      "metadata": {
        "id": "u1a7Ln1Usnda"
      },
      "source": [
        "df_usedcar.drop(df_usedcar.loc[df_usedcar['car_title']=='保留','car_title'].index,inplace=True)"
      ],
      "execution_count": 20,
      "outputs": []
    },
    {
      "cell_type": "code",
      "metadata": {
        "id": "8IK_JSdKtCXV"
      },
      "source": [
        "df_usedcar.drop(df_usedcar.loc[df_usedcar['car_color']=='其它顏色','car_color'].index,inplace=True)"
      ],
      "execution_count": 56,
      "outputs": []
    },
    {
      "cell_type": "code",
      "metadata": {
        "id": "IZVrLeAAt1Vr"
      },
      "source": [
        "df_usedcar.drop(df_usedcar.loc[df_usedcar['car_fuel']=='其它','car_fuel'].index,inplace=True)"
      ],
      "execution_count": 22,
      "outputs": []
    },
    {
      "cell_type": "code",
      "metadata": {
        "id": "FQ7-abbitJol"
      },
      "source": [
        "df_usedcar['car_fuel']= df_usedcar['car_fuel'].replace({'純電動':'電動'})"
      ],
      "execution_count": 57,
      "outputs": []
    },
    {
      "cell_type": "code",
      "metadata": {
        "id": "iKBrJ0phGS42"
      },
      "source": [
        ""
      ],
      "execution_count": null,
      "outputs": []
    },
    {
      "cell_type": "code",
      "metadata": {
        "id": "1VqbtkUKto3J"
      },
      "source": [
        "df_usedcar['dealer_name']= df_usedcar['dealer_name'].replace('[','').replace(']','').replace(\"'\",'') "
      ],
      "execution_count": 28,
      "outputs": []
    },
    {
      "cell_type": "code",
      "metadata": {
        "id": "vFksZmKW2tyT"
      },
      "source": [
        "df_usedcar['dealer_address']= df_usedcar['dealer_address'].replace('[','').replace(']','').replace(\"'\",'') "
      ],
      "execution_count": 34,
      "outputs": []
    },
    {
      "cell_type": "code",
      "metadata": {
        "id": "JSApPB8b7G5k"
      },
      "source": [
        "df_usedcar['dealer_name']= df_usedcar['dealer_name'].replace({'[':'',']':'',\"'\":''})"
      ],
      "execution_count": 40,
      "outputs": []
    },
    {
      "cell_type": "code",
      "metadata": {
        "id": "mY7O97KThC3O"
      },
      "source": [
        "df_usedcar['dealer_name']= df_usedcar['dealer_name'].str.split('[', expand=True)"
      ],
      "execution_count": 64,
      "outputs": []
    },
    {
      "cell_type": "code",
      "metadata": {
        "colab": {
          "base_uri": "https://localhost:8080/"
        },
        "id": "iD5VSHUn7721",
        "outputId": "8e17fe92-88a6-42fb-ae7d-0d491927d8e1"
      },
      "source": [
        "df_usedcar['dealer_name'].dtype"
      ],
      "execution_count": 44,
      "outputs": [
        {
          "output_type": "execute_result",
          "data": {
            "text/plain": [
              "dtype('O')"
            ]
          },
          "metadata": {
            "tags": []
          },
          "execution_count": 44
        }
      ]
    },
    {
      "cell_type": "code",
      "metadata": {
        "id": "W6bsLsHv5hZd"
      },
      "source": [
        "df_usedcar"
      ],
      "execution_count": null,
      "outputs": []
    },
    {
      "cell_type": "code",
      "metadata": {
        "id": "7p3f7Dz83RUS"
      },
      "source": [
        "df_usedcar.to_csv('yahoo_clear2.csv', mode='w',encoding='utf-8-sig')"
      ],
      "execution_count": 62,
      "outputs": []
    },
    {
      "cell_type": "code",
      "metadata": {
        "colab": {
          "base_uri": "https://localhost:8080/",
          "height": 17
        },
        "id": "7o3GVMxC3SC7",
        "outputId": "c816de7f-4fe2-4a46-bd76-4f7813fda9dc"
      },
      "source": [
        "from google.colab import files\n",
        "files.download('yahoo_clear2.csv')"
      ],
      "execution_count": 63,
      "outputs": [
        {
          "output_type": "display_data",
          "data": {
            "application/javascript": [
              "\n",
              "    async function download(id, filename, size) {\n",
              "      if (!google.colab.kernel.accessAllowed) {\n",
              "        return;\n",
              "      }\n",
              "      const div = document.createElement('div');\n",
              "      const label = document.createElement('label');\n",
              "      label.textContent = `Downloading \"${filename}\": `;\n",
              "      div.appendChild(label);\n",
              "      const progress = document.createElement('progress');\n",
              "      progress.max = size;\n",
              "      div.appendChild(progress);\n",
              "      document.body.appendChild(div);\n",
              "\n",
              "      const buffers = [];\n",
              "      let downloaded = 0;\n",
              "\n",
              "      const channel = await google.colab.kernel.comms.open(id);\n",
              "      // Send a message to notify the kernel that we're ready.\n",
              "      channel.send({})\n",
              "\n",
              "      for await (const message of channel.messages) {\n",
              "        // Send a message to notify the kernel that we're ready.\n",
              "        channel.send({})\n",
              "        if (message.buffers) {\n",
              "          for (const buffer of message.buffers) {\n",
              "            buffers.push(buffer);\n",
              "            downloaded += buffer.byteLength;\n",
              "            progress.value = downloaded;\n",
              "          }\n",
              "        }\n",
              "      }\n",
              "      const blob = new Blob(buffers, {type: 'application/binary'});\n",
              "      const a = document.createElement('a');\n",
              "      a.href = window.URL.createObjectURL(blob);\n",
              "      a.download = filename;\n",
              "      div.appendChild(a);\n",
              "      a.click();\n",
              "      div.remove();\n",
              "    }\n",
              "  "
            ],
            "text/plain": [
              "<IPython.core.display.Javascript object>"
            ]
          },
          "metadata": {
            "tags": []
          }
        },
        {
          "output_type": "display_data",
          "data": {
            "application/javascript": [
              "download(\"download_46dea5bf-393f-48f7-b7a3-b7fc91b6e9fe\", \"yahoo_clear2.csv\", 393985)"
            ],
            "text/plain": [
              "<IPython.core.display.Javascript object>"
            ]
          },
          "metadata": {
            "tags": []
          }
        }
      ]
    }
  ]
}