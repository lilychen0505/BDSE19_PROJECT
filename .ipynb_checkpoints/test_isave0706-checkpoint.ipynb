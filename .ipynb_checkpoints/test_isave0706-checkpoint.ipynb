{
 "cells": [
  {
   "cell_type": "code",
   "execution_count": 1,
   "id": "2e9ccb8f",
   "metadata": {},
   "outputs": [],
   "source": [
    "import requests\n",
    "import pandas as pd\n",
    "from pprint import pprint\n",
    "from bs4 import BeautifulSoup\n",
    "import numpy as np\n",
    "import time\n",
    "import random"
   ]
  },
  {
   "cell_type": "code",
   "execution_count": 2,
   "id": "93750aec",
   "metadata": {},
   "outputs": [],
   "source": [
    "def get_resource(url):\n",
    "    headers = {\n",
    "    'User-Agent':'Mozilla/5.0 (Windows NT 10.0; Win64; x64) AppleWebKit/537.36 (KHTML, like Gecko) Chrome/91.0.4472.124 Safari/537.36'}\n",
    "    while True:\n",
    "        try:\n",
    "            time.sleep(random.uniform(1, 5))\n",
    "            r = requests.get(url, headers=headers)\n",
    "            return r\n",
    "        except:\n",
    "            print(\"requests.get failed, so try again!\")\n",
    "            time.sleep(5)\n",
    "            #r = requests.get(url, headers=headers, timeout=5)\n",
    "            #return r\n",
    "            continue\n",
    "        break"
   ]
  },
  {
   "cell_type": "code",
   "execution_count": 3,
   "id": "980c89f8",
   "metadata": {},
   "outputs": [],
   "source": [
    "def parse_html(r):\n",
    "    if r.status_code == requests.codes.ok:\n",
    "        r.encoding = 'utf8'\n",
    "        soup = BeautifulSoup(r.text, 'lxml')\n",
    "    else:\n",
    "        print(\"Http請求錯誤: \"+url)\n",
    "        soup = None\n",
    "    return soup"
   ]
  },
  {
   "cell_type": "code",
   "execution_count": 17,
   "id": "81547ff0",
   "metadata": {},
   "outputs": [],
   "source": [
    "headers = {\n",
    "    'User-Agent':'Mozilla/5.0 (Windows NT 10.0; Win64; x64) AppleWebKit/537.36 (KHTML, like Gecko) Chrome/89.0.4389.114 Safari/537.36'}\n",
    "websites = []\n",
    "for i in range(1,132): #4712筆, 131pages\n",
    "    url=f'https://www.isave.com.tw/cars.aspx?pageindex={i}&sort_expr=car_yy&sort_dir=desc' #依照年份新到舊排列\n",
    "    time.sleep(8)\n",
    "    r=requests.get(url,headers=headers)\n",
    "    soup=BeautifulSoup(r.text,'lxml')\n",
    "    car_info=soup.find_all(class_='listing') \n",
    "    for i in car_info:\n",
    "        websites.append(i.a.get('href'))"
   ]
  },
  {
   "cell_type": "code",
   "execution_count": 19,
   "id": "ccb08dd1",
   "metadata": {},
   "outputs": [
    {
     "data": {
      "text/plain": [
       "4715"
      ]
     },
     "execution_count": 19,
     "metadata": {},
     "output_type": "execute_result"
    }
   ],
   "source": [
    "len(set(websites))"
   ]
  },
  {
   "cell_type": "code",
   "execution_count": 4,
   "id": "ecdd01cc",
   "metadata": {
    "scrolled": true
   },
   "outputs": [
    {
     "data": {
      "text/plain": [
       "0    car.aspx?cid=195648\n",
       "1    car.aspx?cid=195646\n",
       "2    car.aspx?cid=193888\n",
       "Name: isave_columns, dtype: object"
      ]
     },
     "execution_count": 4,
     "metadata": {},
     "output_type": "execute_result"
    }
   ],
   "source": [
    "#pd_websites = pd.DataFrame(websites, columns=['isave_columns'])\n",
    "#pd_websites.to_csv('isave_websites0706.csv', encoding='utf_8_sig')\n",
    "websites = pd.read_csv('isave_websites0706.csv', index_col=0)\n",
    "websites['isave_columns'][:3]"
   ]
  },
  {
   "cell_type": "code",
   "execution_count": 17,
   "id": "037bf49d",
   "metadata": {},
   "outputs": [
    {
     "name": "stdout",
     "output_type": "stream",
     "text": [
      "requests.get failed, so try again!\n"
     ]
    }
   ],
   "source": [
    "#Second Step: Get the detail of the cars\n",
    "#df_detail_basic=pd.DataFrame(columns=['車商', '車款', '車型', '年份', '縣市', '顏色', '排檔', '排氣量', '里程數'])\n",
    "df_detail_basic=pd.DataFrame(columns=['dealer_name', 'car_brand', 'car_model', 'car_year', 'car_address', 'car_color', 'car_gear', 'car_cylinderVolume', 'car_mileage'])\n",
    "#df_equipements=pd.DataFrame(columns=['皮椅','晶片系統','恆溫空調','VCD','ABS','CD','電動窗','中控鎖','電動後視鏡','天窗','霧燈','DVD','倒車顯影','衛星導航','TCS防滑','防盜','安全氣囊','定速','一手車','電動座椅','核桃木飾板','4WD','倒車雷達','行車電腦','總代理','MP3','柴油','ＨＩＤ頭燈','鋁圈'])\n",
    "df_equipements=pd.DataFrame(columns=['皮椅','晶片系統','auto_AC','IVI_sys1','ABS','IVI_sys2','電動窗','中控鎖','電動後視鏡','Sunroof','霧燈','IVI_sys3','倒車顯影','衛星導航','TCS防滑','防盜','SRS','定速','一手車','electric_seat','核桃木飾板','4WD','倒車雷達','行車電腦','總代理','MP3','柴油','ＨＩＤ','鋁圈'])\n",
    "df_others=pd.DataFrame(columns=[])\n",
    "\n",
    "\n",
    "title_all = []\n",
    "price = []\n",
    "detail_basic_all = []\n",
    "equipements_all = []\n",
    "address_all = []\n",
    "photo_all = []\n",
    "certificated_all = []\n",
    "id = []\n",
    "for j in websites['isave_columns'][:1000]: #4717筆, 132pages\n",
    "    try:\n",
    "        url=f'https://www.isave.com.tw/{j}' \n",
    "        time.sleep(6)\n",
    "        r=get_resource(url)\n",
    "        soup=parse_html(r)\n",
    "\n",
    "        #price\n",
    "        tmp1=soup.find(class_='price').text.strip()\n",
    "        price.append(tmp1)\n",
    "\n",
    "        #title\n",
    "        title = soup.find_all(class_=\"car-page-small-title\")\n",
    "        title2 = BeautifulSoup(str(title), 'html.parser').text\n",
    "        title_all.append(title2) \n",
    "\n",
    "        #photo\n",
    "        if soup.find(id=\"royalSlider-block\", class_=\"royalSlider rsDefault image\") is not None:\n",
    "            car_photo = soup.find(id=\"royalSlider-block\", class_=\"royalSlider rsDefault image\")\n",
    "            car_photo2 = BeautifulSoup(str(car_photo), 'html.parser').a\n",
    "            photo_all.append('https://www.isave.com.tw'+car_photo2.get('href'))\n",
    "        else:\n",
    "            photo_all.append('')\n",
    "\n",
    "        #df_detail_basic車商名...\n",
    "        detail_basic = soup.find_all(class_='main-car-details')\n",
    "        #區塊轉型為HTML字串，再給 bs4 進行一次宣告\n",
    "        detail_basic_1 = BeautifulSoup(str(detail_basic), 'html.parser')\n",
    "        detail_basic_2 = detail_basic_1.find_all(class_='option-content')\n",
    "        tmp = []\n",
    "        for z in detail_basic_2:\n",
    "            tmp.append(z.text.strip())\n",
    "        detail_basic_all.append(tmp)\n",
    "\n",
    "\n",
    "        #df_equipements\n",
    "        equipements = soup.find_all(class_='car-equipment')\n",
    "        equipements2 = BeautifulSoup(str(equipements), 'html.parser')\n",
    "        equipements3 = equipements2.find_all('li')\n",
    "        tmp = []\n",
    "        for k in equipements3:\n",
    "            if k.img.get('src') == 'images/icon/isave_yes_icon.png':\n",
    "                tmp.append('1')\n",
    "            else:\n",
    "                tmp.append('0')\n",
    "        equipements_all.append(tmp)\n",
    "\n",
    "        #seller_address\n",
    "        if soup.find_all(class_='store-detail') is not None:\n",
    "            address = soup.find_all(class_='store-detail')\n",
    "            address2 = BeautifulSoup(str(address), 'html.parser')\n",
    "            for i in address2.find_all('span'):\n",
    "                if '地　　　　　址' in i.text:\n",
    "                    address_all.append(i.text.strip().replace('地　　　　　址：　',''))\n",
    "        else:\n",
    "            address_all.append(\"\")\n",
    "\n",
    "        #certificated\n",
    "        if soup.find_all(class_=\"car-tags\") is not None:\n",
    "            certificated = soup.find_all(class_=\"car-tags\")\n",
    "            certificated2 = BeautifulSoup(str(certificated), 'html.parser').div.text\n",
    "            if '認證車' in certificated2:\n",
    "                certificated_all.append('1')\n",
    "            else:\n",
    "                certificated_all.append('0')\n",
    "        else:\n",
    "            certificated_all.append('0')\n",
    "\n",
    "        #id\n",
    "        id.append(j.replace(\"car.aspx?cid=\",\"\"))\n",
    "        \n",
    "        \n",
    "    except:\n",
    "        continue\n",
    "    \n",
    "\n",
    "df1 = pd.DataFrame(detail_basic_all, columns=df_detail_basic.columns)\n",
    "df2 = pd.DataFrame(equipements_all, columns=df_equipements.columns) \n",
    "df_detail_basic = df_detail_basic.append(df1, ignore_index=True) \n",
    "df_equipements = df_equipements.append(df2, ignore_index=True)\n",
    "car_database = pd.concat([df_detail_basic, df_equipements,],axis =1)"
   ]
  },
  {
   "cell_type": "code",
   "execution_count": 18,
   "id": "93dc88ce",
   "metadata": {},
   "outputs": [
    {
     "data": {
      "text/plain": [
       "(1000, 38)"
      ]
     },
     "execution_count": 18,
     "metadata": {},
     "output_type": "execute_result"
    }
   ],
   "source": [
    "#car_database.head()\n",
    "car_database.shape"
   ]
  },
  {
   "cell_type": "code",
   "execution_count": 1,
   "id": "909fc677",
   "metadata": {},
   "outputs": [
    {
     "ename": "NameError",
     "evalue": "name 'certificated_all' is not defined",
     "output_type": "error",
     "traceback": [
      "\u001b[1;31m---------------------------------------------------------------------------\u001b[0m",
      "\u001b[1;31mNameError\u001b[0m                                 Traceback (most recent call last)",
      "\u001b[1;32m<ipython-input-1-2b14b3ad157b>\u001b[0m in \u001b[0;36m<module>\u001b[1;34m\u001b[0m\n\u001b[1;32m----> 1\u001b[1;33m \u001b[0mlen\u001b[0m\u001b[1;33m(\u001b[0m\u001b[0mcertificated_all\u001b[0m\u001b[1;33m)\u001b[0m\u001b[1;33m\u001b[0m\u001b[1;33m\u001b[0m\u001b[0m\n\u001b[0m",
      "\u001b[1;31mNameError\u001b[0m: name 'certificated_all' is not defined"
     ]
    }
   ],
   "source": [
    "len(certificated_all) #這個只有995， 問題在這  無法弄在一起"
   ]
  },
  {
   "cell_type": "code",
   "execution_count": 33,
   "id": "d670995e",
   "metadata": {},
   "outputs": [
    {
     "name": "stdout",
     "output_type": "stream",
     "text": [
      "   dealer_name car_brand      car_model car_year car_address car_color  \\\n",
      "0         萬通汽車    LUXGEN            URX    2021年         台中市       白色系   \n",
      "1         萬通汽車    LUXGEN            URX    2021年         台中市       白色系   \n",
      "2         萬通汽車    LUXGEN            URX    2021年         台中市       白色系   \n",
      "3         萬通汽車    LUXGEN            URX    2021年         台中市       白色系   \n",
      "4         萬通汽車    LUXGEN            URX    2021年         台中市       白色系   \n",
      "5      辛巴克有限公司      FORD           KUGA    2021年         台中市       白色系   \n",
      "6         萬通汽車    LUXGEN            URX    2021年         台中市       白色系   \n",
      "7         萬通汽車    LUXGEN            URX    2021年         台中市       白色系   \n",
      "8      辛巴克有限公司      FORD           KUGA    2021年         台中市       白色系   \n",
      "9       廣一汽車商行    SUZUKI          JIMNY    2021年         嘉義縣       灰色系   \n",
      "10        萬通汽車    LUXGEN            URX    2021年         台中市       白色系   \n",
      "11        萬通汽車    LUXGEN            URX    2021年         台中市       白色系   \n",
      "12     辛巴克有限公司      FORD           KUGA    2021年         台中市       白色系   \n",
      "13      廣一汽車商行    SUZUKI          JIMNY    2021年         嘉義縣       灰色系   \n",
      "14        大信汽車    TOYOTA  COROLLA CROSS    2021年         新北市       白色系   \n",
      "15        萬通汽車    LUXGEN            URX    2021年         台中市       白色系   \n",
      "16        萬通汽車    LUXGEN            URX    2021年         台中市       白色系   \n",
      "17     辛巴克有限公司      FORD           KUGA    2021年         台中市       白色系   \n",
      "18      廣一汽車商行    SUZUKI          JIMNY    2021年         嘉義縣       灰色系   \n",
      "19        大信汽車    TOYOTA  COROLLA CROSS    2021年         新北市       白色系   \n",
      "\n",
      "   car_gear car_cylinderVolume car_mileage  \n",
      "0       手自排             1798CC         1KM  \n",
      "1       手自排             1798CC         1KM  \n",
      "2       手自排             1798CC         1KM  \n",
      "3       手自排             1798CC         1KM  \n",
      "4       手自排             1798CC         1KM  \n",
      "5       手自排             1999CC      4275KM  \n",
      "6       手自排             1798CC         1KM  \n",
      "7       手自排             1798CC         1KM  \n",
      "8       手自排             1999CC      4275KM  \n",
      "9        自排             1462CC        48KM  \n",
      "10      手自排             1798CC         1KM  \n",
      "11      手自排             1798CC         1KM  \n",
      "12      手自排             1999CC      4275KM  \n",
      "13       自排             1462CC        48KM  \n",
      "14      手自排             1798CC         3KM  \n",
      "15      手自排             1798CC         1KM  \n",
      "16      手自排             1798CC         1KM  \n",
      "17      手自排             1999CC      4275KM  \n",
      "18       自排             1462CC        48KM  \n",
      "19      手自排             1798CC         3KM  \n",
      "(20, 9)\n"
     ]
    }
   ],
   "source": [
    "df_detail_basic = df_detail_basic.append(df1, ignore_index=True)\n",
    "print(df_detail_basic)\n",
    "print(df_detail_basic.shape)"
   ]
  },
  {
   "cell_type": "code",
   "execution_count": 24,
   "id": "512b296b",
   "metadata": {},
   "outputs": [
    {
     "data": {
      "text/html": [
       "<div>\n",
       "<style scoped>\n",
       "    .dataframe tbody tr th:only-of-type {\n",
       "        vertical-align: middle;\n",
       "    }\n",
       "\n",
       "    .dataframe tbody tr th {\n",
       "        vertical-align: top;\n",
       "    }\n",
       "\n",
       "    .dataframe thead th {\n",
       "        text-align: right;\n",
       "    }\n",
       "</style>\n",
       "<table border=\"1\" class=\"dataframe\">\n",
       "  <thead>\n",
       "    <tr style=\"text-align: right;\">\n",
       "      <th></th>\n",
       "      <th>dealer_name</th>\n",
       "      <th>car_brand</th>\n",
       "      <th>car_model</th>\n",
       "      <th>car_year</th>\n",
       "      <th>car_address</th>\n",
       "      <th>car_color</th>\n",
       "      <th>car_gear</th>\n",
       "      <th>car_cylinderVolume</th>\n",
       "      <th>car_mileage</th>\n",
       "    </tr>\n",
       "  </thead>\n",
       "  <tbody>\n",
       "    <tr>\n",
       "      <th>0</th>\n",
       "      <td>萬通汽車</td>\n",
       "      <td>LUXGEN</td>\n",
       "      <td>URX</td>\n",
       "      <td>2021年</td>\n",
       "      <td>台中市</td>\n",
       "      <td>白色系</td>\n",
       "      <td>手自排</td>\n",
       "      <td>1798CC</td>\n",
       "      <td>1KM</td>\n",
       "    </tr>\n",
       "    <tr>\n",
       "      <th>1</th>\n",
       "      <td>萬通汽車</td>\n",
       "      <td>LUXGEN</td>\n",
       "      <td>URX</td>\n",
       "      <td>2021年</td>\n",
       "      <td>台中市</td>\n",
       "      <td>白色系</td>\n",
       "      <td>手自排</td>\n",
       "      <td>1798CC</td>\n",
       "      <td>1KM</td>\n",
       "    </tr>\n",
       "    <tr>\n",
       "      <th>2</th>\n",
       "      <td>萬通汽車</td>\n",
       "      <td>LUXGEN</td>\n",
       "      <td>URX</td>\n",
       "      <td>2021年</td>\n",
       "      <td>台中市</td>\n",
       "      <td>白色系</td>\n",
       "      <td>手自排</td>\n",
       "      <td>1798CC</td>\n",
       "      <td>1KM</td>\n",
       "    </tr>\n",
       "    <tr>\n",
       "      <th>3</th>\n",
       "      <td>萬通汽車</td>\n",
       "      <td>LUXGEN</td>\n",
       "      <td>URX</td>\n",
       "      <td>2021年</td>\n",
       "      <td>台中市</td>\n",
       "      <td>白色系</td>\n",
       "      <td>手自排</td>\n",
       "      <td>1798CC</td>\n",
       "      <td>1KM</td>\n",
       "    </tr>\n",
       "    <tr>\n",
       "      <th>4</th>\n",
       "      <td>萬通汽車</td>\n",
       "      <td>LUXGEN</td>\n",
       "      <td>URX</td>\n",
       "      <td>2021年</td>\n",
       "      <td>台中市</td>\n",
       "      <td>白色系</td>\n",
       "      <td>手自排</td>\n",
       "      <td>1798CC</td>\n",
       "      <td>1KM</td>\n",
       "    </tr>\n",
       "    <tr>\n",
       "      <th>5</th>\n",
       "      <td>辛巴克有限公司</td>\n",
       "      <td>FORD</td>\n",
       "      <td>KUGA</td>\n",
       "      <td>2021年</td>\n",
       "      <td>台中市</td>\n",
       "      <td>白色系</td>\n",
       "      <td>手自排</td>\n",
       "      <td>1999CC</td>\n",
       "      <td>4275KM</td>\n",
       "    </tr>\n",
       "    <tr>\n",
       "      <th>6</th>\n",
       "      <td>萬通汽車</td>\n",
       "      <td>LUXGEN</td>\n",
       "      <td>URX</td>\n",
       "      <td>2021年</td>\n",
       "      <td>台中市</td>\n",
       "      <td>白色系</td>\n",
       "      <td>手自排</td>\n",
       "      <td>1798CC</td>\n",
       "      <td>1KM</td>\n",
       "    </tr>\n",
       "    <tr>\n",
       "      <th>7</th>\n",
       "      <td>萬通汽車</td>\n",
       "      <td>LUXGEN</td>\n",
       "      <td>URX</td>\n",
       "      <td>2021年</td>\n",
       "      <td>台中市</td>\n",
       "      <td>白色系</td>\n",
       "      <td>手自排</td>\n",
       "      <td>1798CC</td>\n",
       "      <td>1KM</td>\n",
       "    </tr>\n",
       "    <tr>\n",
       "      <th>8</th>\n",
       "      <td>辛巴克有限公司</td>\n",
       "      <td>FORD</td>\n",
       "      <td>KUGA</td>\n",
       "      <td>2021年</td>\n",
       "      <td>台中市</td>\n",
       "      <td>白色系</td>\n",
       "      <td>手自排</td>\n",
       "      <td>1999CC</td>\n",
       "      <td>4275KM</td>\n",
       "    </tr>\n",
       "    <tr>\n",
       "      <th>9</th>\n",
       "      <td>廣一汽車商行</td>\n",
       "      <td>SUZUKI</td>\n",
       "      <td>JIMNY</td>\n",
       "      <td>2021年</td>\n",
       "      <td>嘉義縣</td>\n",
       "      <td>灰色系</td>\n",
       "      <td>自排</td>\n",
       "      <td>1462CC</td>\n",
       "      <td>48KM</td>\n",
       "    </tr>\n",
       "    <tr>\n",
       "      <th>10</th>\n",
       "      <td>萬通汽車</td>\n",
       "      <td>LUXGEN</td>\n",
       "      <td>URX</td>\n",
       "      <td>2021年</td>\n",
       "      <td>台中市</td>\n",
       "      <td>白色系</td>\n",
       "      <td>手自排</td>\n",
       "      <td>1798CC</td>\n",
       "      <td>1KM</td>\n",
       "    </tr>\n",
       "    <tr>\n",
       "      <th>11</th>\n",
       "      <td>萬通汽車</td>\n",
       "      <td>LUXGEN</td>\n",
       "      <td>URX</td>\n",
       "      <td>2021年</td>\n",
       "      <td>台中市</td>\n",
       "      <td>白色系</td>\n",
       "      <td>手自排</td>\n",
       "      <td>1798CC</td>\n",
       "      <td>1KM</td>\n",
       "    </tr>\n",
       "    <tr>\n",
       "      <th>12</th>\n",
       "      <td>辛巴克有限公司</td>\n",
       "      <td>FORD</td>\n",
       "      <td>KUGA</td>\n",
       "      <td>2021年</td>\n",
       "      <td>台中市</td>\n",
       "      <td>白色系</td>\n",
       "      <td>手自排</td>\n",
       "      <td>1999CC</td>\n",
       "      <td>4275KM</td>\n",
       "    </tr>\n",
       "    <tr>\n",
       "      <th>13</th>\n",
       "      <td>廣一汽車商行</td>\n",
       "      <td>SUZUKI</td>\n",
       "      <td>JIMNY</td>\n",
       "      <td>2021年</td>\n",
       "      <td>嘉義縣</td>\n",
       "      <td>灰色系</td>\n",
       "      <td>自排</td>\n",
       "      <td>1462CC</td>\n",
       "      <td>48KM</td>\n",
       "    </tr>\n",
       "    <tr>\n",
       "      <th>14</th>\n",
       "      <td>大信汽車</td>\n",
       "      <td>TOYOTA</td>\n",
       "      <td>COROLLA CROSS</td>\n",
       "      <td>2021年</td>\n",
       "      <td>新北市</td>\n",
       "      <td>白色系</td>\n",
       "      <td>手自排</td>\n",
       "      <td>1798CC</td>\n",
       "      <td>3KM</td>\n",
       "    </tr>\n",
       "  </tbody>\n",
       "</table>\n",
       "</div>"
      ],
      "text/plain": [
       "   dealer_name car_brand      car_model car_year car_address car_color  \\\n",
       "0         萬通汽車    LUXGEN            URX    2021年         台中市       白色系   \n",
       "1         萬通汽車    LUXGEN            URX    2021年         台中市       白色系   \n",
       "2         萬通汽車    LUXGEN            URX    2021年         台中市       白色系   \n",
       "3         萬通汽車    LUXGEN            URX    2021年         台中市       白色系   \n",
       "4         萬通汽車    LUXGEN            URX    2021年         台中市       白色系   \n",
       "5      辛巴克有限公司      FORD           KUGA    2021年         台中市       白色系   \n",
       "6         萬通汽車    LUXGEN            URX    2021年         台中市       白色系   \n",
       "7         萬通汽車    LUXGEN            URX    2021年         台中市       白色系   \n",
       "8      辛巴克有限公司      FORD           KUGA    2021年         台中市       白色系   \n",
       "9       廣一汽車商行    SUZUKI          JIMNY    2021年         嘉義縣       灰色系   \n",
       "10        萬通汽車    LUXGEN            URX    2021年         台中市       白色系   \n",
       "11        萬通汽車    LUXGEN            URX    2021年         台中市       白色系   \n",
       "12     辛巴克有限公司      FORD           KUGA    2021年         台中市       白色系   \n",
       "13      廣一汽車商行    SUZUKI          JIMNY    2021年         嘉義縣       灰色系   \n",
       "14        大信汽車    TOYOTA  COROLLA CROSS    2021年         新北市       白色系   \n",
       "\n",
       "   car_gear car_cylinderVolume car_mileage  \n",
       "0       手自排             1798CC         1KM  \n",
       "1       手自排             1798CC         1KM  \n",
       "2       手自排             1798CC         1KM  \n",
       "3       手自排             1798CC         1KM  \n",
       "4       手自排             1798CC         1KM  \n",
       "5       手自排             1999CC      4275KM  \n",
       "6       手自排             1798CC         1KM  \n",
       "7       手自排             1798CC         1KM  \n",
       "8       手自排             1999CC      4275KM  \n",
       "9        自排             1462CC        48KM  \n",
       "10      手自排             1798CC         1KM  \n",
       "11      手自排             1798CC         1KM  \n",
       "12      手自排             1999CC      4275KM  \n",
       "13       自排             1462CC        48KM  \n",
       "14      手自排             1798CC         3KM  "
      ]
     },
     "execution_count": 24,
     "metadata": {},
     "output_type": "execute_result"
    }
   ],
   "source": [
    "df_detail_basic"
   ]
  },
  {
   "cell_type": "code",
   "execution_count": 19,
   "id": "17ee7dc9",
   "metadata": {},
   "outputs": [
    {
     "data": {
      "text/plain": [
       "0    car.aspx?cid=195648\n",
       "1    car.aspx?cid=195646\n",
       "2    car.aspx?cid=193888\n",
       "3    car.aspx?cid=191384\n",
       "4    car.aspx?cid=191312\n",
       "Name: isave_columns, dtype: object"
      ]
     },
     "execution_count": 19,
     "metadata": {},
     "output_type": "execute_result"
    }
   ],
   "source": [
    "websites['isave_columns'][:5]"
   ]
  },
  {
   "cell_type": "code",
   "execution_count": 41,
   "id": "aa0ff8ad",
   "metadata": {},
   "outputs": [
    {
     "data": {
      "text/plain": [
       "'https://www.isave.com.tw/car.aspx?cid=195570'"
      ]
     },
     "execution_count": 41,
     "metadata": {},
     "output_type": "execute_result"
    }
   ],
   "source": [
    "url"
   ]
  },
  {
   "cell_type": "code",
   "execution_count": 33,
   "id": "9a3e158a",
   "metadata": {},
   "outputs": [
    {
     "data": {
      "text/plain": [
       "['car.aspx?cid=195648', 'car.aspx?cid=195646', 'car.aspx?cid=193888']"
      ]
     },
     "execution_count": 33,
     "metadata": {},
     "output_type": "execute_result"
    }
   ],
   "source": [
    "websites[:3]"
   ]
  },
  {
   "cell_type": "code",
   "execution_count": 127,
   "id": "d564a358",
   "metadata": {},
   "outputs": [],
   "source": [
    "pd.DataFrame(detail_basic_all, columns=df_detail_basic.columns)\n",
    "#car_database.to_csv('car_isave_test.csv', encoding='utf_8_sig')"
   ]
  },
  {
   "cell_type": "code",
   "execution_count": 21,
   "id": "7734d785",
   "metadata": {
    "scrolled": true
   },
   "outputs": [
    {
     "ename": "ValueError",
     "evalue": "Length of values (995) does not match length of index (1000)",
     "output_type": "error",
     "traceback": [
      "\u001b[1;31m---------------------------------------------------------------------------\u001b[0m",
      "\u001b[1;31mValueError\u001b[0m                                Traceback (most recent call last)",
      "\u001b[1;32m<ipython-input-21-689410f30e63>\u001b[0m in \u001b[0;36m<module>\u001b[1;34m\u001b[0m\n\u001b[0;32m      3\u001b[0m \u001b[0mcar_database\u001b[0m\u001b[1;33m[\u001b[0m\u001b[1;34m'car_photo'\u001b[0m\u001b[1;33m]\u001b[0m \u001b[1;33m=\u001b[0m \u001b[0mphoto_all\u001b[0m\u001b[1;33m\u001b[0m\u001b[1;33m\u001b[0m\u001b[0m\n\u001b[0;32m      4\u001b[0m \u001b[0mcar_database\u001b[0m\u001b[1;33m[\u001b[0m\u001b[1;34m'car_title'\u001b[0m\u001b[1;33m]\u001b[0m \u001b[1;33m=\u001b[0m \u001b[0mtitle_all\u001b[0m\u001b[1;33m\u001b[0m\u001b[1;33m\u001b[0m\u001b[0m\n\u001b[1;32m----> 5\u001b[1;33m \u001b[0mcar_database\u001b[0m\u001b[1;33m[\u001b[0m\u001b[1;34m'verified'\u001b[0m\u001b[1;33m]\u001b[0m \u001b[1;33m=\u001b[0m \u001b[0mcertificated_all\u001b[0m\u001b[1;33m\u001b[0m\u001b[1;33m\u001b[0m\u001b[0m\n\u001b[0m\u001b[0;32m      6\u001b[0m \u001b[0mcar_database\u001b[0m\u001b[1;33m[\u001b[0m\u001b[1;34m'id'\u001b[0m\u001b[1;33m]\u001b[0m \u001b[1;33m=\u001b[0m \u001b[0mcertificated_all\u001b[0m\u001b[1;33m\u001b[0m\u001b[1;33m\u001b[0m\u001b[0m\n\u001b[0;32m      7\u001b[0m \u001b[0mcar_database\u001b[0m\u001b[1;33m.\u001b[0m\u001b[0mhead\u001b[0m\u001b[1;33m(\u001b[0m\u001b[1;33m)\u001b[0m\u001b[1;33m\u001b[0m\u001b[1;33m\u001b[0m\u001b[0m\n",
      "\u001b[1;32m~\\anaconda3\\lib\\site-packages\\pandas\\core\\frame.py\u001b[0m in \u001b[0;36m__setitem__\u001b[1;34m(self, key, value)\u001b[0m\n\u001b[0;32m   3161\u001b[0m         \u001b[1;32melse\u001b[0m\u001b[1;33m:\u001b[0m\u001b[1;33m\u001b[0m\u001b[1;33m\u001b[0m\u001b[0m\n\u001b[0;32m   3162\u001b[0m             \u001b[1;31m# set column\u001b[0m\u001b[1;33m\u001b[0m\u001b[1;33m\u001b[0m\u001b[1;33m\u001b[0m\u001b[0m\n\u001b[1;32m-> 3163\u001b[1;33m             \u001b[0mself\u001b[0m\u001b[1;33m.\u001b[0m\u001b[0m_set_item\u001b[0m\u001b[1;33m(\u001b[0m\u001b[0mkey\u001b[0m\u001b[1;33m,\u001b[0m \u001b[0mvalue\u001b[0m\u001b[1;33m)\u001b[0m\u001b[1;33m\u001b[0m\u001b[1;33m\u001b[0m\u001b[0m\n\u001b[0m\u001b[0;32m   3164\u001b[0m \u001b[1;33m\u001b[0m\u001b[0m\n\u001b[0;32m   3165\u001b[0m     \u001b[1;32mdef\u001b[0m \u001b[0m_setitem_slice\u001b[0m\u001b[1;33m(\u001b[0m\u001b[0mself\u001b[0m\u001b[1;33m,\u001b[0m \u001b[0mkey\u001b[0m\u001b[1;33m:\u001b[0m \u001b[0mslice\u001b[0m\u001b[1;33m,\u001b[0m \u001b[0mvalue\u001b[0m\u001b[1;33m)\u001b[0m\u001b[1;33m:\u001b[0m\u001b[1;33m\u001b[0m\u001b[1;33m\u001b[0m\u001b[0m\n",
      "\u001b[1;32m~\\anaconda3\\lib\\site-packages\\pandas\\core\\frame.py\u001b[0m in \u001b[0;36m_set_item\u001b[1;34m(self, key, value)\u001b[0m\n\u001b[0;32m   3240\u001b[0m         \"\"\"\n\u001b[0;32m   3241\u001b[0m         \u001b[0mself\u001b[0m\u001b[1;33m.\u001b[0m\u001b[0m_ensure_valid_index\u001b[0m\u001b[1;33m(\u001b[0m\u001b[0mvalue\u001b[0m\u001b[1;33m)\u001b[0m\u001b[1;33m\u001b[0m\u001b[1;33m\u001b[0m\u001b[0m\n\u001b[1;32m-> 3242\u001b[1;33m         \u001b[0mvalue\u001b[0m \u001b[1;33m=\u001b[0m \u001b[0mself\u001b[0m\u001b[1;33m.\u001b[0m\u001b[0m_sanitize_column\u001b[0m\u001b[1;33m(\u001b[0m\u001b[0mkey\u001b[0m\u001b[1;33m,\u001b[0m \u001b[0mvalue\u001b[0m\u001b[1;33m)\u001b[0m\u001b[1;33m\u001b[0m\u001b[1;33m\u001b[0m\u001b[0m\n\u001b[0m\u001b[0;32m   3243\u001b[0m         \u001b[0mNDFrame\u001b[0m\u001b[1;33m.\u001b[0m\u001b[0m_set_item\u001b[0m\u001b[1;33m(\u001b[0m\u001b[0mself\u001b[0m\u001b[1;33m,\u001b[0m \u001b[0mkey\u001b[0m\u001b[1;33m,\u001b[0m \u001b[0mvalue\u001b[0m\u001b[1;33m)\u001b[0m\u001b[1;33m\u001b[0m\u001b[1;33m\u001b[0m\u001b[0m\n\u001b[0;32m   3244\u001b[0m \u001b[1;33m\u001b[0m\u001b[0m\n",
      "\u001b[1;32m~\\anaconda3\\lib\\site-packages\\pandas\\core\\frame.py\u001b[0m in \u001b[0;36m_sanitize_column\u001b[1;34m(self, key, value, broadcast)\u001b[0m\n\u001b[0;32m   3897\u001b[0m \u001b[1;33m\u001b[0m\u001b[0m\n\u001b[0;32m   3898\u001b[0m             \u001b[1;31m# turn me into an ndarray\u001b[0m\u001b[1;33m\u001b[0m\u001b[1;33m\u001b[0m\u001b[1;33m\u001b[0m\u001b[0m\n\u001b[1;32m-> 3899\u001b[1;33m             \u001b[0mvalue\u001b[0m \u001b[1;33m=\u001b[0m \u001b[0msanitize_index\u001b[0m\u001b[1;33m(\u001b[0m\u001b[0mvalue\u001b[0m\u001b[1;33m,\u001b[0m \u001b[0mself\u001b[0m\u001b[1;33m.\u001b[0m\u001b[0mindex\u001b[0m\u001b[1;33m)\u001b[0m\u001b[1;33m\u001b[0m\u001b[1;33m\u001b[0m\u001b[0m\n\u001b[0m\u001b[0;32m   3900\u001b[0m             \u001b[1;32mif\u001b[0m \u001b[1;32mnot\u001b[0m \u001b[0misinstance\u001b[0m\u001b[1;33m(\u001b[0m\u001b[0mvalue\u001b[0m\u001b[1;33m,\u001b[0m \u001b[1;33m(\u001b[0m\u001b[0mnp\u001b[0m\u001b[1;33m.\u001b[0m\u001b[0mndarray\u001b[0m\u001b[1;33m,\u001b[0m \u001b[0mIndex\u001b[0m\u001b[1;33m)\u001b[0m\u001b[1;33m)\u001b[0m\u001b[1;33m:\u001b[0m\u001b[1;33m\u001b[0m\u001b[1;33m\u001b[0m\u001b[0m\n\u001b[0;32m   3901\u001b[0m                 \u001b[1;32mif\u001b[0m \u001b[0misinstance\u001b[0m\u001b[1;33m(\u001b[0m\u001b[0mvalue\u001b[0m\u001b[1;33m,\u001b[0m \u001b[0mlist\u001b[0m\u001b[1;33m)\u001b[0m \u001b[1;32mand\u001b[0m \u001b[0mlen\u001b[0m\u001b[1;33m(\u001b[0m\u001b[0mvalue\u001b[0m\u001b[1;33m)\u001b[0m \u001b[1;33m>\u001b[0m \u001b[1;36m0\u001b[0m\u001b[1;33m:\u001b[0m\u001b[1;33m\u001b[0m\u001b[1;33m\u001b[0m\u001b[0m\n",
      "\u001b[1;32m~\\anaconda3\\lib\\site-packages\\pandas\\core\\internals\\construction.py\u001b[0m in \u001b[0;36msanitize_index\u001b[1;34m(data, index)\u001b[0m\n\u001b[0;32m    750\u001b[0m     \u001b[1;32mif\u001b[0m \u001b[0mlen\u001b[0m\u001b[1;33m(\u001b[0m\u001b[0mdata\u001b[0m\u001b[1;33m)\u001b[0m \u001b[1;33m!=\u001b[0m \u001b[0mlen\u001b[0m\u001b[1;33m(\u001b[0m\u001b[0mindex\u001b[0m\u001b[1;33m)\u001b[0m\u001b[1;33m:\u001b[0m\u001b[1;33m\u001b[0m\u001b[1;33m\u001b[0m\u001b[0m\n\u001b[0;32m    751\u001b[0m         raise ValueError(\n\u001b[1;32m--> 752\u001b[1;33m             \u001b[1;34m\"Length of values \"\u001b[0m\u001b[1;33m\u001b[0m\u001b[1;33m\u001b[0m\u001b[0m\n\u001b[0m\u001b[0;32m    753\u001b[0m             \u001b[1;34mf\"({len(data)}) \"\u001b[0m\u001b[1;33m\u001b[0m\u001b[1;33m\u001b[0m\u001b[0m\n\u001b[0;32m    754\u001b[0m             \u001b[1;34m\"does not match length of index \"\u001b[0m\u001b[1;33m\u001b[0m\u001b[1;33m\u001b[0m\u001b[0m\n",
      "\u001b[1;31mValueError\u001b[0m: Length of values (995) does not match length of index (1000)"
     ]
    }
   ],
   "source": [
    "#car_database['adress'] = address_all\n",
    "car_database['car_price'] = price\n",
    "car_database['car_photo'] = photo_all\n",
    "car_database['car_title'] = title_all\n",
    "#car_database['verified'] = certificated_all\n",
    "car_database['id'] = certificated_all\n",
    "car_database.head()\n",
    "#car_database.to_csv('car_isave_part1.csv', encoding='utf_8_sig')\n",
    "#在這邊出錯"
   ]
  },
  {
   "cell_type": "code",
   "execution_count": 8,
   "id": "19adaf96",
   "metadata": {},
   "outputs": [
    {
     "data": {
      "text/plain": [
       "995"
      ]
     },
     "execution_count": 8,
     "metadata": {},
     "output_type": "execute_result"
    }
   ],
   "source": [
    "len(address_all)"
   ]
  },
  {
   "cell_type": "code",
   "execution_count": 35,
   "id": "e212eb6c",
   "metadata": {},
   "outputs": [
    {
     "data": {
      "text/plain": [
       "['car.aspx?cid=195648', 'car.aspx?cid=195646', 'car.aspx?cid=193888']"
      ]
     },
     "execution_count": 35,
     "metadata": {},
     "output_type": "execute_result"
    }
   ],
   "source": [
    "websites[:3]"
   ]
  },
  {
   "cell_type": "code",
   "execution_count": null,
   "id": "b11325c2",
   "metadata": {},
   "outputs": [],
   "source": [
    "   "
   ]
  }
 ],
 "metadata": {
  "kernelspec": {
   "display_name": "Python 3",
   "language": "python",
   "name": "python3"
  },
  "language_info": {
   "codemirror_mode": {
    "name": "ipython",
    "version": 3
   },
   "file_extension": ".py",
   "mimetype": "text/x-python",
   "name": "python",
   "nbconvert_exporter": "python",
   "pygments_lexer": "ipython3",
   "version": "3.7.6"
  }
 },
 "nbformat": 4,
 "nbformat_minor": 5
}
