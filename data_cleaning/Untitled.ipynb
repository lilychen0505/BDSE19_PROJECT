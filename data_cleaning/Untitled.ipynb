{
 "cells": [
  {
   "cell_type": "code",
   "execution_count": 40,
   "id": "11210c4d-9433-43c9-adaf-2066d0de6c2d",
   "metadata": {},
   "outputs": [],
   "source": [
    "import numpy as np\n",
    "import pandas as pd\n",
    "pd.set_option('display.max_columns', None)"
   ]
  },
  {
   "cell_type": "code",
   "execution_count": 84,
   "id": "3cee7e6d-6503-4e7a-b728-64d68cacb7e8",
   "metadata": {},
   "outputs": [
    {
     "name": "stderr",
     "output_type": "stream",
     "text": [
      "/Library/Frameworks/Python.framework/Versions/3.9/lib/python3.9/site-packages/IPython/core/interactiveshell.py:3441: DtypeWarning: Columns (1,36) have mixed types.Specify dtype option on import or set low_memory=False.\n",
      "  exec(code_obj, self.user_global_ns, self.user_ns)\n"
     ]
    }
   ],
   "source": [
    "df = pd.read_csv('../csv/K-means/cars_segmentation_20210805.csv', index_col=0)"
   ]
  },
  {
   "cell_type": "code",
   "execution_count": 42,
   "id": "2056d163-4d22-48c4-954a-f31646ecf512",
   "metadata": {
    "tags": []
   },
   "outputs": [
    {
     "name": "stdout",
     "output_type": "stream",
     "text": [
      "<class 'pandas.core.frame.DataFrame'>\n",
      "Int64Index: 85124 entries, 0 to 85123\n",
      "Data columns (total 80 columns):\n",
      " #   Column               Non-Null Count  Dtype  \n",
      "---  ------               --------------  -----  \n",
      " 0   id                   85124 non-null  object \n",
      " 1   car_brand            85124 non-null  object \n",
      " 2   car_model            85124 non-null  object \n",
      " 3   car_year             85124 non-null  float64\n",
      " 4   car_mileage          83017 non-null  float64\n",
      " 5   car_price            85124 non-null  float64\n",
      " 6   car_color            83186 non-null  object \n",
      " 7   car_cylinderVolume   85124 non-null  float64\n",
      " 8   car_driveMode        79346 non-null  float64\n",
      " 9   car_fuel             78469 non-null  object \n",
      " 10  car_gear             84769 non-null  object \n",
      " 11  verified             79437 non-null  float64\n",
      " 12  car_address          81932 non-null  object \n",
      " 13  car_title            83884 non-null  object \n",
      " 14  car_photo            76657 non-null  object \n",
      " 15  dealer_name          85124 non-null  object \n",
      " 16  dealer_address       81784 non-null  object \n",
      " 17  sunroof              81085 non-null  float64\n",
      " 18  TPMS                 77881 non-null  float64\n",
      " 19  SRS                  85124 non-null  float64\n",
      " 20  keyless              81085 non-null  float64\n",
      " 21  ESP                  50710 non-null  float64\n",
      " 22  ABS                  84389 non-null  float64\n",
      " 23  cruise_sys           78616 non-null  float64\n",
      " 24  HID_head             20413 non-null  float64\n",
      " 25  isofix               48227 non-null  float64\n",
      " 26  electric_seat        49154 non-null  float64\n",
      " 27  auto_AC              85124 non-null  float64\n",
      " 28  navi_sys             81085 non-null  float64\n",
      " 29  IVI_sys              81085 non-null  float64\n",
      " 30  leather_seat         80350 non-null  float64\n",
      " 31  parking_radar        53179 non-null  float64\n",
      " 32  parking_camera       78616 non-null  float64\n",
      " 33  BSM                  44380 non-null  float64\n",
      " 34  LDW                  42632 non-null  float64\n",
      " 35  source               85124 non-null  object \n",
      " 36  car_door             45161 non-null  float64\n",
      " 37  car_seat             71235 non-null  float64\n",
      " 38  theft_alarm          41964 non-null  float64\n",
      " 39  central_lock         41964 non-null  float64\n",
      " 40  TCS                  72353 non-null  float64\n",
      " 41  LED_head             45182 non-null  float64\n",
      " 42  SW_button            69135 non-null  float64\n",
      " 43  ACC                  10946 non-null  float64\n",
      " 44  component0           85124 non-null  float64\n",
      " 45  component1           85124 non-null  float64\n",
      " 46  component2           85124 non-null  float64\n",
      " 47  component3           85124 non-null  float64\n",
      " 48  component4           85124 non-null  float64\n",
      " 49  component5           85124 non-null  float64\n",
      " 50  component6           85124 non-null  float64\n",
      " 51  component7           85124 non-null  float64\n",
      " 52  component8           85124 non-null  float64\n",
      " 53  component9           85124 non-null  float64\n",
      " 54  component10          85124 non-null  float64\n",
      " 55  component11          85124 non-null  float64\n",
      " 56  component12          85124 non-null  float64\n",
      " 57  component13          85124 non-null  float64\n",
      " 58  component14          85124 non-null  float64\n",
      " 59  component15          85124 non-null  float64\n",
      " 60  component16          85124 non-null  float64\n",
      " 61  component17          85124 non-null  float64\n",
      " 62  component18          85124 non-null  float64\n",
      " 63  component19          85124 non-null  float64\n",
      " 64  component20          85124 non-null  float64\n",
      " 65  component21          85124 non-null  float64\n",
      " 66  component22          85124 non-null  float64\n",
      " 67  component23          85124 non-null  float64\n",
      " 68  component24          85124 non-null  float64\n",
      " 69  component25          85124 non-null  float64\n",
      " 70  component26          85124 non-null  float64\n",
      " 71  component27          85124 non-null  float64\n",
      " 72  component28          85124 non-null  float64\n",
      " 73  component29          85124 non-null  float64\n",
      " 74  component30          85124 non-null  float64\n",
      " 75  component31          85124 non-null  float64\n",
      " 76  component32          85124 non-null  float64\n",
      " 77  component33          85124 non-null  float64\n",
      " 78  component34          85124 non-null  float64\n",
      " 79  Segment K-means PCA  85124 non-null  int64  \n",
      "dtypes: float64(67), int64(1), object(12)\n",
      "memory usage: 52.6+ MB\n"
     ]
    }
   ],
   "source": [
    "df.info()"
   ]
  },
  {
   "cell_type": "code",
   "execution_count": 91,
   "id": "07d384a2-58df-42b0-80bd-2206c7a24ace",
   "metadata": {},
   "outputs": [],
   "source": [
    "cols=['id','car_brand','car_model','car_year','car_price','car_mileage','car_address','car_title','car_photo','dealer_address','source','Segment K-means PCA']"
   ]
  },
  {
   "cell_type": "code",
   "execution_count": 92,
   "id": "16928b90-c6bf-40d7-a413-65bb681e6004",
   "metadata": {},
   "outputs": [],
   "source": [
    "df1=df[cols]"
   ]
  },
  {
   "cell_type": "code",
   "execution_count": 93,
   "id": "f807efdf-19aa-4115-ad5c-a264fcb1880d",
   "metadata": {},
   "outputs": [],
   "source": [
    "df1 = df1.dropna(subset=['car_brand','car_model','car_mileage','car_price'],axis=0)"
   ]
  },
  {
   "cell_type": "code",
   "execution_count": 94,
   "id": "7bb0db24-53fa-4207-af52-08b3894db94a",
   "metadata": {},
   "outputs": [
    {
     "name": "stdout",
     "output_type": "stream",
     "text": [
      "<class 'pandas.core.frame.DataFrame'>\n",
      "Int64Index: 83017 entries, 0 to 85123\n",
      "Data columns (total 12 columns):\n",
      " #   Column               Non-Null Count  Dtype  \n",
      "---  ------               --------------  -----  \n",
      " 0   id                   83017 non-null  object \n",
      " 1   car_brand            83017 non-null  object \n",
      " 2   car_model            83017 non-null  object \n",
      " 3   car_year             83017 non-null  float64\n",
      " 4   car_price            83017 non-null  float64\n",
      " 5   car_mileage          83017 non-null  float64\n",
      " 6   car_address          79825 non-null  object \n",
      " 7   car_title            81777 non-null  object \n",
      " 8   car_photo            74550 non-null  object \n",
      " 9   dealer_address       79677 non-null  object \n",
      " 10  source               83017 non-null  object \n",
      " 11  Segment K-means PCA  83017 non-null  int64  \n",
      "dtypes: float64(3), int64(1), object(8)\n",
      "memory usage: 8.2+ MB\n"
     ]
    }
   ],
   "source": [
    "df1.info()"
   ]
  },
  {
   "cell_type": "code",
   "execution_count": 95,
   "id": "1c9977a8-950c-42da-a290-e3ef47d3771b",
   "metadata": {},
   "outputs": [],
   "source": [
    "df1['car_year']=df1['car_year'].astype(int)"
   ]
  },
  {
   "cell_type": "code",
   "execution_count": 96,
   "id": "cf55346d-5eb2-4661-8223-94f9f14970c0",
   "metadata": {},
   "outputs": [],
   "source": [
    "df1['car_price']=df1['car_price'].astype(int)"
   ]
  },
  {
   "cell_type": "code",
   "execution_count": 97,
   "id": "4c1fb135-2af8-4304-980b-3b23df71c27d",
   "metadata": {},
   "outputs": [],
   "source": [
    "df1['car_mileage']=df1['car_mileage'].astype(int)"
   ]
  },
  {
   "cell_type": "code",
   "execution_count": 50,
   "id": "f7569b78-fb85-4c1b-a07b-3db0d935280c",
   "metadata": {},
   "outputs": [
    {
     "name": "stdout",
     "output_type": "stream",
     "text": [
      "<class 'pandas.core.frame.DataFrame'>\n",
      "Int64Index: 83017 entries, 0 to 85123\n",
      "Data columns (total 12 columns):\n",
      " #   Column               Non-Null Count  Dtype \n",
      "---  ------               --------------  ----- \n",
      " 0   id                   83017 non-null  object\n",
      " 1   car_brand            83017 non-null  object\n",
      " 2   car_model            83017 non-null  object\n",
      " 3   car_year             83017 non-null  int64 \n",
      " 4   car_price            83017 non-null  int64 \n",
      " 5   car_mileage          83017 non-null  int64 \n",
      " 6   car_address          79825 non-null  object\n",
      " 7   car_title            81777 non-null  object\n",
      " 8   car_photo            74550 non-null  object\n",
      " 9   dealer_address       79677 non-null  object\n",
      " 10  source               83017 non-null  object\n",
      " 11  Segment K-means PCA  83017 non-null  int64 \n",
      "dtypes: int64(4), object(8)\n",
      "memory usage: 8.2+ MB\n"
     ]
    }
   ],
   "source": [
    "df1.info()"
   ]
  },
  {
   "cell_type": "code",
   "execution_count": 51,
   "id": "461408ef-8839-4493-84af-0e9337ac1f67",
   "metadata": {},
   "outputs": [
    {
     "data": {
      "text/plain": [
       "array(['TOYOTA', 'MITSUBISHI', 'SUZUKI', 'NISSAN', 'FORD', 'HONDA',\n",
       "       'MAZDA', 'HYUNDAI', 'LUXGEN', 'SUBARU', 'LEXUS', 'HINO', 'KIA',\n",
       "       'BMW', 'VOLKSWAGEN', 'LAND ROVER', 'M-BENZ', 'SKODA', 'MINI',\n",
       "       'VOLVO', 'AUDI', 'SMART', 'PEUGEOT', 'PORSCHE', 'CITROEN',\n",
       "       'INFINITI', 'JAGUAR', 'MCC', 'SSANGYONG', 'MAHINDRA', 'ISUZU',\n",
       "       'LAMBORGHINI', 'DFSK', 'FERRARI', 'ALFA ROMEO', 'CHEVROLET',\n",
       "       'DODGE', 'DAIHATSU', 'MASERATI', 'PROTON', 'OPEL', 'FOTON', 'TOBE',\n",
       "       'SAAB', 'FIAT', 'JEEP', 'BENTLEY', 'BENZ', 'VW', 'LAND', 'MCLAREN',\n",
       "       'CHRYSLER', 'TESLA', 'MERCEDES-BENZ', 'BUICK', 'CMC', 'AUSTIN',\n",
       "       'RENAULT', 'HUMMER', 'MG', 'SCION', 'ROLLS-ROYCE', 'ACURA',\n",
       "       'CADILLAC', 'IVECO', 'FORMOSA', 'ASTON MARTIN', 'ASIA', '中華',\n",
       "       'ŠKODA', 'MERCEDESBENZ', 'LANDROVER', 'ALFAROMEO'], dtype=object)"
      ]
     },
     "execution_count": 51,
     "metadata": {},
     "output_type": "execute_result"
    }
   ],
   "source": [
    "df1['car_brand'].unique()"
   ]
  },
  {
   "cell_type": "code",
   "execution_count": 52,
   "id": "89069150-34ec-429f-84c3-fc6d66ac7727",
   "metadata": {},
   "outputs": [
    {
     "data": {
      "text/plain": [
       "array(['高雄市鳥松區神農路856號', '台中市烏日區中山路三段903號', '桃園市桃園區三民路一段7-1號', ...,\n",
       "       '台北市中山區松江路', '桃園市桃園區三民路三段245號', '彰化縣鹿港鎮中正路306號'], dtype=object)"
      ]
     },
     "execution_count": 52,
     "metadata": {},
     "output_type": "execute_result"
    }
   ],
   "source": [
    "df1['dealer_address'].unique()"
   ]
  },
  {
   "cell_type": "code",
   "execution_count": 53,
   "id": "1c55a5f1-b361-46f5-9b4c-42cd137920e5",
   "metadata": {},
   "outputs": [
    {
     "data": {
      "text/plain": [
       "array(['高雄市', '台中市', '桃園市', '雲林縣', '嘉義市', '新竹市', '新北市', '台北市', '屏東縣',\n",
       "       '彰化縣', '嘉義縣', '基隆市', '苗栗縣', '台南市', '南投縣', '宜蘭縣', '新竹縣', '花蓮縣',\n",
       "       '台東縣', nan, '屏東市'], dtype=object)"
      ]
     },
     "execution_count": 53,
     "metadata": {},
     "output_type": "execute_result"
    }
   ],
   "source": [
    "df1['car_address'].unique()"
   ]
  },
  {
   "cell_type": "code",
   "execution_count": 101,
   "id": "4ae7915e-579f-4afb-a8a6-b3cd5adef46a",
   "metadata": {},
   "outputs": [],
   "source": [
    "df1.loc[df1['car_brand'].str.contains('BENZ') == True, 'car_brand'] = 'BENZ'\n",
    "\n",
    "df1.loc[df1['car_brand'].str.contains('中華') == True, 'car_brand'] = 'CMC'\n",
    "\n",
    "df1.loc[df1['car_brand'].str.contains('VOLKSWAGEN') == True, 'car_brand'] = 'VW'\n",
    "\n",
    "df1.loc[df1['car_brand'].str.contains('LAND') == True, 'car_brand'] = 'LANDROVER'"
   ]
  },
  {
   "cell_type": "code",
   "execution_count": 102,
   "id": "82a62961-78da-422c-8b76-2673fd9cf022",
   "metadata": {},
   "outputs": [],
   "source": [
    "df1= df1.replace({'car_title': '\"'}, {'car_title': ''}, regex=True)"
   ]
  },
  {
   "cell_type": "code",
   "execution_count": 103,
   "id": "7bde26f2-aebf-47a3-8bb4-300333aaa490",
   "metadata": {},
   "outputs": [],
   "source": [
    "df1= df1.replace({'car_title': '\\'\\''}, {'car_title': ''}, regex=True)"
   ]
  },
  {
   "cell_type": "code",
   "execution_count": 104,
   "id": "a7c79aef-5446-41f9-a045-84019322623a",
   "metadata": {},
   "outputs": [],
   "source": [
    "df1= df1.replace({'car_title': '\\''}, {'car_title': ''}, regex=True)"
   ]
  },
  {
   "cell_type": "code",
   "execution_count": null,
   "id": "f036f49a-f344-4711-aa70-30778603fc1b",
   "metadata": {},
   "outputs": [],
   "source": [
    "# df1= df1.replace({'car_title': '，'}, {'car_title': 'X'}, regex=True)"
   ]
  },
  {
   "cell_type": "code",
   "execution_count": 123,
   "id": "f7efba82-636b-40a2-adae-a88541d5f878",
   "metadata": {},
   "outputs": [],
   "source": [
    "df1= df1.replace({'car_title': ','}, {'car_title': 'X'}, regex=True)"
   ]
  },
  {
   "cell_type": "code",
   "execution_count": 105,
   "id": "91481e13-06f6-4161-b390-026906cca366",
   "metadata": {},
   "outputs": [],
   "source": [
    "df1= df1.replace({'car_address': '\\''}, {'car_address': ''}, regex=True)"
   ]
  },
  {
   "cell_type": "code",
   "execution_count": 106,
   "id": "3aae29e4-d524-4d64-8537-e8f9c076f3ed",
   "metadata": {},
   "outputs": [],
   "source": [
    "df1= df1.replace({'dealer_address': '賞車地址：'}, {'dealer_address': ''}, regex=True)"
   ]
  },
  {
   "cell_type": "code",
   "execution_count": 107,
   "id": "1e633d6e-cd62-44d8-b178-e7dd0d6d62a2",
   "metadata": {},
   "outputs": [],
   "source": [
    "df1= df1.replace({'dealer_address': '　'}, {'dealer_address': ''}, regex=True)"
   ]
  },
  {
   "cell_type": "code",
   "execution_count": 108,
   "id": "2c68b751-0418-48a4-8680-a6a1d23ef95c",
   "metadata": {},
   "outputs": [],
   "source": [
    "df1= df1.replace({'dealer_address': ' '}, {'dealer_address': ''}, regex=True)"
   ]
  },
  {
   "cell_type": "code",
   "execution_count": 130,
   "id": "7922c874-2f5a-4145-9eff-86283ab2067a",
   "metadata": {},
   "outputs": [],
   "source": [
    "df1= df1.replace({'dealer_address': '\\n'}, {'dealer_address': '.'}, regex=True)"
   ]
  },
  {
   "cell_type": "code",
   "execution_count": 126,
   "id": "9cb2186a-8a8d-48f5-acb7-ba6079e48d9a",
   "metadata": {},
   "outputs": [],
   "source": [
    "df1= df1.replace({'car_title': '　'}, {'car_title': '.'}, regex=True)"
   ]
  },
  {
   "cell_type": "code",
   "execution_count": 127,
   "id": "dfb89f60-a582-40b8-89fc-52c9bc6f7b82",
   "metadata": {},
   "outputs": [],
   "source": [
    "df1= df1.replace({'car_title': ' '}, {'car_title': '.'}, regex=True)"
   ]
  },
  {
   "cell_type": "code",
   "execution_count": 132,
   "id": "7cc8ae4d-c548-489a-9da1-6ecb9ed3b97c",
   "metadata": {},
   "outputs": [],
   "source": [
    "df1= df1.replace({'car_model': '\\n'}, {'car_model': '.'}, regex=True)"
   ]
  },
  {
   "cell_type": "code",
   "execution_count": 129,
   "id": "67ecff0f-c9e2-4286-9dac-156bd29011b3",
   "metadata": {},
   "outputs": [],
   "source": [
    "df1= df1.replace({'car_title': '\\n'}, {'car_title': '.'}, regex=True)"
   ]
  },
  {
   "cell_type": "code",
   "execution_count": 124,
   "id": "c2ad0262-f78c-4cb2-b3c3-138567a2bfba",
   "metadata": {},
   "outputs": [],
   "source": [
    "df1= df1.replace({'dealer_address': ','}, {'dealer_address': 'X'}, regex=True)"
   ]
  },
  {
   "cell_type": "code",
   "execution_count": null,
   "id": "428d8db6-816e-491f-91aa-1795665800de",
   "metadata": {},
   "outputs": [],
   "source": [
    "# df1= df1.replace({'dealer_address': '，'}, {'dealer_address': 'X'}, regex=True)"
   ]
  },
  {
   "cell_type": "code",
   "execution_count": 109,
   "id": "b00151b0-3bf4-46be-8145-35c18ea0f3d6",
   "metadata": {},
   "outputs": [],
   "source": [
    "df1= df1.replace({'dealer_address': '\\''}, {'dealer_address': ''}, regex=True)"
   ]
  },
  {
   "cell_type": "code",
   "execution_count": 110,
   "id": "366d8f06-37d1-4870-869c-d6ccaad4c622",
   "metadata": {},
   "outputs": [],
   "source": [
    "df1= df1.replace({'car_photo': '\\''}, {'car_photo': ''}, regex=True)"
   ]
  },
  {
   "cell_type": "code",
   "execution_count": 111,
   "id": "a29d26dd-a5e4-451d-a5b5-f738498df5bf",
   "metadata": {},
   "outputs": [],
   "source": [
    "df1= df1.replace({'car_brand': '\\''}, {'car_brand': ''}, regex=True)"
   ]
  },
  {
   "cell_type": "code",
   "execution_count": 112,
   "id": "4223fcef-516b-4352-af5c-22c73ad4cbb1",
   "metadata": {},
   "outputs": [],
   "source": [
    "df1= df1.replace({'car_model': '\\''}, {'car_model': ''}, regex=True)"
   ]
  },
  {
   "cell_type": "code",
   "execution_count": 113,
   "id": "34fe22f0-018e-4305-a2c0-fc6c63703bbd",
   "metadata": {},
   "outputs": [],
   "source": [
    "df1= df1.replace({'car_title': '＂'}, {'car_title': ''}, regex=True)"
   ]
  },
  {
   "cell_type": "code",
   "execution_count": 114,
   "id": "4cf806f4-4f02-488f-8935-ae9ca63f75b1",
   "metadata": {},
   "outputs": [],
   "source": [
    "df1['id'] = df1['id'].astype('str')"
   ]
  },
  {
   "cell_type": "code",
   "execution_count": 121,
   "id": "a7fadc29-982c-4b7d-b8ba-f363fad75464",
   "metadata": {},
   "outputs": [],
   "source": [
    "df1['source'] = df1['source'].astype('str')"
   ]
  },
  {
   "cell_type": "code",
   "execution_count": 115,
   "id": "8926f776-495c-425e-8b39-64a6e9b441d3",
   "metadata": {},
   "outputs": [],
   "source": [
    "df1 = df1.fillna(value=0)"
   ]
  },
  {
   "cell_type": "code",
   "execution_count": 116,
   "id": "9c60af43-5735-465e-997b-a68d5077b79f",
   "metadata": {},
   "outputs": [
    {
     "name": "stdout",
     "output_type": "stream",
     "text": [
      "<class 'pandas.core.frame.DataFrame'>\n",
      "Int64Index: 83017 entries, 0 to 85123\n",
      "Data columns (total 12 columns):\n",
      " #   Column               Non-Null Count  Dtype \n",
      "---  ------               --------------  ----- \n",
      " 0   id                   83017 non-null  object\n",
      " 1   car_brand            83017 non-null  object\n",
      " 2   car_model            83017 non-null  object\n",
      " 3   car_year             83017 non-null  int64 \n",
      " 4   car_price            83017 non-null  int64 \n",
      " 5   car_mileage          83017 non-null  int64 \n",
      " 6   car_address          83017 non-null  object\n",
      " 7   car_title            83017 non-null  object\n",
      " 8   car_photo            83017 non-null  object\n",
      " 9   dealer_address       83017 non-null  object\n",
      " 10  source               83017 non-null  object\n",
      " 11  Segment K-means PCA  83017 non-null  int64 \n",
      "dtypes: int64(4), object(8)\n",
      "memory usage: 8.2+ MB\n"
     ]
    }
   ],
   "source": [
    "df1.info()"
   ]
  },
  {
   "cell_type": "code",
   "execution_count": 134,
   "id": "644c1dbd-94f4-441d-8d2b-e1528b3118c1",
   "metadata": {},
   "outputs": [],
   "source": [
    "df1.to_csv('../csv/K-means/carList_forWebsite.csv', encoding='utf-8-sig', index=False)"
   ]
  },
  {
   "cell_type": "code",
   "execution_count": 119,
   "id": "d2fdff2f-76e5-4800-9982-eb211c24ae14",
   "metadata": {},
   "outputs": [
    {
     "data": {
      "text/html": [
       "<div>\n",
       "<style scoped>\n",
       "    .dataframe tbody tr th:only-of-type {\n",
       "        vertical-align: middle;\n",
       "    }\n",
       "\n",
       "    .dataframe tbody tr th {\n",
       "        vertical-align: top;\n",
       "    }\n",
       "\n",
       "    .dataframe thead th {\n",
       "        text-align: right;\n",
       "    }\n",
       "</style>\n",
       "<table border=\"1\" class=\"dataframe\">\n",
       "  <thead>\n",
       "    <tr style=\"text-align: right;\">\n",
       "      <th></th>\n",
       "      <th>id</th>\n",
       "      <th>car_brand</th>\n",
       "      <th>car_model</th>\n",
       "      <th>car_year</th>\n",
       "      <th>car_price</th>\n",
       "      <th>car_mileage</th>\n",
       "      <th>car_address</th>\n",
       "      <th>car_title</th>\n",
       "      <th>car_photo</th>\n",
       "      <th>dealer_address</th>\n",
       "      <th>source</th>\n",
       "      <th>Segment K-means PCA</th>\n",
       "    </tr>\n",
       "  </thead>\n",
       "  <tbody>\n",
       "    <tr>\n",
       "      <th>85114</th>\n",
       "      <td>101114686762</td>\n",
       "      <td>TOYOTA</td>\n",
       "      <td>YARIS</td>\n",
       "      <td>2011</td>\n",
       "      <td>248000</td>\n",
       "      <td>130000</td>\n",
       "      <td>新北市</td>\n",
       "      <td>【實車在店 實車實價】亞力史 1.5頂級G版 IKEY</td>\n",
       "      <td>https://ct.yimg.com/xd/api/res/1.2/vWbnZLJJits...</td>\n",
       "      <td>新北市三峽區隆恩街220號</td>\n",
       "      <td>yahoo</td>\n",
       "      <td>4</td>\n",
       "    </tr>\n",
       "    <tr>\n",
       "      <th>85115</th>\n",
       "      <td>101109726350</td>\n",
       "      <td>TOYOTA</td>\n",
       "      <td>YARIS</td>\n",
       "      <td>2016</td>\n",
       "      <td>248000</td>\n",
       "      <td>37823</td>\n",
       "      <td>新北市</td>\n",
       "      <td>我要賣  2016年   TOYOTA   /   YARIS</td>\n",
       "      <td>https://ct.yimg.com/xd/api/res/1.2/id7wTA7ksb_...</td>\n",
       "      <td>新北市林口區文化三路一段249巷55號</td>\n",
       "      <td>yahoo</td>\n",
       "      <td>4</td>\n",
       "    </tr>\n",
       "    <tr>\n",
       "      <th>85116</th>\n",
       "      <td>101092702690</td>\n",
       "      <td>TOYOTA</td>\n",
       "      <td>YARIS</td>\n",
       "      <td>2012</td>\n",
       "      <td>248000</td>\n",
       "      <td>180000</td>\n",
       "      <td>新北市</td>\n",
       "      <td>2012 TOYOTA YARIS1.5G紫色  可協助全額貸款</td>\n",
       "      <td>https://ct.yimg.com/xd/api/res/1.2/FkuZJ16jkI8...</td>\n",
       "      <td>新北市樹林區中華路2-1號</td>\n",
       "      <td>yahoo</td>\n",
       "      <td>4</td>\n",
       "    </tr>\n",
       "    <tr>\n",
       "      <th>85117</th>\n",
       "      <td>101089208883</td>\n",
       "      <td>LUXGEN</td>\n",
       "      <td>S5</td>\n",
       "      <td>2013</td>\n",
       "      <td>248000</td>\n",
       "      <td>162780</td>\n",
       "      <td>台北市</td>\n",
       "      <td>【杰運SAVE實價認證】13年 S5 TURBO 抬頭顯示器 天窗 9吋觸控</td>\n",
       "      <td>https://ct.yimg.com/xd/api/res/1.2/mEb0hCBuJ_Q...</td>\n",
       "      <td>台北市北投區立賢路61號</td>\n",
       "      <td>yahoo</td>\n",
       "      <td>3</td>\n",
       "    </tr>\n",
       "    <tr>\n",
       "      <th>85118</th>\n",
       "      <td>101009061810</td>\n",
       "      <td>MAZDA</td>\n",
       "      <td>3</td>\n",
       "      <td>2012</td>\n",
       "      <td>249000</td>\n",
       "      <td>224500</td>\n",
       "      <td>台北市</td>\n",
       "      <td>古馳上精選實價刷卡2012年6月出廠馬自達3 2.0尊貴型正一手至今</td>\n",
       "      <td>https://ct.yimg.com/xd/api/res/1.2/7mb1D7L51IU...</td>\n",
       "      <td>台北市士林區福德路32號</td>\n",
       "      <td>yahoo</td>\n",
       "      <td>4</td>\n",
       "    </tr>\n",
       "    <tr>\n",
       "      <th>85119</th>\n",
       "      <td>101124711340</td>\n",
       "      <td>VOLVO</td>\n",
       "      <td>C30</td>\n",
       "      <td>2011</td>\n",
       "      <td>250000</td>\n",
       "      <td>74569</td>\n",
       "      <td>新北市</td>\n",
       "      <td>A自售   2011年  VOLVO  C30  2.0L</td>\n",
       "      <td>https://ct.yimg.com/xd/api/res/1.2/68y95jl4xnJ...</td>\n",
       "      <td>新北市五股區新城一路</td>\n",
       "      <td>yahoo</td>\n",
       "      <td>5</td>\n",
       "    </tr>\n",
       "    <tr>\n",
       "      <th>85120</th>\n",
       "      <td>101123612053</td>\n",
       "      <td>SMART</td>\n",
       "      <td>FORTWO</td>\n",
       "      <td>2015</td>\n",
       "      <td>250000</td>\n",
       "      <td>50000</td>\n",
       "      <td>彰化縣</td>\n",
       "      <td>2015年 SMART 5萬公里 原鈑件 精選車況 市區超好停</td>\n",
       "      <td>https://ct.yimg.com/xd/api/res/1.2/cTkvsflnawb...</td>\n",
       "      <td>彰化縣員林鎮至善街33號</td>\n",
       "      <td>yahoo</td>\n",
       "      <td>5</td>\n",
       "    </tr>\n",
       "    <tr>\n",
       "      <th>85121</th>\n",
       "      <td>101122338352</td>\n",
       "      <td>LEXUS</td>\n",
       "      <td>IS</td>\n",
       "      <td>2009</td>\n",
       "      <td>250000</td>\n",
       "      <td>107508</td>\n",
       "      <td>新北市</td>\n",
       "      <td>疫情振興專案 原廠保養 凌志 IS250 2009年 認證優質好車</td>\n",
       "      <td>https://ct.yimg.com/xd/api/res/1.2/ImixFqPKS3c...</td>\n",
       "      <td>新北市汐止區康寧街附近</td>\n",
       "      <td>yahoo</td>\n",
       "      <td>5</td>\n",
       "    </tr>\n",
       "    <tr>\n",
       "      <th>85122</th>\n",
       "      <td>101120157122</td>\n",
       "      <td>SKODA</td>\n",
       "      <td>FABIA</td>\n",
       "      <td>2009</td>\n",
       "      <td>250000</td>\n",
       "      <td>270668</td>\n",
       "      <td>彰化縣</td>\n",
       "      <td>2009 Skoda Fabia  一手車 省稅金 好保養</td>\n",
       "      <td>https://ct.yimg.com/xd/api/res/1.2/lAurFTLJStq...</td>\n",
       "      <td>彰化縣鹿港鎮中正路306號</td>\n",
       "      <td>yahoo</td>\n",
       "      <td>5</td>\n",
       "    </tr>\n",
       "    <tr>\n",
       "      <th>85123</th>\n",
       "      <td>101120131242</td>\n",
       "      <td>BMW</td>\n",
       "      <td>3SERIESSEDAN</td>\n",
       "      <td>2014</td>\n",
       "      <td>250000</td>\n",
       "      <td>66487</td>\n",
       "      <td>新北市</td>\n",
       "      <td>[歐德義國際] 2014年 BMW 320 貴婦買菜車託售</td>\n",
       "      <td>https://ct.yimg.com/xd/api/res/1.2/1lVn_EC9Xu1...</td>\n",
       "      <td>新北市五股區新城一路60號</td>\n",
       "      <td>yahoo</td>\n",
       "      <td>5</td>\n",
       "    </tr>\n",
       "  </tbody>\n",
       "</table>\n",
       "</div>"
      ],
      "text/plain": [
       "                 id car_brand     car_model  car_year  car_price  car_mileage  \\\n",
       "85114  101114686762    TOYOTA         YARIS      2011     248000       130000   \n",
       "85115  101109726350    TOYOTA         YARIS      2016     248000        37823   \n",
       "85116  101092702690    TOYOTA         YARIS      2012     248000       180000   \n",
       "85117  101089208883    LUXGEN            S5      2013     248000       162780   \n",
       "85118  101009061810     MAZDA             3      2012     249000       224500   \n",
       "85119  101124711340     VOLVO           C30      2011     250000        74569   \n",
       "85120  101123612053     SMART        FORTWO      2015     250000        50000   \n",
       "85121  101122338352     LEXUS            IS      2009     250000       107508   \n",
       "85122  101120157122     SKODA         FABIA      2009     250000       270668   \n",
       "85123  101120131242       BMW  3SERIESSEDAN      2014     250000        66487   \n",
       "\n",
       "      car_address                               car_title  \\\n",
       "85114         新北市             【實車在店 實車實價】亞力史 1.5頂級G版 IKEY   \n",
       "85115         新北市         我要賣  2016年   TOYOTA   /   YARIS   \n",
       "85116         新北市        2012 TOYOTA YARIS1.5G紫色  可協助全額貸款   \n",
       "85117         台北市  【杰運SAVE實價認證】13年 S5 TURBO 抬頭顯示器 天窗 9吋觸控   \n",
       "85118         台北市      古馳上精選實價刷卡2012年6月出廠馬自達3 2.0尊貴型正一手至今   \n",
       "85119         新北市           A自售   2011年  VOLVO  C30  2.0L   \n",
       "85120         彰化縣         2015年 SMART 5萬公里 原鈑件 精選車況 市區超好停   \n",
       "85121         新北市       疫情振興專案 原廠保養 凌志 IS250 2009年 認證優質好車   \n",
       "85122         彰化縣           2009 Skoda Fabia  一手車 省稅金 好保養   \n",
       "85123         新北市           [歐德義國際] 2014年 BMW 320 貴婦買菜車託售   \n",
       "\n",
       "                                               car_photo       dealer_address  \\\n",
       "85114  https://ct.yimg.com/xd/api/res/1.2/vWbnZLJJits...        新北市三峽區隆恩街220號   \n",
       "85115  https://ct.yimg.com/xd/api/res/1.2/id7wTA7ksb_...  新北市林口區文化三路一段249巷55號   \n",
       "85116  https://ct.yimg.com/xd/api/res/1.2/FkuZJ16jkI8...        新北市樹林區中華路2-1號   \n",
       "85117  https://ct.yimg.com/xd/api/res/1.2/mEb0hCBuJ_Q...         台北市北投區立賢路61號   \n",
       "85118  https://ct.yimg.com/xd/api/res/1.2/7mb1D7L51IU...         台北市士林區福德路32號   \n",
       "85119  https://ct.yimg.com/xd/api/res/1.2/68y95jl4xnJ...           新北市五股區新城一路   \n",
       "85120  https://ct.yimg.com/xd/api/res/1.2/cTkvsflnawb...         彰化縣員林鎮至善街33號   \n",
       "85121  https://ct.yimg.com/xd/api/res/1.2/ImixFqPKS3c...          新北市汐止區康寧街附近   \n",
       "85122  https://ct.yimg.com/xd/api/res/1.2/lAurFTLJStq...        彰化縣鹿港鎮中正路306號   \n",
       "85123  https://ct.yimg.com/xd/api/res/1.2/1lVn_EC9Xu1...        新北市五股區新城一路60號   \n",
       "\n",
       "      source  Segment K-means PCA  \n",
       "85114  yahoo                    4  \n",
       "85115  yahoo                    4  \n",
       "85116  yahoo                    4  \n",
       "85117  yahoo                    3  \n",
       "85118  yahoo                    4  \n",
       "85119  yahoo                    5  \n",
       "85120  yahoo                    5  \n",
       "85121  yahoo                    5  \n",
       "85122  yahoo                    5  \n",
       "85123  yahoo                    5  "
      ]
     },
     "execution_count": 119,
     "metadata": {},
     "output_type": "execute_result"
    }
   ],
   "source": [
    "df1.tail(10)"
   ]
  },
  {
   "cell_type": "code",
   "execution_count": 122,
   "id": "ace8da58-5598-477f-8c79-296c669e4d5d",
   "metadata": {},
   "outputs": [
    {
     "data": {
      "text/plain": [
       "array(['HOT', 'SUM', '8891', 'isave', 'abc', 'usedcar', 'ucar', 'yahoo'],\n",
       "      dtype=object)"
      ]
     },
     "execution_count": 122,
     "metadata": {},
     "output_type": "execute_result"
    }
   ],
   "source": [
    "df1['source'].unique()"
   ]
  }
 ],
 "metadata": {
  "kernelspec": {
   "display_name": "Python 3 (ipykernel)",
   "language": "python",
   "name": "python3"
  },
  "language_info": {
   "codemirror_mode": {
    "name": "ipython",
    "version": 3
   },
   "file_extension": ".py",
   "mimetype": "text/x-python",
   "name": "python",
   "nbconvert_exporter": "python",
   "pygments_lexer": "ipython3",
   "version": "3.9.5"
  }
 },
 "nbformat": 4,
 "nbformat_minor": 5
}
