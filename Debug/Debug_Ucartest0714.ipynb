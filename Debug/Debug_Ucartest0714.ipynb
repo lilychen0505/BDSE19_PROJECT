{
 "cells": [
  {
   "cell_type": "markdown",
   "metadata": {
    "colab_type": "text",
    "id": "view-in-github"
   },
   "source": [
    "<a href=\"https://colab.research.google.com/github/lilychen0505/BDSE19_PROJECT/blob/Charles/Ucartest.ipynb\" target=\"_parent\"><img src=\"https://colab.research.google.com/assets/colab-badge.svg\" alt=\"Open In Colab\"/></a>"
   ]
  },
  {
   "cell_type": "markdown",
   "metadata": {
    "id": "pdmOXnv7pFvD"
   },
   "source": [
    "## **Test**"
   ]
  },
  {
   "cell_type": "code",
   "execution_count": 2,
   "metadata": {
    "cellView": "code",
    "colab": {
     "base_uri": "https://localhost:8080/"
    },
    "id": "mxRAr_g0H_8f",
    "outputId": "db80b152-24f1-4175-a75f-797039614066"
   },
   "outputs": [
    {
     "name": "stderr",
     "output_type": "stream",
     "text": [
      "C:\\Users\\Lily\\anaconda3\\lib\\site-packages\\ipykernel_launcher.py:16: DeprecationWarning: use options instead of chrome_options\n",
      "  app.launch_new_instance()\n"
     ]
    },
    {
     "name": "stdout",
     "output_type": "stream",
     "text": [
      "['https://usedcar.u-car.com.tw/objectdetail.aspx?usedcarid=2c1742e91d724b0e8fab00fb3c1d9b4f', 'https://usedcar.u-car.com.tw/objectdetail.aspx?usedcarid=47dcf7a30ac5418fb15006735c2c6ce4', 'https://usedcar.u-car.com.tw/objectdetail.aspx?usedcarid=6a71f0431d744461bda606a95fa83f15', 'https://usedcar.u-car.com.tw/objectdetail.aspx?usedcarid=c386ba0e3e384791a11910e945746536', 'https://usedcar.u-car.com.tw/objectdetail.aspx?usedcarid=14f0e8945338441296201451df23bc9a', 'https://usedcar.u-car.com.tw/objectdetail.aspx?usedcarid=be694589c9c64ddb87f61b9c2c45749e', 'https://usedcar.u-car.com.tw/objectdetail.aspx?usedcarid=a47a3b8ca2aa4faf810a1f86c581a87d', 'https://usedcar.u-car.com.tw/objectdetail.aspx?usedcarid=48d20f9e69d84701b8d02105b12e6dd7', 'https://usedcar.u-car.com.tw/objectdetail.aspx?usedcarid=a92fa49f510f485bb284219b6426552e', 'https://usedcar.u-car.com.tw/objectdetail.aspx?usedcarid=0e92d2fd6f884bd88adc233a53cd07bc', 'https://usedcar.u-car.com.tw/objectdetail.aspx?usedcarid=338cffb2e5f34ee7a5d634a81684fdc0', 'https://usedcar.u-car.com.tw/objectdetail.aspx?usedcarid=70d369b416874c94b5ff35242388b157', 'https://usedcar.u-car.com.tw/objectdetail.aspx?usedcarid=0773d3a3bc664dde984539b8b3beeeb2', 'https://usedcar.u-car.com.tw/objectdetail.aspx?usedcarid=5205411a16d6433a86b63c620f005db1', 'https://usedcar.u-car.com.tw/objectdetail.aspx?usedcarid=72d09d7b85bb477483453e4e2f140a30', 'https://usedcar.u-car.com.tw/objectdetail.aspx?usedcarid=a7c64907dc3f4377b14c4d879fb0dc64', 'https://usedcar.u-car.com.tw/objectdetail.aspx?usedcarid=92b7444adc294d88bb50579f422d7cf2', 'https://usedcar.u-car.com.tw/objectdetail.aspx?usedcarid=7cf2ab897cf34c8d89f46c22e2ca92b7', 'https://usedcar.u-car.com.tw/objectdetail.aspx?usedcarid=882d1ad182e240f9b27c6f5ed03ccbd2', 'https://usedcar.u-car.com.tw/objectdetail.aspx?usedcarid=1d9593bf109a4eb1b03671e0e4b0db80']\n"
     ]
    }
   ],
   "source": [
    "from bs4 import BeautifulSoup\n",
    "import requests\n",
    "import sys\n",
    "sys.path.insert(0,'C:/Users/Lily/Desktop/Jupyter Workplace/BDSE19_PROJECT/chromedriver')\n",
    "import re\n",
    "import random\n",
    "import time\n",
    "from selenium import webdriver\n",
    "import numpy as np\n",
    "import pandas as pd\n",
    "\n",
    "chrome_options = webdriver.ChromeOptions()\n",
    "chrome_options.add_argument('--headless')\n",
    "chrome_options.add_argument('--no-sandbox')\n",
    "chrome_options.add_argument('--disable-dev-shm-usage')\n",
    "wd = webdriver.Chrome('C:/Users/Lily/Desktop/Jupyter Workplace/BDSE19_PROJECT/chromedriver',chrome_options=chrome_options)\n",
    "\n",
    "link_all = []\n",
    "number = list(range(1,21))\n",
    "headers = {'User-Agent': 'Mozilla/5.0 (Macintosh; Intel Mac OS X 10_15_7) AppleWebKit/537.36 (KHTML, like Gecko) Chrome/91.0.4472.114 Safari/537.36'}\n",
    "for i in range(1): #1page\n",
    "    url = f'https://usedcar.u-car.com.tw/search.aspx?page={i}&keyword=&sorttype=0&sortby=3&during=0&make=0&pricerange=0&bodytype=0'\n",
    "    wd.get(url)\n",
    "    time.sleep(2)\n",
    "    for j in number:\n",
    "        for link in wd.find_elements_by_xpath(f'//*[@class=\"list_line\"]/div/div[{j}]/a'):\n",
    "            link_all.append(link.get_attribute('href'))\n",
    "print(link_all)\n",
    "wd.close()\n",
    "#for page in range(1,3): #182 pages\n",
    "  #wd.find_element_by_class_name('arrow_right').click()\n",
    "  #time.sleep(1)"
   ]
  },
  {
   "cell_type": "code",
   "execution_count": 3,
   "metadata": {
    "id": "nbpfIfY_lutF"
   },
   "outputs": [],
   "source": [
    "def get_resource(url):\n",
    "    while True:\n",
    "        try:\n",
    "            time.sleep(random.uniform(1, 5))\n",
    "            r = requests.get(url, headers=headers, timeout=5)\n",
    "            return r\n",
    "        except:\n",
    "            print(\"requests.get failed, so try again!\")\n",
    "            time.sleep(5)\n",
    "            continue\n",
    "        break"
   ]
  },
  {
   "cell_type": "code",
   "execution_count": 4,
   "metadata": {
    "id": "dZc6ntVB93le"
   },
   "outputs": [],
   "source": [
    "def parse_html(r):\n",
    "    if r.status_code == requests.codes.ok:\n",
    "        r.encoding = 'utf8'\n",
    "        soup = BeautifulSoup(r.text, 'lxml')\n",
    "    else:\n",
    "        print(\"Http請求錯誤: \"+url)\n",
    "        soup = None\n",
    "    return soup"
   ]
  },
  {
   "cell_type": "code",
   "execution_count": 5,
   "metadata": {
    "colab": {
     "base_uri": "https://localhost:8080/"
    },
    "id": "LJKuDTv5ikp9",
    "outputId": "e9d97381-0e80-48c8-b6b6-4c55323ba320"
   },
   "outputs": [
    {
     "name": "stdout",
     "output_type": "stream",
     "text": [
      "2c1742e91d724b0e8fab00fb3c1d9b4f\n",
      "47dcf7a30ac5418fb15006735c2c6ce4\n",
      "6a71f0431d744461bda606a95fa83f15\n",
      "c386ba0e3e384791a11910e945746536\n",
      "14f0e8945338441296201451df23bc9a\n",
      "be694589c9c64ddb87f61b9c2c45749e\n",
      "a47a3b8ca2aa4faf810a1f86c581a87d\n",
      "48d20f9e69d84701b8d02105b12e6dd7\n",
      "a92fa49f510f485bb284219b6426552e\n",
      "0e92d2fd6f884bd88adc233a53cd07bc\n",
      "338cffb2e5f34ee7a5d634a81684fdc0\n",
      "70d369b416874c94b5ff35242388b157\n",
      "0773d3a3bc664dde984539b8b3beeeb2\n",
      "5205411a16d6433a86b63c620f005db1\n",
      "72d09d7b85bb477483453e4e2f140a30\n",
      "a7c64907dc3f4377b14c4d879fb0dc64\n",
      "92b7444adc294d88bb50579f422d7cf2\n",
      "7cf2ab897cf34c8d89f46c22e2ca92b7\n",
      "882d1ad182e240f9b27c6f5ed03ccbd2\n",
      "1d9593bf109a4eb1b03671e0e4b0db80\n"
     ]
    }
   ],
   "source": [
    "#id\n",
    "r=requests.get(url,headers=headers)\n",
    "soup=BeautifulSoup(r.text,'lxml')\n",
    "\n",
    "id1=soup.find_all('a',class_='clean_a_tyle')\n",
    "for i in id1:\n",
    "    id=i.get('href')\n",
    "    print(id[28:])"
   ]
  },
  {
   "cell_type": "code",
   "execution_count": 6,
   "metadata": {
    "colab": {
     "base_uri": "https://localhost:8080/"
    },
    "id": "ktMK1puxX_lc",
    "outputId": "4e1f9faa-87dc-4ce5-8428-3c1251daa943"
   },
   "outputs": [
    {
     "name": "stdout",
     "output_type": "stream",
     "text": [
      "Toyota\n",
      "Volkswagen\n",
      "Toyota\n",
      "Mazda\n",
      "Ford\n",
      "Hyundai\n",
      "Honda\n",
      "Audi\n",
      "Luxgen\n",
      "Nissan\n",
      "Toyota\n",
      "Toyota\n",
      "Mitsubishi\n",
      "Volkswagen\n",
      "Toyota\n",
      "Mercedes-Benz\n",
      "Honda\n",
      "McLaren\n",
      "Honda\n",
      "Honda\n"
     ]
    }
   ],
   "source": [
    "for i in link_all:\n",
    "    r = get_resource(i)\n",
    "    soup = parse_html(r)\n",
    "\n",
    "    #car_brand\n",
    "    car_brand1 = soup.find_all('p', class_='object_product_title')\n",
    "    #car_brand2 = BeautifulSoup(str(car_brand1), 'html.parser')\n",
    "    #car_brand3 = car_brand2.find_all('p')\n",
    "    #main.append(car_brand3)\n",
    "    #main_all.append(main)\n",
    "    #main = []\n",
    "    for car_brand2 in car_brand1 :\n",
    "        car_brand2 = car_brand2.text.strip()\n",
    "        #main_all.append(car_brand2)\n",
    "    car_brand = car_brand2.split( )[0]\n",
    "    print(car_brand)"
   ]
  },
  {
   "cell_type": "code",
   "execution_count": null,
   "metadata": {
    "colab": {
     "base_uri": "https://localhost:8080/"
    },
    "id": "7jq0D40mY88Q",
    "outputId": "e08de16f-ac73-4e26-b12b-772c4173af09"
   },
   "outputs": [
    {
     "name": "stdout",
     "output_type": "stream",
     "text": [
      "Vios\n",
      "Golf\n",
      "Yaris\n",
      "CX-3\n",
      "Focus TDCI\n",
      "Porter\n",
      "City\n",
      "RS6\n",
      "S5\n",
      "Tiida\n",
      "Altis\n",
      "Auris\n",
      "Lancer Fortis\n",
      "Golf\n",
      "Vios\n",
      "S-Class\n",
      "Civic\n",
      "P1\n",
      "Odyssey\n",
      "HR-V\n"
     ]
    }
   ],
   "source": [
    "for i in link_all:\n",
    "    r = get_resource(i)\n",
    "    soup = parse_html(r)\n",
    "    #car_model\n",
    "    car_model1 = soup.find_all('p', class_='object_product_title')\n",
    "    car_model2 = BeautifulSoup(str(car_model1), 'html.parser')\n",
    "    #car_model3 = car_model2.find_all('p')\n",
    "    for car_model2 in car_model1 :\n",
    "        car_model2 = car_model2.text.strip()\n",
    "    car_model4 = car_model2.split( )[1:]\n",
    "    car_model = \" \".join(car_model4)\n",
    "    print(car_model)"
   ]
  },
  {
   "cell_type": "code",
   "execution_count": null,
   "metadata": {
    "colab": {
     "base_uri": "https://localhost:8080/"
    },
    "id": "Aktli_HjKHBq",
    "outputId": "562bc2a3-49d5-4dcc-c244-7eae4f8f0607"
   },
   "outputs": [
    {
     "name": "stdout",
     "output_type": "stream",
     "text": [
      "1,500 c.c.\n",
      "2,000 c.c.\n",
      "1,500 c.c.\n",
      "2,000 c.c.\n",
      "2,000 c.c.\n",
      "2,500 c.c.\n",
      "1,500 c.c.\n",
      "4,000 c.c.\n",
      "1,800 c.c.\n",
      "1,600 c.c.\n",
      "1,800 c.c.\n",
      "2,000 c.c.\n",
      "1,800 c.c.\n",
      "2,000 c.c.\n",
      "1,500 c.c.\n",
      "3,500 c.c.\n",
      "1,800 c.c.\n",
      "3,800 c.c.\n",
      "1,300 c.c.\n",
      "1,800 c.c.\n"
     ]
    }
   ],
   "source": [
    "for i in link_all:\n",
    "    r = get_resource(i)\n",
    "    soup = parse_html(r)\n",
    "    #car_cylinderVolume\n",
    "    car_cylinderVolume1 = soup.find_all('p', class_='object_product_cc')\n",
    "    car_cylinderVolume2 = BeautifulSoup(str(car_cylinderVolume1), 'html.parser')\n",
    "    #car_cylinderVolume3 = car_cylinderVolume2.find_all('p')\n",
    "    for car_cylinderVolume2 in car_cylinderVolume1 :\n",
    "        car_cylinderVolume = car_cylinderVolume2.text.strip()\n",
    "    print(car_cylinderVolume)"
   ]
  },
  {
   "cell_type": "code",
   "execution_count": null,
   "metadata": {
    "colab": {
     "base_uri": "https://localhost:8080/"
    },
    "id": "85C8mIwnQ3zD",
    "outputId": "4a61a3cc-f0c0-47c9-fad4-bdadd993b4fd"
   },
   "outputs": [
    {
     "name": "stdout",
     "output_type": "stream",
     "text": [
      "熱門中古車  零元帶回家\n",
      "熱門中古車  零元帶回家\n",
      "熱門中古車  零元帶回家\n",
      "熱門中古車  零元帶回家\n",
      "☆╮益群汽車╭☆15年FOCUS 柴油2.0 省油扭力大 一手車 全車原鈑件\n",
      "☆╮益群汽車╭☆~自排~稀有 2018年現代小霸王  POTER 商用貨車冷氣冷\n",
      "僅跑七千 一手車 原鈑件 原廠保養 里程保證 新車保固中\n",
      "豐群汽車 Audi RS6 Performance 2018年式 總代理\n",
      "熱門中古車  零元帶回家\n",
      "正19年 TIIDA 旗艦版 影音 I KEY 定速 原廠保固中 低里程 可全貸\n",
      "Altis/里程保證/原鈑件\n",
      "熱門中古車  零元帶回家\n",
      "大信SAVE 2011年 FORTIS 1.8 安卓影音+手自排 保證實車實價!\n",
      "熱門中古車  零元帶回家\n",
      "熱門中古車  零元帶回家\n",
      "古馳上實價全額刷卡2014年式BENZ S400 H 一手僅跑5萬逆變器保固全景\n",
      "熱門中古車  零元帶回家\n",
      "豐群汽車 McLaren P1 全球限量 空前絕後\n",
      "ODYSSEY/里程保證/原鈑件\n",
      "熱門中古車  零元帶回家\n"
     ]
    }
   ],
   "source": [
    "for i in link_all:\n",
    "    r = get_resource(i)\n",
    "    soup = parse_html(r)\n",
    "    #car_title\n",
    "    car_title1 = soup.find_all('p', class_='object_product_info')\n",
    "    car_title2 = BeautifulSoup(str(car_title1), 'html.parser')\n",
    "    for car_title2 in car_title1 :\n",
    "        car_title = car_title2.text.strip()\n",
    "    print(car_title)"
   ]
  },
  {
   "cell_type": "code",
   "execution_count": null,
   "metadata": {
    "colab": {
     "base_uri": "https://localhost:8080/"
    },
    "id": "3cJA-UznowuD",
    "outputId": "48c9fd2d-e497-4fb9-99ce-9f9177259c64"
   },
   "outputs": [
    {
     "name": "stdout",
     "output_type": "stream",
     "text": [
      "2011出廠\n",
      "2011出廠\n",
      "2015出廠\n",
      "2019出廠\n",
      "2015出廠\n",
      "2018出廠\n",
      "2020出廠\n",
      "2017出廠\n",
      "2017出廠\n",
      "2019出廠\n",
      "2017出廠\n",
      "2019出廠\n",
      "2011出廠\n",
      "2009出廠\n",
      "2005出廠\n",
      "2013出廠\n",
      "2012出廠\n",
      "2014出廠\n",
      "2015出廠\n",
      "2017出廠\n"
     ]
    }
   ],
   "source": [
    "for i in link_all:\n",
    "    r = get_resource(i)\n",
    "    soup = parse_html(r)\n",
    "    #car_year\n",
    "    car_year1 = soup.find_all('p', class_='object_product_year')\n",
    "    car_year2 = BeautifulSoup(str(car_year1), 'html.parser')\n",
    "    for car_year2 in car_year1 :\n",
    "        car_year = car_year2.text.strip()\n",
    "    print(car_year)"
   ]
  },
  {
   "cell_type": "code",
   "execution_count": null,
   "metadata": {
    "colab": {
     "base_uri": "https://localhost:8080/"
    },
    "id": "WAWBT4cPwUki",
    "outputId": "8966888f-c843-444f-9532-a5c6d0a905c3"
   },
   "outputs": [
    {
     "name": "stdout",
     "output_type": "stream",
     "text": [
      "198,000\n",
      "628,000\n",
      "388,000\n",
      "698,000\n",
      "368,000\n",
      "588,000\n",
      "538,000\n",
      "面議\n",
      "298,000\n",
      "458,000\n",
      "498,000\n",
      "798,000\n",
      "248,000\n",
      "498,000\n",
      "98,000\n",
      "1,499,000\n",
      "298,000\n",
      "面議\n",
      "1,030,000\n",
      "598,000\n"
     ]
    }
   ],
   "source": [
    "for i in link_all:\n",
    "    r = get_resource(i)\n",
    "    soup = parse_html(r)\n",
    "    #car_price\n",
    "    car_price1 = soup.find_all('p', class_='price')\n",
    "    car_price2 = BeautifulSoup(str(car_price1), 'html.parser')\n",
    "    for car_price2 in car_price1 :\n",
    "        car_price = car_price2.text.strip()\n",
    "    print(car_price)"
   ]
  },
  {
   "cell_type": "code",
   "execution_count": null,
   "metadata": {
    "colab": {
     "base_uri": "https://localhost:8080/"
    },
    "id": "35BcUIjrXiPr",
    "outputId": "f0e93405-ba5b-4c76-f7de-e9df2d7bdeee"
   },
   "outputs": [
    {
     "name": "stdout",
     "output_type": "stream",
     "text": [
      "力威汽車\n",
      "力威汽車\n",
      "力威汽車\n",
      "力威汽車\n",
      "益群汽車/新營區\n",
      "益群汽車/新營區\n",
      "SUM台新汽車-台南小林\n",
      "豐群汽車有限公司\n",
      "力威汽車\n",
      "超擎汽車\n",
      "台南東達汽車 台南百家好店 GOO好店\n",
      "力威汽車\n",
      "大信汽車-SAVE認證車聯盟\n",
      "力威汽車\n",
      "力威汽車\n",
      "古馳上Kawacar\n",
      "力威汽車\n",
      "豐群汽車有限公司\n",
      "台南東達汽車 台南百家好店 GOO好店\n",
      "力威汽車\n"
     ]
    }
   ],
   "source": [
    "for i in link_all:\n",
    "    r = get_resource(i)\n",
    "    soup = parse_html(r)\n",
    "    #dealer_name\n",
    "    dealer_name1 = soup.find_all('p', class_='info')\n",
    "    dealer_name2 = BeautifulSoup(str(dealer_name1), 'html.parser')\n",
    "    dealer_name3 = dealer_name2.find_all('a')[0]\n",
    "    dealer_name4 = []\n",
    "    for dealer_name3 in dealer_name1 :\n",
    "        dealer_name3 = dealer_name3.text.strip()\n",
    "        dealer_name4.append(str(dealer_name3))\n",
    "    dealer_name5 = dealer_name4[0]\n",
    "    dealer_name = dealer_name5.split('(')\n",
    "    print(dealer_name[0])"
   ]
  },
  {
   "cell_type": "code",
   "execution_count": 106,
   "metadata": {
    "id": "OwoIx2q4cZWT"
   },
   "outputs": [],
   "source": [
    "equipment_columns = ['ABS防鎖死煞車系統', 'CD音響', '真皮座椅', '天窗', 'HID氣體放電頭燈', '恆溫空調', 'keyless感應門鎖', '安全氣囊',\n",
    "                     '鋁合金軸圈', '停車雷達系統', '四輪傳動', '衛星導航設備', '內建整合式', '加裝式', '影音系統', '一般型', '多螢幕'] \n",
    "df = pd.DataFrame(columns=equipment_columns)\n",
    "\n",
    "for i in link_all[:3]:\n",
    "    df1 = pd.DataFrame([list([0]*len(equipment_columns))], columns=equipment_columns)\n",
    "    r = get_resource(i)\n",
    "    soup = parse_html(r)\n",
    "    #equipment\n",
    "    equipment1 = soup.find_all('div', class_='info_spec info_spec_n')\n",
    "    equipment2 = soup.find_all('div', class_='info_spec_non info_spec_n')\n",
    "    tmp = []\n",
    "    for j in equipment1:\n",
    "        tmp.append(j.text)\n",
    "    for k in equipment2:\n",
    "        tmp.append(k.text)   \n",
    "        for z in equipment_columns:\n",
    "            if z in tmp:\n",
    "                df1[z] = '1'\n",
    "            else:\n",
    "                df1[z] = '0'\n",
    "    df = df.append(df1, ignore_index=True)"
   ]
  },
  {
   "cell_type": "code",
   "execution_count": 107,
   "metadata": {},
   "outputs": [
    {
     "data": {
      "text/html": [
       "<div>\n",
       "<style scoped>\n",
       "    .dataframe tbody tr th:only-of-type {\n",
       "        vertical-align: middle;\n",
       "    }\n",
       "\n",
       "    .dataframe tbody tr th {\n",
       "        vertical-align: top;\n",
       "    }\n",
       "\n",
       "    .dataframe thead th {\n",
       "        text-align: right;\n",
       "    }\n",
       "</style>\n",
       "<table border=\"1\" class=\"dataframe\">\n",
       "  <thead>\n",
       "    <tr style=\"text-align: right;\">\n",
       "      <th></th>\n",
       "      <th>ABS防鎖死煞車系統</th>\n",
       "      <th>CD音響</th>\n",
       "      <th>真皮座椅</th>\n",
       "      <th>天窗</th>\n",
       "      <th>HID氣體放電頭燈</th>\n",
       "      <th>恆溫空調</th>\n",
       "      <th>keyless感應門鎖</th>\n",
       "      <th>安全氣囊</th>\n",
       "      <th>鋁合金軸圈</th>\n",
       "      <th>停車雷達系統</th>\n",
       "      <th>四輪傳動</th>\n",
       "      <th>衛星導航設備</th>\n",
       "      <th>內建整合式</th>\n",
       "      <th>加裝式</th>\n",
       "      <th>影音系統</th>\n",
       "      <th>一般型</th>\n",
       "      <th>多螢幕</th>\n",
       "    </tr>\n",
       "  </thead>\n",
       "  <tbody>\n",
       "    <tr>\n",
       "      <th>0</th>\n",
       "      <td>1</td>\n",
       "      <td>1</td>\n",
       "      <td>1</td>\n",
       "      <td>1</td>\n",
       "      <td>1</td>\n",
       "      <td>1</td>\n",
       "      <td>0</td>\n",
       "      <td>1</td>\n",
       "      <td>0</td>\n",
       "      <td>1</td>\n",
       "      <td>1</td>\n",
       "      <td>1</td>\n",
       "      <td>0</td>\n",
       "      <td>0</td>\n",
       "      <td>1</td>\n",
       "      <td>0</td>\n",
       "      <td>0</td>\n",
       "    </tr>\n",
       "    <tr>\n",
       "      <th>1</th>\n",
       "      <td>1</td>\n",
       "      <td>1</td>\n",
       "      <td>1</td>\n",
       "      <td>1</td>\n",
       "      <td>1</td>\n",
       "      <td>1</td>\n",
       "      <td>0</td>\n",
       "      <td>1</td>\n",
       "      <td>0</td>\n",
       "      <td>1</td>\n",
       "      <td>1</td>\n",
       "      <td>1</td>\n",
       "      <td>0</td>\n",
       "      <td>0</td>\n",
       "      <td>1</td>\n",
       "      <td>0</td>\n",
       "      <td>0</td>\n",
       "    </tr>\n",
       "    <tr>\n",
       "      <th>2</th>\n",
       "      <td>1</td>\n",
       "      <td>1</td>\n",
       "      <td>1</td>\n",
       "      <td>1</td>\n",
       "      <td>1</td>\n",
       "      <td>1</td>\n",
       "      <td>0</td>\n",
       "      <td>1</td>\n",
       "      <td>0</td>\n",
       "      <td>1</td>\n",
       "      <td>1</td>\n",
       "      <td>1</td>\n",
       "      <td>0</td>\n",
       "      <td>0</td>\n",
       "      <td>1</td>\n",
       "      <td>0</td>\n",
       "      <td>0</td>\n",
       "    </tr>\n",
       "  </tbody>\n",
       "</table>\n",
       "</div>"
      ],
      "text/plain": [
       "  ABS防鎖死煞車系統 CD音響 真皮座椅 天窗 HID氣體放電頭燈 恆溫空調 keyless感應門鎖 安全氣囊 鋁合金軸圈 停車雷達系統 四輪傳動  \\\n",
       "0          1    1    1  1         1    1           0    1     0      1    1   \n",
       "1          1    1    1  1         1    1           0    1     0      1    1   \n",
       "2          1    1    1  1         1    1           0    1     0      1    1   \n",
       "\n",
       "  衛星導航設備 內建整合式 加裝式 影音系統 一般型 多螢幕  \n",
       "0      1     0   0    1   0   0  \n",
       "1      1     0   0    1   0   0  \n",
       "2      1     0   0    1   0   0  "
      ]
     },
     "execution_count": 107,
     "metadata": {},
     "output_type": "execute_result"
    }
   ],
   "source": [
    "df"
   ]
  }
 ],
 "metadata": {
  "colab": {
   "authorship_tag": "ABX9TyME6zBXKxUGxiybK9u218b/",
   "collapsed_sections": [],
   "include_colab_link": true,
   "mount_file_id": "1jNApu1aprnU4AwGhCVzErCfw2xk5Hobx",
   "name": "Ucartest.ipynb",
   "provenance": []
  },
  "kernelspec": {
   "display_name": "Python 3",
   "language": "python",
   "name": "python3"
  },
  "language_info": {
   "codemirror_mode": {
    "name": "ipython",
    "version": 3
   },
   "file_extension": ".py",
   "mimetype": "text/x-python",
   "name": "python",
   "nbconvert_exporter": "python",
   "pygments_lexer": "ipython3",
   "version": "3.7.6"
  }
 },
 "nbformat": 4,
 "nbformat_minor": 1
}
