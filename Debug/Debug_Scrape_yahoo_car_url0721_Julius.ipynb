{
 "cells": [
  {
   "cell_type": "markdown",
   "id": "1b7d5697",
   "metadata": {
    "colab_type": "text",
    "id": "view-in-github"
   },
   "source": [
    "<a href=\"https://colab.research.google.com/github/lilychen0505/BDSE19_PROJECT/blob/JuliusChiang/Scrape_yahoo_car_url0721.ipynb\" target=\"_parent\"><img src=\"https://colab.research.google.com/assets/colab-badge.svg\" alt=\"Open In Colab\"/></a>"
   ]
  },
  {
   "cell_type": "code",
   "execution_count": 1,
   "id": "uKwbeSyk8lns",
   "metadata": {
    "id": "uKwbeSyk8lns"
   },
   "outputs": [],
   "source": [
    "import requests\n",
    "from bs4 import BeautifulSoup\n",
    "import numpy as np\n",
    "import pandas as pd\n",
    "import re\n",
    "import time\n",
    "import random\n",
    "from selenium import webdriver"
   ]
  },
  {
   "cell_type": "code",
   "execution_count": 8,
   "id": "DwLzUfvi80tw",
   "metadata": {
    "colab": {
     "base_uri": "https://localhost:8080/"
    },
    "id": "DwLzUfvi80tw",
    "outputId": "5c5652f1-8043-4a1d-f65b-cbbe4cee396b"
   },
   "outputs": [],
   "source": [
    "chrome_options = webdriver.ChromeOptions()\n",
    "chrome_options.add_argument('--headless')\n",
    "chrome_options.add_argument('--no-sandbox')\n",
    "chrome_options.add_argument('--disable-dev-shm-usage')\n",
    "wd = webdriver.Chrome('C:/Users/Lily/Desktop/Jupyter Workplace/BDSE19_PROJECT/chromedriver')"
   ]
  },
  {
   "cell_type": "code",
   "execution_count": 9,
   "id": "Z3ua8Sj1Ecjl",
   "metadata": {
    "id": "Z3ua8Sj1Ecjl"
   },
   "outputs": [],
   "source": [
    "\n",
    "#法二: 因有機車等雜訊，僅爬取汽車類，用網址分開爬取\n",
    "link_all = []\n",
    "number = list(range(2,30))\n",
    "\n",
    "for i in range(1,3):\n",
    "    #四門房車/旅行車/掀背車\n",
    "    url = f'https://tw.usedcar.yahoo.com/search?catb=&areab=&kw=&cata=000000515224&areaa=tw#!kw=&catid=&undedup=0&unspc=0&cata=000000515224&catb=000000515235&pricea=&priceb=&items=&areaa=tw&areab=&areac=&sort=0&cp={i}&ppa=30&pa=10&vmode=0'\n",
    "    #雙門轎跑/跑車/敞篷車\n",
    "    #url2 = f'https://tw.usedcar.yahoo.com/search?catb=&areab=&kw=&cata=000000515224&areaa=tw#!kw=&catid=&undedup=0&unspc=0&cata=000000515224&catb=15020649&pricea=&priceb=&items=&areaa=tw&areab=&areac=&sort=0&cp={i}&ppa=30&pa=10&vmode=0'\n",
    "    #休旅車/吉普車\n",
    "    #url3 = f'https://tw.usedcar.yahoo.com/search?catb=&areab=&kw=&cata=000000515224&areaa=tw#!kw=&catid=&undedup=0&unspc=0&cata=000000515224&catb=000000515236&pricea=&priceb=&items=&areaa=tw&areab=&areac=&sort=0&cp={i}&ppa=30&pa=10&vmode=0'\n",
    "    #商用車/貨卡車\n",
    "    #url4 = f'https://tw.usedcar.yahoo.com/search?catb=&areab=&kw=&cata=000000515224&areaa=tw#!kw=&catid=&undedup=0&unspc=0&cata=000000515224&catb=000000515237&pricea=&priceb=&items=&areaa=tw&areab=&areac=&sort=0&cp={i}&ppa=30&pa=10&vmode=0'\n",
    "    wd.get(url)\n",
    "    #wd.get(url1 + url2 + url3 + url4)\n",
    "    time.sleep(5)\n",
    "    for j in number:\n",
    "        for link in wd.find_elements_by_xpath(f'//*[@id=\"ycsrpresult\"]/li[{j}]/div/div[2]/p[1]/a'):\n",
    "            link_all.append(link.get_attribute('href')) \n",
    "wd.close()"
   ]
  },
  {
   "cell_type": "code",
   "execution_count": 25,
   "id": "urb_UNwMyHO0",
   "metadata": {
    "colab": {
     "base_uri": "https://localhost:8080/",
     "height": 270
    },
    "id": "urb_UNwMyHO0",
    "outputId": "1259ebb2-1f94-4e02-c665-8a104d2bb30a"
   },
   "outputs": [
    {
     "name": "stdout",
     "output_type": "stream",
     "text": [
      "https://ct.yimg.com/xd/api/res/1.2/nxKFNVHExirs1JYCh.aptg--/YXBwaWQ9eXR3YXVjdGlvbnNlcnZpY2U7aD0yNzA7cT04NTtyb3RhdGU9YXV0bztzcj0xLjI7c3M9MS4yO3c9MzQz/https://s.yimg.com/ob/image/cbd8b6e2-2742-4f22-80c2-2e93cfb74234.jpg\n",
      "https://ct.yimg.com/xd/api/res/1.2/sT7XqAGRhBiKqocDHwKPAA--/YXBwaWQ9eXR3YXVjdGlvbnNlcnZpY2U7aD0yNzA7cT04NTtyb3RhdGU9YXV0bztzcj0xLjI7c3M9MS4yO3c9MzYw/https://s.yimg.com/ob/image/b45d5769-aace-49a2-bc39-a0c850549d2a.jpg\n",
      "https://ct.yimg.com/xd/api/res/1.2/gv6CJxn.852iJlk_Ry0KiA--/YXBwaWQ9eXR3YXVjdGlvbnNlcnZpY2U7aD0yNzA7cT04NTtyb3RhdGU9YXV0bztzcj0xLjI7c3M9MS4yO3c9MzYw/https://s.yimg.com/ob/image/14076189-2b67-4f6e-8bb1-a475d3506d86.jpg\n",
      "https://ct.yimg.com/xd/api/res/1.2/Cj3QtpMnChHJsu4mMT4EPw--/YXBwaWQ9eXR3YXVjdGlvbnNlcnZpY2U7aD0yMzk7cT04NTtyb3RhdGU9YXV0bztzcj0xLjI7c3M9MS4yO3c9MzYw/https://s.yimg.com/ob/image/abd697ec-72c1-4b9d-946b-83246bf1894c.jpg\n",
      "https://ct.yimg.com/xd/api/res/1.2/YPxa9UVnn6QPkfqZ3OKmWw--/YXBwaWQ9eXR3YXVjdGlvbnNlcnZpY2U7aD0yNzA7cT04NTtyb3RhdGU9YXV0bztzcj0xLjI7c3M9MS4yO3c9MzYw/https://s.yimg.com/ob/image/f98c5d77-fe63-43e0-9c8c-0b0e4d5f4adf.jpg\n"
     ]
    }
   ],
   "source": [
    "# chrome_options = webdriver.ChromeOptions()\n",
    "# chrome_options.add_argument('--headless')\n",
    "# chrome_options.add_argument('--no-sandbox')\n",
    "# chrome_options.add_argument('--disable-dev-shm-usage')\n",
    "# wd = webdriver.Chrome('chromedriver',chrome_options=chrome_options)\n",
    "\n",
    "for url1 in link_all[:5]:\n",
    "    #print(url)\n",
    "    r=requests.get(url1)\n",
    "    soup=BeautifulSoup(r.text,'lxml')  \n",
    "    #照片網址        \n",
    "    photo = soup.find('div', class_=\"imgwrap\").img.get('src')\n",
    "    print(photo)"
   ]
  }
 ],
 "metadata": {
  "colab": {
   "collapsed_sections": [],
   "include_colab_link": true,
   "name": "Scrape_yahoo_car_url0720.ipynb",
   "provenance": []
  },
  "kernelspec": {
   "display_name": "Python 3",
   "language": "python",
   "name": "python3"
  },
  "language_info": {
   "codemirror_mode": {
    "name": "ipython",
    "version": 3
   },
   "file_extension": ".py",
   "mimetype": "text/x-python",
   "name": "python",
   "nbconvert_exporter": "python",
   "pygments_lexer": "ipython3",
   "version": "3.7.6"
  }
 },
 "nbformat": 4,
 "nbformat_minor": 5
}
